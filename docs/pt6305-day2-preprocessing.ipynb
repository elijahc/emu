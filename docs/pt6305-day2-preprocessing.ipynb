{
 "cells": [
  {
   "cell_type": "markdown",
   "metadata": {},
   "source": [
    "# PDil - Pipeline preprocessing\n",
    "\n",
    "End-to-end example convertinng pt6305 raw data to nwb"
   ]
  },
  {
   "cell_type": "code",
   "execution_count": 1,
   "metadata": {},
   "outputs": [],
   "source": [
    "import os\n",
    "import warnings\n",
    "import numpy as np\n",
    "import luigi\n",
    "import emu.neuralynx_io as nlx\n",
    "from emu.pdil.raw import Electrophysiology,Participant,points_to_choice\n",
    "from emu.neuralynx_io import nev_as_records\n",
    "from emu.nwb import nlx_to_nwb\n",
    "from emu.pipeline.remote import RemoteCSV\n",
    "from emu.pipeline.download import ExperimentManifest\n",
    "from pynwb import TimeSeries, NWBFile,NWBHDF5IO\n",
    "from pynwb.ecephys import ElectricalSeries\n",
    "from pynwb.misc import AnnotationSeries\n",
    "import pandas as pd\n",
    "import datetime\n",
    "import glob\n",
    "\n",
    "from tqdm import tqdm_notebook as tqdm"
   ]
  },
  {
   "cell_type": "code",
   "execution_count": 2,
   "metadata": {},
   "outputs": [],
   "source": [
    "all_files = ExperimentManifest(study='pdil').load()"
   ]
  },
  {
   "cell_type": "code",
   "execution_count": 3,
   "metadata": {
    "scrolled": true
   },
   "outputs": [
    {
     "name": "stdout",
     "output_type": "stream",
     "text": [
      "nev path:  /home/elijahc/.emu/pdil/pt_6305/SEEG/raw/PO_Day_02.Events.nev\n",
      "ncs_paths:\n",
      "/home/elijahc/.emu/pdil/pt_6305/SEEG/raw/PO_Day_02.CSC100_0007.ncs\n",
      "/home/elijahc/.emu/pdil/pt_6305/SEEG/raw/PO_Day_02.CSC101_0007.ncs\n",
      "/home/elijahc/.emu/pdil/pt_6305/SEEG/raw/PO_Day_02.CSC102_0007.ncs\n",
      "/home/elijahc/.emu/pdil/pt_6305/SEEG/raw/PO_Day_02.CSC103_0007.ncs\n",
      "/home/elijahc/.emu/pdil/pt_6305/SEEG/raw/PO_Day_02.CSC104_0007.ncs\n",
      "/home/elijahc/.emu/pdil/pt_6305/SEEG/raw/PO_Day_02.CSC105_0007.ncs\n",
      "/home/elijahc/.emu/pdil/pt_6305/SEEG/raw/PO_Day_02.CSC106_0007.ncs\n",
      "/home/elijahc/.emu/pdil/pt_6305/SEEG/raw/PO_Day_02.CSC107_0007.ncs\n",
      "/home/elijahc/.emu/pdil/pt_6305/SEEG/raw/PO_Day_02.CSC108_0007.ncs\n",
      "/home/elijahc/.emu/pdil/pt_6305/SEEG/raw/PO_Day_02.CSC109_0007.ncs\n"
     ]
    }
   ],
   "source": [
    "seeg_root = os.path.expanduser('/home/elijahc/.emu/pdil/pt_6305/SEEG/raw')\n",
    "\n",
    "nev_path = os.path.expanduser('/home/elijahc/.emu/pdil/pt_6305/SEEG/raw/PO_Day_02.Events.nev')\n",
    "ncs_paths = sorted(glob.glob(os.path.join(seeg_root,'PO_Day_02.*.ncs')))\n",
    "\n",
    "# ncs = nlx.load_ncs()\n",
    "print('nev path: ',nev_path)\n",
    "print('ncs_paths:')\n",
    "for p in ncs_paths[:10]:\n",
    "    print(p)"
   ]
  },
  {
   "cell_type": "code",
   "execution_count": 4,
   "metadata": {},
   "outputs": [],
   "source": [
    "p = Participant(patient_id=6305,raw_files=all_files,seeg_raw_path=seeg_root)"
   ]
  },
  {
   "cell_type": "markdown",
   "metadata": {},
   "source": [
    "The [Participant](https://github.com/elijahc/emu/blob/3b240fbe8bfd4363ceadcf152dc6811c63493a3a/emu/pdil/raw.py#L221) class provides helper functions for managing all the raw data collected from a single patient\n",
    "\n",
    "`Participant.cache_behavior()` returns a list of BehaviorRaw luigi tasks to fetch every raw behavior data.\n",
    "\n",
    "- `BehaviorRaw.output().path` stores the path to where its file *should* exist locally.\n",
    "- `BehaviorRaw.output().exists()` with retrn True if the file specified by `path` exists.\n",
    "\n",
    "```python\n",
    "def cache_behavior(self,verbose=False):\n",
    "    for i,row in self.behavior_files.iterrows():\n",
    "        t = BehaviorRaw(\n",
    "            patient_id=row.patient_id,\n",
    "            file_id=row.id,\n",
    "            file_name=row.filename,\n",
    "            save_to=self.behavior_raw_path,\n",
    "        )\n",
    "        yield t\n",
    "```\n",
    "\n",
    "- `Participant.load_game_data()` and `Participant.load_pdil_events()` will load mat files containing outcomes from the [pdil game](https://github.com/elijahc/emu/tree/master/PDil) implemented in psych toolbox as well as tic-toc timing of each screen and keypress which we'll sync to ephys data."
   ]
  },
  {
   "cell_type": "markdown",
   "metadata": {},
   "source": [
    "- `Participant.load_pdil_events()` and `Participant.load_game_data()` are generators that both use `cache_behavior()` to ensure all behavior files have been downloaded before trying to extract data from them.\n",
    "\n",
    "```python\n",
    "def load_pdil_events(self):\n",
    "    tasks = list(self.cache_behavior())\n",
    "    missing_tasks = [t for t in tasks if not t.output().exists()]\n",
    "    print('{} missing tasks'.format(len(missing_tasks)))\n",
    "\n",
    "    if len(missing_tasks) > 0:\n",
    "        luigi.build(missing_tasks,local_scheduler=local_scheduler)\n",
    "\n",
    "   ...\n",
    "```\n",
    " \n",
    " - Both behavior load functions are python generators which will `yield` a pandas DataFrame for each block\n",
    " \n",
    " - If you wrap the function call in pd.concat(), to get a combined DataFrame across all blocks"
   ]
  },
  {
   "cell_type": "code",
   "execution_count": 5,
   "metadata": {},
   "outputs": [
    {
     "data": {
      "text/html": [
       "<div>\n",
       "<style scoped>\n",
       "    .dataframe tbody tr th:only-of-type {\n",
       "        vertical-align: middle;\n",
       "    }\n",
       "\n",
       "    .dataframe tbody tr th {\n",
       "        vertical-align: top;\n",
       "    }\n",
       "\n",
       "    .dataframe thead th {\n",
       "        text-align: right;\n",
       "    }\n",
       "</style>\n",
       "<table border=\"1\" class=\"dataframe\">\n",
       "  <thead>\n",
       "    <tr style=\"text-align: right;\">\n",
       "      <th></th>\n",
       "      <th>Unnamed: 0</th>\n",
       "      <th>filename</th>\n",
       "      <th>id</th>\n",
       "      <th>type</th>\n",
       "      <th>folder</th>\n",
       "      <th>patient_id</th>\n",
       "    </tr>\n",
       "  </thead>\n",
       "  <tbody>\n",
       "    <tr>\n",
       "      <th>749</th>\n",
       "      <td>749</td>\n",
       "      <td>pt01_blockNum_1_computerTT_coop_taskoutput.mat</td>\n",
       "      <td>628721484958</td>\n",
       "      <td>Behavior</td>\n",
       "      <td>pt_01_postOpDay2_PDil</td>\n",
       "      <td>6305</td>\n",
       "    </tr>\n",
       "    <tr>\n",
       "      <th>750</th>\n",
       "      <td>750</td>\n",
       "      <td>pt01_blockNum_2_humanTT_coop_taskoutput.mat</td>\n",
       "      <td>628728186668</td>\n",
       "      <td>Behavior</td>\n",
       "      <td>pt_01_postOpDay2_PDil</td>\n",
       "      <td>6305</td>\n",
       "    </tr>\n",
       "    <tr>\n",
       "      <th>751</th>\n",
       "      <td>751</td>\n",
       "      <td>pt01_PRACTICE_blockNum_0 _taskoutput.mat</td>\n",
       "      <td>628698648907</td>\n",
       "      <td>Behavior</td>\n",
       "      <td>pt_01_postOpDay2_PDil</td>\n",
       "      <td>6305</td>\n",
       "    </tr>\n",
       "    <tr>\n",
       "      <th>754</th>\n",
       "      <td>754</td>\n",
       "      <td>pt01_blockNum_3_computerTT_defect_taskoutput.mat</td>\n",
       "      <td>629615908637</td>\n",
       "      <td>Behavior</td>\n",
       "      <td>pt_01_postOpDay4_PDil</td>\n",
       "      <td>6305</td>\n",
       "    </tr>\n",
       "    <tr>\n",
       "      <th>755</th>\n",
       "      <td>755</td>\n",
       "      <td>pt01_blockNum_4_humanTT_defect_taskoutput.mat</td>\n",
       "      <td>629620274728</td>\n",
       "      <td>Behavior</td>\n",
       "      <td>pt_01_postOpDay4_PDil</td>\n",
       "      <td>6305</td>\n",
       "    </tr>\n",
       "    <tr>\n",
       "      <th>756</th>\n",
       "      <td>756</td>\n",
       "      <td>pt01_blockNum_5_humanTT_coop_taskoutput.mat</td>\n",
       "      <td>629611713944</td>\n",
       "      <td>Behavior</td>\n",
       "      <td>pt_01_postOpDay4_PDil</td>\n",
       "      <td>6305</td>\n",
       "    </tr>\n",
       "    <tr>\n",
       "      <th>757</th>\n",
       "      <td>757</td>\n",
       "      <td>pt01_blockNum_6_computerTT_coop_taskoutput.mat</td>\n",
       "      <td>629611688205</td>\n",
       "      <td>Behavior</td>\n",
       "      <td>pt_01_postOpDay4_PDil</td>\n",
       "      <td>6305</td>\n",
       "    </tr>\n",
       "  </tbody>\n",
       "</table>\n",
       "</div>"
      ],
      "text/plain": [
       "     Unnamed: 0                                          filename  \\\n",
       "749         749    pt01_blockNum_1_computerTT_coop_taskoutput.mat   \n",
       "750         750       pt01_blockNum_2_humanTT_coop_taskoutput.mat   \n",
       "751         751          pt01_PRACTICE_blockNum_0 _taskoutput.mat   \n",
       "754         754  pt01_blockNum_3_computerTT_defect_taskoutput.mat   \n",
       "755         755     pt01_blockNum_4_humanTT_defect_taskoutput.mat   \n",
       "756         756       pt01_blockNum_5_humanTT_coop_taskoutput.mat   \n",
       "757         757    pt01_blockNum_6_computerTT_coop_taskoutput.mat   \n",
       "\n",
       "               id      type                 folder  patient_id  \n",
       "749  628721484958  Behavior  pt_01_postOpDay2_PDil        6305  \n",
       "750  628728186668  Behavior  pt_01_postOpDay2_PDil        6305  \n",
       "751  628698648907  Behavior  pt_01_postOpDay2_PDil        6305  \n",
       "754  629615908637  Behavior  pt_01_postOpDay4_PDil        6305  \n",
       "755  629620274728  Behavior  pt_01_postOpDay4_PDil        6305  \n",
       "756  629611713944  Behavior  pt_01_postOpDay4_PDil        6305  \n",
       "757  629611688205  Behavior  pt_01_postOpDay4_PDil        6305  "
      ]
     },
     "execution_count": 5,
     "metadata": {},
     "output_type": "execute_result"
    }
   ],
   "source": [
    "p.behavior_files"
   ]
  },
  {
   "cell_type": "code",
   "execution_count": 6,
   "metadata": {},
   "outputs": [
    {
     "name": "stdout",
     "output_type": "stream",
     "text": [
      "0 missing tasks\n"
     ]
    },
    {
     "data": {
      "text/html": [
       "<div>\n",
       "<style scoped>\n",
       "    .dataframe tbody tr th:only-of-type {\n",
       "        vertical-align: middle;\n",
       "    }\n",
       "\n",
       "    .dataframe tbody tr th {\n",
       "        vertical-align: top;\n",
       "    }\n",
       "\n",
       "    .dataframe thead th {\n",
       "        text-align: right;\n",
       "    }\n",
       "</style>\n",
       "<table border=\"1\" class=\"dataframe\">\n",
       "  <thead>\n",
       "    <tr style=\"text-align: right;\">\n",
       "      <th></th>\n",
       "      <th>event</th>\n",
       "      <th>event_delta</th>\n",
       "      <th>screen</th>\n",
       "      <th>trial</th>\n",
       "      <th>block</th>\n",
       "      <th>ttl_delta</th>\n",
       "    </tr>\n",
       "  </thead>\n",
       "  <tbody>\n",
       "    <tr>\n",
       "      <th>0</th>\n",
       "      <td>trial_start</td>\n",
       "      <td>0.000000</td>\n",
       "      <td>NaN</td>\n",
       "      <td>0</td>\n",
       "      <td>1</td>\n",
       "      <td>0.000000</td>\n",
       "    </tr>\n",
       "    <tr>\n",
       "      <th>1</th>\n",
       "      <td>render_screen1</td>\n",
       "      <td>1.568142</td>\n",
       "      <td>1</td>\n",
       "      <td>1</td>\n",
       "      <td>1</td>\n",
       "      <td>1.568142</td>\n",
       "    </tr>\n",
       "    <tr>\n",
       "      <th>2</th>\n",
       "      <td>keypress1</td>\n",
       "      <td>1.951420</td>\n",
       "      <td>1</td>\n",
       "      <td>1</td>\n",
       "      <td>1</td>\n",
       "      <td>3.519562</td>\n",
       "    </tr>\n",
       "    <tr>\n",
       "      <th>3</th>\n",
       "      <td>render_screen2</td>\n",
       "      <td>1.564397</td>\n",
       "      <td>2</td>\n",
       "      <td>1</td>\n",
       "      <td>1</td>\n",
       "      <td>5.083959</td>\n",
       "    </tr>\n",
       "    <tr>\n",
       "      <th>4</th>\n",
       "      <td>keypress2</td>\n",
       "      <td>2.274455</td>\n",
       "      <td>2</td>\n",
       "      <td>1</td>\n",
       "      <td>1</td>\n",
       "      <td>7.358413</td>\n",
       "    </tr>\n",
       "  </tbody>\n",
       "</table>\n",
       "</div>"
      ],
      "text/plain": [
       "            event  event_delta screen  trial  block  ttl_delta\n",
       "0     trial_start     0.000000    NaN      0      1   0.000000\n",
       "1  render_screen1     1.568142      1      1      1   1.568142\n",
       "2       keypress1     1.951420      1      1      1   3.519562\n",
       "3  render_screen2     1.564397      2      1      1   5.083959\n",
       "4       keypress2     2.274455      2      1      1   7.358413"
      ]
     },
     "execution_count": 6,
     "metadata": {},
     "output_type": "execute_result"
    }
   ],
   "source": [
    "pd.concat(p.load_pdil_events(local_scheduler=True)).head()"
   ]
  },
  {
   "cell_type": "markdown",
   "metadata": {},
   "source": [
    "- `Participant.cache_nev()` and `Participant.cache_ncs()` are the sEEG analogues of `cache_behavior()` and basically do the same thing for the neuralynx channel files (.ncs) which store lfp traces and event files (.nev) which store timestamped ttls sent by the pdil task."
   ]
  },
  {
   "cell_type": "code",
   "execution_count": 7,
   "metadata": {},
   "outputs": [
    {
     "name": "stdout",
     "output_type": "stream",
     "text": [
      "0 missing tasks\n"
     ]
    },
    {
     "data": {
      "text/html": [
       "<div>\n",
       "<style scoped>\n",
       "    .dataframe tbody tr th:only-of-type {\n",
       "        vertical-align: middle;\n",
       "    }\n",
       "\n",
       "    .dataframe tbody tr th {\n",
       "        vertical-align: top;\n",
       "    }\n",
       "\n",
       "    .dataframe thead th {\n",
       "        text-align: right;\n",
       "    }\n",
       "</style>\n",
       "<table border=\"1\" class=\"dataframe\">\n",
       "  <thead>\n",
       "    <tr style=\"text-align: right;\">\n",
       "      <th></th>\n",
       "      <th>event</th>\n",
       "      <th>event_delta</th>\n",
       "      <th>screen</th>\n",
       "      <th>trial</th>\n",
       "      <th>block</th>\n",
       "      <th>ttl_delta</th>\n",
       "    </tr>\n",
       "  </thead>\n",
       "  <tbody>\n",
       "    <tr>\n",
       "      <th>0</th>\n",
       "      <td>trial_start</td>\n",
       "      <td>0.000000</td>\n",
       "      <td>NaN</td>\n",
       "      <td>0</td>\n",
       "      <td>1</td>\n",
       "      <td>0.000000</td>\n",
       "    </tr>\n",
       "    <tr>\n",
       "      <th>1</th>\n",
       "      <td>render_screen1</td>\n",
       "      <td>1.568142</td>\n",
       "      <td>1</td>\n",
       "      <td>1</td>\n",
       "      <td>1</td>\n",
       "      <td>1.568142</td>\n",
       "    </tr>\n",
       "    <tr>\n",
       "      <th>2</th>\n",
       "      <td>keypress1</td>\n",
       "      <td>1.951420</td>\n",
       "      <td>1</td>\n",
       "      <td>1</td>\n",
       "      <td>1</td>\n",
       "      <td>3.519562</td>\n",
       "    </tr>\n",
       "    <tr>\n",
       "      <th>3</th>\n",
       "      <td>render_screen2</td>\n",
       "      <td>1.564397</td>\n",
       "      <td>2</td>\n",
       "      <td>1</td>\n",
       "      <td>1</td>\n",
       "      <td>5.083959</td>\n",
       "    </tr>\n",
       "    <tr>\n",
       "      <th>4</th>\n",
       "      <td>keypress2</td>\n",
       "      <td>2.274455</td>\n",
       "      <td>2</td>\n",
       "      <td>1</td>\n",
       "      <td>1</td>\n",
       "      <td>7.358413</td>\n",
       "    </tr>\n",
       "    <tr>\n",
       "      <th>...</th>\n",
       "      <td>...</td>\n",
       "      <td>...</td>\n",
       "      <td>...</td>\n",
       "      <td>...</td>\n",
       "      <td>...</td>\n",
       "      <td>...</td>\n",
       "    </tr>\n",
       "    <tr>\n",
       "      <th>146</th>\n",
       "      <td>keypress3</td>\n",
       "      <td>1.901004</td>\n",
       "      <td>3</td>\n",
       "      <td>15</td>\n",
       "      <td>6</td>\n",
       "      <td>222.419018</td>\n",
       "    </tr>\n",
       "    <tr>\n",
       "      <th>147</th>\n",
       "      <td>render_screen4</td>\n",
       "      <td>1.548549</td>\n",
       "      <td>4</td>\n",
       "      <td>15</td>\n",
       "      <td>6</td>\n",
       "      <td>223.967568</td>\n",
       "    </tr>\n",
       "    <tr>\n",
       "      <th>148</th>\n",
       "      <td>keypress4</td>\n",
       "      <td>1.110800</td>\n",
       "      <td>4</td>\n",
       "      <td>15</td>\n",
       "      <td>6</td>\n",
       "      <td>225.078367</td>\n",
       "    </tr>\n",
       "    <tr>\n",
       "      <th>149</th>\n",
       "      <td>render_screen5</td>\n",
       "      <td>1.588783</td>\n",
       "      <td>5</td>\n",
       "      <td>15</td>\n",
       "      <td>6</td>\n",
       "      <td>226.667150</td>\n",
       "    </tr>\n",
       "    <tr>\n",
       "      <th>150</th>\n",
       "      <td>keypress5</td>\n",
       "      <td>0.914512</td>\n",
       "      <td>5</td>\n",
       "      <td>15</td>\n",
       "      <td>6</td>\n",
       "      <td>227.581662</td>\n",
       "    </tr>\n",
       "  </tbody>\n",
       "</table>\n",
       "<p>987 rows × 6 columns</p>\n",
       "</div>"
      ],
      "text/plain": [
       "              event  event_delta screen  trial  block   ttl_delta\n",
       "0       trial_start     0.000000    NaN      0      1    0.000000\n",
       "1    render_screen1     1.568142      1      1      1    1.568142\n",
       "2         keypress1     1.951420      1      1      1    3.519562\n",
       "3    render_screen2     1.564397      2      1      1    5.083959\n",
       "4         keypress2     2.274455      2      1      1    7.358413\n",
       "..              ...          ...    ...    ...    ...         ...\n",
       "146       keypress3     1.901004      3     15      6  222.419018\n",
       "147  render_screen4     1.548549      4     15      6  223.967568\n",
       "148       keypress4     1.110800      4     15      6  225.078367\n",
       "149  render_screen5     1.588783      5     15      6  226.667150\n",
       "150       keypress5     0.914512      5     15      6  227.581662\n",
       "\n",
       "[987 rows x 6 columns]"
      ]
     },
     "execution_count": 7,
     "metadata": {},
     "output_type": "execute_result"
    }
   ],
   "source": [
    "pd.concat(p.load_pdil_events(local_scheduler=True))"
   ]
  },
  {
   "cell_type": "code",
   "execution_count": 8,
   "metadata": {},
   "outputs": [
    {
     "name": "stdout",
     "output_type": "stream",
     "text": [
      "['PO_Day_02.CSC100_0007.ncs', 'PO_Day_02.CSC101_0007.ncs', 'PO_Day_02.CSC102_0007.ncs', 'PO_Day_02.CSC103_0007.ncs', 'PO_Day_02.CSC104_0007.ncs', 'PO_Day_02.CSC105_0007.ncs', 'PO_Day_02.CSC106_0007.ncs', 'PO_Day_02.CSC107_0007.ncs', 'PO_Day_02.CSC108_0007.ncs', 'PO_Day_02.CSC109_0007.ncs'] \n",
      "\n",
      "NLXRaw(file=/.emu/pdil/pt_6305/SEEG/raw/PO_Day_02.Events_0007.nev)\n"
     ]
    }
   ],
   "source": [
    "# Create a list of download tasks for the POD2 ncs files\n",
    "# These files have a _0007 \n",
    "d2_ncs_tasks = [t for t in p.cache_ncs() if 'PO_Day_02' in t.file_name and '0007' in t.file_name]\n",
    "d2_ncs_paths = [t.output().path for t in d2_ncs_tasks]\n",
    "\n",
    "print([t.file_name for t in d2_ncs_tasks[:10]],'\\n')\n",
    "\n",
    "\n",
    "# Create a list of download tasks for the POD4 nev files\n",
    "d2_nev = [t for t in p.cache_nev() if 'PO_Day_02' in t.file_name and '0007' in t.file_name][0]\n",
    "print(d2_nev)"
   ]
  },
  {
   "cell_type": "code",
   "execution_count": 9,
   "metadata": {},
   "outputs": [
    {
     "data": {
      "text/plain": [
       "True"
      ]
     },
     "execution_count": 9,
     "metadata": {},
     "output_type": "execute_result"
    }
   ],
   "source": [
    "luigi.build(d2_ncs_tasks+[d2_nev],workers=4)"
   ]
  },
  {
   "cell_type": "code",
   "execution_count": 10,
   "metadata": {},
   "outputs": [
    {
     "data": {
      "text/plain": [
       "['/home/elijahc/.emu/pdil/pt_6305/SEEG/raw/PO_Day_02.CSC105_0007.ncs']"
      ]
     },
     "execution_count": 10,
     "metadata": {},
     "output_type": "execute_result"
    }
   ],
   "source": [
    "[p for p in d2_ncs_paths if 'CSC105' in p]"
   ]
  },
  {
   "cell_type": "code",
   "execution_count": 11,
   "metadata": {},
   "outputs": [
    {
     "data": {
      "text/html": [
       "<div>\n",
       "<style scoped>\n",
       "    .dataframe tbody tr th:only-of-type {\n",
       "        vertical-align: middle;\n",
       "    }\n",
       "\n",
       "    .dataframe tbody tr th {\n",
       "        vertical-align: top;\n",
       "    }\n",
       "\n",
       "    .dataframe thead th {\n",
       "        text-align: right;\n",
       "    }\n",
       "</style>\n",
       "<table border=\"1\" class=\"dataframe\">\n",
       "  <thead>\n",
       "    <tr style=\"text-align: right;\">\n",
       "      <th></th>\n",
       "      <th>chan_num</th>\n",
       "      <th>electrode</th>\n",
       "      <th>wire_num</th>\n",
       "      <th>anat_sh</th>\n",
       "      <th>anat_lg</th>\n",
       "    </tr>\n",
       "  </thead>\n",
       "  <tbody>\n",
       "    <tr>\n",
       "      <th>0</th>\n",
       "      <td>1</td>\n",
       "      <td>1</td>\n",
       "      <td>1</td>\n",
       "      <td>LOF</td>\n",
       "      <td>L.Orbital.Frontal</td>\n",
       "    </tr>\n",
       "    <tr>\n",
       "      <th>1</th>\n",
       "      <td>2</td>\n",
       "      <td>2</td>\n",
       "      <td>1</td>\n",
       "      <td>LOF</td>\n",
       "      <td>L.Orbital.Frontal</td>\n",
       "    </tr>\n",
       "    <tr>\n",
       "      <th>2</th>\n",
       "      <td>3</td>\n",
       "      <td>3</td>\n",
       "      <td>1</td>\n",
       "      <td>LOF</td>\n",
       "      <td>L.Orbital.Frontal</td>\n",
       "    </tr>\n",
       "    <tr>\n",
       "      <th>3</th>\n",
       "      <td>4</td>\n",
       "      <td>4</td>\n",
       "      <td>1</td>\n",
       "      <td>LOF</td>\n",
       "      <td>L.Orbital.Frontal</td>\n",
       "    </tr>\n",
       "    <tr>\n",
       "      <th>4</th>\n",
       "      <td>5</td>\n",
       "      <td>5</td>\n",
       "      <td>1</td>\n",
       "      <td>LOF</td>\n",
       "      <td>L.Orbital.Frontal</td>\n",
       "    </tr>\n",
       "    <tr>\n",
       "      <th>...</th>\n",
       "      <td>...</td>\n",
       "      <td>...</td>\n",
       "      <td>...</td>\n",
       "      <td>...</td>\n",
       "      <td>...</td>\n",
       "    </tr>\n",
       "    <tr>\n",
       "      <th>173</th>\n",
       "      <td>174</td>\n",
       "      <td>4</td>\n",
       "      <td>15</td>\n",
       "      <td>RPT</td>\n",
       "      <td>R.Par.Temp</td>\n",
       "    </tr>\n",
       "    <tr>\n",
       "      <th>174</th>\n",
       "      <td>175</td>\n",
       "      <td>5</td>\n",
       "      <td>15</td>\n",
       "      <td>RPT</td>\n",
       "      <td>R.Par.Temp</td>\n",
       "    </tr>\n",
       "    <tr>\n",
       "      <th>175</th>\n",
       "      <td>176</td>\n",
       "      <td>6</td>\n",
       "      <td>15</td>\n",
       "      <td>RPT</td>\n",
       "      <td>R.Par.Temp</td>\n",
       "    </tr>\n",
       "    <tr>\n",
       "      <th>176</th>\n",
       "      <td>177</td>\n",
       "      <td>7</td>\n",
       "      <td>15</td>\n",
       "      <td>RPT</td>\n",
       "      <td>R.Par.Temp</td>\n",
       "    </tr>\n",
       "    <tr>\n",
       "      <th>177</th>\n",
       "      <td>178</td>\n",
       "      <td>8</td>\n",
       "      <td>15</td>\n",
       "      <td>RPT</td>\n",
       "      <td>R.Par.Temp</td>\n",
       "    </tr>\n",
       "  </tbody>\n",
       "</table>\n",
       "<p>178 rows × 5 columns</p>\n",
       "</div>"
      ],
      "text/plain": [
       "     chan_num  electrode  wire_num anat_sh            anat_lg\n",
       "0           1          1         1     LOF  L.Orbital.Frontal\n",
       "1           2          2         1     LOF  L.Orbital.Frontal\n",
       "2           3          3         1     LOF  L.Orbital.Frontal\n",
       "3           4          4         1     LOF  L.Orbital.Frontal\n",
       "4           5          5         1     LOF  L.Orbital.Frontal\n",
       "..        ...        ...       ...     ...                ...\n",
       "173       174          4        15     RPT         R.Par.Temp\n",
       "174       175          5        15     RPT         R.Par.Temp\n",
       "175       176          6        15     RPT         R.Par.Temp\n",
       "176       177          7        15     RPT         R.Par.Temp\n",
       "177       178          8        15     RPT         R.Par.Temp\n",
       "\n",
       "[178 rows x 5 columns]"
      ]
     },
     "execution_count": 11,
     "metadata": {},
     "output_type": "execute_result"
    }
   ],
   "source": [
    "p.electrode_locations"
   ]
  },
  {
   "cell_type": "code",
   "execution_count": 12,
   "metadata": {},
   "outputs": [],
   "source": [
    "from emu.nwb import ncs_to_nwb_raw"
   ]
  },
  {
   "cell_type": "code",
   "execution_count": 15,
   "metadata": {},
   "outputs": [
    {
     "name": "stderr",
     "output_type": "stream",
     "text": [
      "compressing channels to <class 'numpy.float16'> 4000Hz: 100%|██████████| 15/15 [00:10<00:00,  1.43it/s]\n",
      "compressing channels to <class 'numpy.float16'> 4000Hz: 100%|██████████| 10/10 [00:06<00:00,  1.56it/s]\n",
      "compressing channels to <class 'numpy.float16'> 4000Hz: 100%|██████████| 12/12 [00:07<00:00,  1.52it/s]\n",
      "compressing channels to <class 'numpy.float16'> 4000Hz: 100%|██████████| 16/16 [00:10<00:00,  1.56it/s]\n",
      "compressing channels to <class 'numpy.float16'> 4000Hz: 100%|██████████| 10/10 [00:06<00:00,  1.56it/s]\n",
      "compressing channels to <class 'numpy.float16'> 4000Hz: 100%|██████████| 10/10 [00:06<00:00,  1.56it/s]\n",
      "compressing channels to <class 'numpy.float16'> 4000Hz: 100%|██████████| 8/8 [00:05<00:00,  1.56it/s]\n",
      "compressing channels to <class 'numpy.float16'> 4000Hz: 100%|██████████| 16/16 [00:10<00:00,  1.56it/s]\n",
      "compressing channels to <class 'numpy.float16'> 4000Hz: 100%|██████████| 16/16 [00:10<00:00,  1.56it/s]\n",
      "compressing channels to <class 'numpy.float16'> 4000Hz: 100%|██████████| 10/10 [00:06<00:00,  1.52it/s]\n",
      "compressing channels to <class 'numpy.float16'> 4000Hz: 100%|██████████| 12/12 [00:07<00:00,  1.57it/s]\n",
      "compressing channels to <class 'numpy.float16'> 4000Hz: 100%|██████████| 14/14 [00:10<00:00,  1.39it/s]\n",
      "compressing channels to <class 'numpy.float16'> 4000Hz: 100%|██████████| 10/10 [00:07<00:00,  1.39it/s]\n",
      "compressing channels to <class 'numpy.float16'> 4000Hz: 100%|██████████| 10/10 [00:06<00:00,  1.45it/s]\n",
      "compressing channels to <class 'numpy.float16'> 4000Hz: 100%|██████████| 8/8 [00:06<00:00,  1.19it/s]\n"
     ]
    }
   ],
   "source": [
    "# nwb = p.create_nwb(d2_nev.output().path,d2_ncs_paths,blocks=[0,1,2],desc='Patient 1 | Post-op Day 2')\n",
    "nwb = ncs_to_nwb_raw(d2_ncs_paths, nev_fp=d2_nev.output().path, \n",
    "                     electrode_locations=p.electrode_locations, \n",
    "                     desc='[RAW] Patient 1 | Post-op Day 2',\n",
    "                     fs=4000,)"
   ]
  },
  {
   "cell_type": "code",
   "execution_count": null,
   "metadata": {},
   "outputs": [],
   "source": []
  },
  {
   "cell_type": "code",
   "execution_count": 14,
   "metadata": {},
   "outputs": [
    {
     "ename": "NameError",
     "evalue": "name 'adf' is not defined",
     "output_type": "error",
     "traceback": [
      "\u001b[0;31m---------------------------------------------------------------------------\u001b[0m",
      "\u001b[0;31mNameError\u001b[0m                                 Traceback (most recent call last)",
      "\u001b[0;32m/tmp/ipykernel_21877/49923281.py\u001b[0m in \u001b[0;36m<module>\u001b[0;34m\u001b[0m\n\u001b[0;32m----> 1\u001b[0;31m \u001b[0madf\u001b[0m\u001b[0;34m\u001b[0m\u001b[0;34m\u001b[0m\u001b[0m\n\u001b[0m\u001b[1;32m      2\u001b[0m \u001b[0mnwb\u001b[0m\u001b[0;34m\u001b[0m\u001b[0;34m\u001b[0m\u001b[0m\n",
      "\u001b[0;31mNameError\u001b[0m: name 'adf' is not defined"
     ]
    }
   ],
   "source": [
    "adf\n",
    "nwb"
   ]
  },
  {
   "cell_type": "code",
   "execution_count": null,
   "metadata": {},
   "outputs": [],
   "source": [
    "nwb.trials.to_dataframe().head()"
   ]
  },
  {
   "cell_type": "code",
   "execution_count": null,
   "metadata": {},
   "outputs": [],
   "source": [
    "nwb.processing.get('ecephys').data_interfaces.keys()"
   ]
  },
  {
   "cell_type": "code",
   "execution_count": null,
   "metadata": {},
   "outputs": [],
   "source": [
    "for n in nwb.processing.get('ecephys').data_interfaces.keys():\n",
    "    d = nwb.processing.get('ecephys').get(n).data\n",
    "    if len(np.unique([len(dd) for dd in d])) < 2:\n",
    "        print(np.stack(d).shape)"
   ]
  },
  {
   "cell_type": "code",
   "execution_count": null,
   "metadata": {},
   "outputs": [],
   "source": []
  },
  {
   "cell_type": "code",
   "execution_count": null,
   "metadata": {},
   "outputs": [
    {
     "name": "stderr",
     "output_type": "stream",
     "text": [
      "/home/elijahc/.pyenv/versions/emu_p38/lib/python3.8/site-packages/hdmf/build/objectmapper.py:256: DtypeConversionWarning: Spec 'ElectricalSeries/electrodes': Value with data type uint32 is being converted to data type int32 as specified.\n",
      "  warnings.warn(full_warning_msg, DtypeConversionWarning)\n"
     ]
    }
   ],
   "source": [
    "with NWBHDF5IO(os.path.join('/home/elijahc/.emu/pdil/pt_6305/SEEG','PO_Day_02_raw.nwb'),'w') as io:\n",
    "    io.write(nwb)"
   ]
  },
  {
   "cell_type": "code",
   "execution_count": null,
   "metadata": {},
   "outputs": [],
   "source": [
    "from emu.luigi.box import BoxClient"
   ]
  },
  {
   "cell_type": "code",
   "execution_count": null,
   "metadata": {},
   "outputs": [],
   "source": [
    "def get_channel_id(fp):\n",
    "    fn = fp.split('CSC')[1]\n",
    "    if '_' in fn:\n",
    "        return int(fn.split('_')[0])\n",
    "    else:\n",
    "        return int(fn.split('.ncs')[0])"
   ]
  },
  {
   "cell_type": "code",
   "execution_count": null,
   "metadata": {},
   "outputs": [],
   "source": [
    "ephys = nwb.processing.get('ecephys')\n",
    "ephys.get('LFP').electrical_series.get('wire_9_electrode_6').data"
   ]
  },
  {
   "cell_type": "code",
   "execution_count": null,
   "metadata": {},
   "outputs": [],
   "source": [
    "import scipy.io as sio"
   ]
  },
  {
   "cell_type": "code",
   "execution_count": null,
   "metadata": {},
   "outputs": [],
   "source": [
    "channels = [ch for ch in nwb.acquisition.keys() if ch.startswith('channel') or ch.startswith('wire')]"
   ]
  },
  {
   "cell_type": "code",
   "execution_count": null,
   "metadata": {},
   "outputs": [],
   "source": [
    "[(nwb.acquisition[c].data.shape,c) for c in channels]"
   ]
  },
  {
   "cell_type": "code",
   "execution_count": null,
   "metadata": {},
   "outputs": [],
   "source": [
    "def nwb_to_mat(out_mat,compress=True):\n",
    "#     channels = [ch for ch in nwb.acquisition.keys() if ch.startswith('channel')]\n",
    "    mod = nwb.processing.get('ecephys')\n",
    "    \n",
    "    mdict = {k:mod[k].data for k in mod.data_interfaces.keys()}\n",
    "    sio.savemat(out_mat,mdict,do_compression=compress)\n"
   ]
  },
  {
   "cell_type": "code",
   "execution_count": null,
   "metadata": {},
   "outputs": [],
   "source": [
    "md = nwb_to_mat('/home/elijahc/.emu/pdil/pt_6305/SEEG/processed/PO_Day_02.mat')\n"
   ]
  },
  {
   "cell_type": "code",
   "execution_count": null,
   "metadata": {},
   "outputs": [],
   "source": [
    "from emu.luigi.box import BoxClient,file_id_to_path\n",
    "box = BoxClient()"
   ]
  },
  {
   "cell_type": "code",
   "execution_count": null,
   "metadata": {},
   "outputs": [],
   "source": [
    "file_id_to_path(633031167652)"
   ]
  },
  {
   "cell_type": "code",
   "execution_count": null,
   "metadata": {},
   "outputs": [],
   "source": [
    "mat_path = '/home/elijahc/.emu/pdil/pt_01/SEEG/processed/PO_Day_02.mat'\n",
    "nwb_path = '/home/elijahc/.emu/pdil/pt_01/SEEG/processed/PO_Day_02.nwb'\n",
    "box.upload('/EMU/STUDY_PDil/PT_01/SEEG/processed',mat_path)"
   ]
  },
  {
   "cell_type": "code",
   "execution_count": null,
   "metadata": {},
   "outputs": [],
   "source": []
  },
  {
   "cell_type": "code",
   "execution_count": null,
   "metadata": {},
   "outputs": [],
   "source": [
    "from emu.pipeline.remote import RemoteCSV\n",
    "RemoteCSV(file_path='/EMU/STUDY_PDil/PT_01/SEEG/electrode_locations.csv').load().head()"
   ]
  },
  {
   "cell_type": "code",
   "execution_count": null,
   "metadata": {},
   "outputs": [],
   "source": []
  }
 ],
 "metadata": {
  "kernelspec": {
   "display_name": "Python 3 (ipykernel)",
   "language": "python",
   "name": "python3"
  },
  "language_info": {
   "codemirror_mode": {
    "name": "ipython",
    "version": 3
   },
   "file_extension": ".py",
   "mimetype": "text/x-python",
   "name": "python",
   "nbconvert_exporter": "python",
   "pygments_lexer": "ipython3",
   "version": "3.7.8"
  }
 },
 "nbformat": 4,
 "nbformat_minor": 4
}
