{
 "cells": [
  {
   "cell_type": "code",
   "execution_count": 1,
   "metadata": {},
   "outputs": [],
   "source": [
    "import os\n",
    "import neo\n",
    "from neo.io.neuralynxio import NeuralynxIO, NeuralynxRawIO"
   ]
  },
  {
   "cell_type": "code",
   "execution_count": 2,
   "metadata": {},
   "outputs": [],
   "source": [
    "nio = NeuralynxIO(dirname=os.path.expanduser('/home/elijahc/.emu/raw/pt1'))"
   ]
  },
  {
   "cell_type": "code",
   "execution_count": 3,
   "metadata": {},
   "outputs": [],
   "source": [
    "nio.parse_header()"
   ]
  },
  {
   "cell_type": "code",
   "execution_count": 4,
   "metadata": {},
   "outputs": [
    {
     "data": {
      "text/plain": [
       "{'nb_block': 1,\n",
       " 'nb_segment': [3],\n",
       " 'signal_channels': array([('CSC2', 1, 8000., 'int16', 'uV', -0.03051758, 0., 0),\n",
       "        ('CSC2', 1, 8000., 'int16', 'uV', -0.03051758, 0., 0),\n",
       "        ('CSC2', 1, 8000., 'int16', 'uV', -0.03051758, 0., 0),\n",
       "        ('CSC2', 1, 8000., 'int16', 'uV', -0.03051758, 0., 0),\n",
       "        ('CSC2', 1, 8000., 'int16', 'uV', -0.03051758, 0., 0),\n",
       "        ('CSC2', 1, 8000., 'int16', 'uV', -0.03051758, 0., 0),\n",
       "        ('CSC2', 1, 8000., 'int16', 'uV', -0.03051758, 0., 0),\n",
       "        ('CSC2', 1, 8000., 'int16', 'uV', -0.03051758, 0., 0),\n",
       "        ('CSC2', 1, 8000., 'int16', 'uV', -0.03051758, 0., 0),\n",
       "        ('CSC2', 1, 8000., 'int16', 'uV', -0.03051758, 0., 0),\n",
       "        ('CSC2', 1, 8000., 'int16', 'uV', -0.03051758, 0., 0),\n",
       "        ('CSC2', 1, 8000., 'int16', 'uV', -0.03051758, 0., 0),\n",
       "        ('CSC2', 1, 8000., 'int16', 'uV', -0.03051758, 0., 0)],\n",
       "       dtype=[('name', '<U64'), ('id', '<i8'), ('sampling_rate', '<f8'), ('dtype', '<U16'), ('units', '<U64'), ('gain', '<f8'), ('offset', '<f8'), ('group_id', '<i8')]),\n",
       " 'unit_channels': array([],\n",
       "       dtype=[('name', '<U64'), ('id', '<U64'), ('wf_units', '<U64'), ('wf_gain', '<f8'), ('wf_offset', '<f8'), ('wf_left_sweep', '<i8'), ('wf_sampling_rate', '<f8')]),\n",
       " 'event_channels': array([], dtype=[('name', '<U64'), ('id', '<U64'), ('type', 'S5')])}"
      ]
     },
     "execution_count": 4,
     "metadata": {},
     "output_type": "execute_result"
    }
   ],
   "source": [
    "nio.header"
   ]
  },
  {
   "cell_type": "code",
   "execution_count": 22,
   "metadata": {},
   "outputs": [
    {
     "name": "stdout",
     "output_type": "stream",
     "text": [
      "NeuralynxIO: /home/elijahc/.emu/raw/pt1\n",
      "nb_block: 1\n",
      "nb_segment:  [3]\n",
      "signal_channels: [CSC2, CSC2, CSC2, CSC2 ... CSC2 CSC2 CSC2 CSC2]\n",
      "unit_channels: []\n",
      "event_channels: []\n",
      "\n"
     ]
    }
   ],
   "source": [
    "print(nio)"
   ]
  },
  {
   "cell_type": "code",
   "execution_count": 19,
   "metadata": {},
   "outputs": [
    {
     "data": {
      "text/plain": [
       "2.674631111111111"
      ]
     },
     "execution_count": 19,
     "metadata": {},
     "output_type": "execute_result"
    }
   ],
   "source": [
    "len(dat)/8000/60/60"
   ]
  },
  {
   "cell_type": "code",
   "execution_count": null,
   "metadata": {},
   "outputs": [],
   "source": []
  }
 ],
 "metadata": {
  "kernelspec": {
   "display_name": "Py3-fastai (Python3.6.1)",
   "language": "python",
   "name": "py3-fastai"
  },
  "language_info": {
   "codemirror_mode": {
    "name": "ipython",
    "version": 3
   },
   "file_extension": ".py",
   "mimetype": "text/x-python",
   "name": "python",
   "nbconvert_exporter": "python",
   "pygments_lexer": "ipython3",
   "version": "3.6.1"
  }
 },
 "nbformat": 4,
 "nbformat_minor": 4
}
