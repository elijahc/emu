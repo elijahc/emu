{
 "cells": [
  {
   "cell_type": "code",
   "execution_count": 6,
   "metadata": {},
   "outputs": [],
   "source": [
    "import os\n",
    "import luigi\n",
    "from emu.pdil.raw import get_data_manifest,Participant\n",
    "from emu.pipeline.download import FileManifest, ExperimentManifest\n",
    "from emu.pipeline.remote import Patients\n",
    "from emu.luigi.box import BoxClient,file_id_to_path,BoxTarget,path_to_fid\n",
    "from emu.utils import generate_id\n",
    "import pandas as pd\n",
    "import numpy as np"
   ]
  },
  {
   "cell_type": "markdown",
   "metadata": {},
   "source": [
    "### When we collect new data on a patient they need to be added to the patient manifest so the API can find their files\n",
    "\n",
    "This file is located in the emu root folder named '_patient_manifest.csv'"
   ]
  },
  {
   "cell_type": "code",
   "execution_count": 7,
   "metadata": {},
   "outputs": [
    {
     "data": {
      "text/html": [
       "<div>\n",
       "<style scoped>\n",
       "    .dataframe tbody tr th:only-of-type {\n",
       "        vertical-align: middle;\n",
       "    }\n",
       "\n",
       "    .dataframe tbody tr th {\n",
       "        vertical-align: top;\n",
       "    }\n",
       "\n",
       "    .dataframe thead th {\n",
       "        text-align: right;\n",
       "    }\n",
       "</style>\n",
       "<table border=\"1\" class=\"dataframe\">\n",
       "  <thead>\n",
       "    <tr style=\"text-align: right;\">\n",
       "      <th></th>\n",
       "      <th>patient_id</th>\n",
       "      <th>md5_16</th>\n",
       "      <th>patient_initials</th>\n",
       "      <th>patient_order</th>\n",
       "      <th>study</th>\n",
       "      <th>folder_id</th>\n",
       "      <th>start</th>\n",
       "      <th>type</th>\n",
       "    </tr>\n",
       "  </thead>\n",
       "  <tbody>\n",
       "    <tr>\n",
       "      <th>0</th>\n",
       "      <td>0</td>\n",
       "      <td>0</td>\n",
       "      <td>OO</td>\n",
       "      <td>0</td>\n",
       "      <td>test</td>\n",
       "      <td>94102978809</td>\n",
       "      <td>'2019-07-30_11-04-51'</td>\n",
       "      <td>seeg</td>\n",
       "    </tr>\n",
       "    <tr>\n",
       "      <th>1</th>\n",
       "      <td>5783</td>\n",
       "      <td>ae3e7f0a6057f8d3</td>\n",
       "      <td>PC</td>\n",
       "      <td>0</td>\n",
       "      <td>meds</td>\n",
       "      <td>116245295093</td>\n",
       "      <td>NaN</td>\n",
       "      <td>study_root</td>\n",
       "    </tr>\n",
       "    <tr>\n",
       "      <th>2</th>\n",
       "      <td>5783</td>\n",
       "      <td>ae3e7f0a6057f8d3</td>\n",
       "      <td>PC</td>\n",
       "      <td>0</td>\n",
       "      <td>meds</td>\n",
       "      <td>116167523390</td>\n",
       "      <td>NaN</td>\n",
       "      <td>seeg</td>\n",
       "    </tr>\n",
       "    <tr>\n",
       "      <th>3</th>\n",
       "      <td>595</td>\n",
       "      <td>e2b11b405f0c59a5</td>\n",
       "      <td>CC</td>\n",
       "      <td>0</td>\n",
       "      <td>meds</td>\n",
       "      <td>116245096503</td>\n",
       "      <td>NaN</td>\n",
       "      <td>study_root</td>\n",
       "    </tr>\n",
       "    <tr>\n",
       "      <th>4</th>\n",
       "      <td>595</td>\n",
       "      <td>e2b11b405f0c59a5</td>\n",
       "      <td>CC</td>\n",
       "      <td>0</td>\n",
       "      <td>meds</td>\n",
       "      <td>116167113972</td>\n",
       "      <td>NaN</td>\n",
       "      <td>seeg</td>\n",
       "    </tr>\n",
       "    <tr>\n",
       "      <th>5</th>\n",
       "      <td>6305</td>\n",
       "      <td>785c1bcf28586305</td>\n",
       "      <td>CH</td>\n",
       "      <td>1</td>\n",
       "      <td>meds</td>\n",
       "      <td>116254528351</td>\n",
       "      <td>NaN</td>\n",
       "      <td>seeg</td>\n",
       "    </tr>\n",
       "    <tr>\n",
       "      <th>6</th>\n",
       "      <td>6305</td>\n",
       "      <td>785c1bcf28586305</td>\n",
       "      <td>CH</td>\n",
       "      <td>1</td>\n",
       "      <td>meds</td>\n",
       "      <td>116254201975</td>\n",
       "      <td>NaN</td>\n",
       "      <td>seeg</td>\n",
       "    </tr>\n",
       "    <tr>\n",
       "      <th>7</th>\n",
       "      <td>6305</td>\n",
       "      <td>785c1bcf28586305</td>\n",
       "      <td>CH</td>\n",
       "      <td>1</td>\n",
       "      <td>meds</td>\n",
       "      <td>116245336484</td>\n",
       "      <td>NaN</td>\n",
       "      <td>study_root</td>\n",
       "    </tr>\n",
       "    <tr>\n",
       "      <th>8</th>\n",
       "      <td>8751</td>\n",
       "      <td>a124696c53387b51</td>\n",
       "      <td>MF</td>\n",
       "      <td>2</td>\n",
       "      <td>meds</td>\n",
       "      <td>116244412027</td>\n",
       "      <td>NaN</td>\n",
       "      <td>study_root</td>\n",
       "    </tr>\n",
       "    <tr>\n",
       "      <th>9</th>\n",
       "      <td>6305</td>\n",
       "      <td>785c1bcf28586305</td>\n",
       "      <td>CH</td>\n",
       "      <td>1</td>\n",
       "      <td>pdil</td>\n",
       "      <td>106535506845</td>\n",
       "      <td>D2’</td>\n",
       "      <td>seeg</td>\n",
       "    </tr>\n",
       "    <tr>\n",
       "      <th>10</th>\n",
       "      <td>6305</td>\n",
       "      <td>785c1bcf28586305</td>\n",
       "      <td>CH</td>\n",
       "      <td>1</td>\n",
       "      <td>pdil</td>\n",
       "      <td>106535439763</td>\n",
       "      <td>D4’</td>\n",
       "      <td>seeg</td>\n",
       "    </tr>\n",
       "    <tr>\n",
       "      <th>11</th>\n",
       "      <td>6305</td>\n",
       "      <td>785c1bcf28586305</td>\n",
       "      <td>CH</td>\n",
       "      <td>1</td>\n",
       "      <td>pdil</td>\n",
       "      <td>105837046151</td>\n",
       "      <td>NaN</td>\n",
       "      <td>study_root</td>\n",
       "    </tr>\n",
       "    <tr>\n",
       "      <th>12</th>\n",
       "      <td>6305</td>\n",
       "      <td>785c1bcf28586305</td>\n",
       "      <td>CH</td>\n",
       "      <td>1</td>\n",
       "      <td>pdil</td>\n",
       "      <td>105997042269</td>\n",
       "      <td>NaN</td>\n",
       "      <td>behavioral</td>\n",
       "    </tr>\n",
       "    <tr>\n",
       "      <th>13</th>\n",
       "      <td>6305</td>\n",
       "      <td>785c1bcf28586305</td>\n",
       "      <td>CH</td>\n",
       "      <td>1</td>\n",
       "      <td>pdil</td>\n",
       "      <td>105835938489</td>\n",
       "      <td>NaN</td>\n",
       "      <td>behavioral</td>\n",
       "    </tr>\n",
       "    <tr>\n",
       "      <th>14</th>\n",
       "      <td>6305</td>\n",
       "      <td>785c1bcf28586305</td>\n",
       "      <td>CH</td>\n",
       "      <td>1</td>\n",
       "      <td>doubt</td>\n",
       "      <td>105837046151</td>\n",
       "      <td>NaN</td>\n",
       "      <td>study_root</td>\n",
       "    </tr>\n",
       "    <tr>\n",
       "      <th>15</th>\n",
       "      <td>6305</td>\n",
       "      <td>785c1bcf28586305</td>\n",
       "      <td>CH</td>\n",
       "      <td>1</td>\n",
       "      <td>doubt</td>\n",
       "      <td>105997187853</td>\n",
       "      <td>NaN</td>\n",
       "      <td>eyetracking</td>\n",
       "    </tr>\n",
       "    <tr>\n",
       "      <th>16</th>\n",
       "      <td>8751</td>\n",
       "      <td>a124696c53387b51</td>\n",
       "      <td>MF</td>\n",
       "      <td>2</td>\n",
       "      <td>pdil</td>\n",
       "      <td>115856813381</td>\n",
       "      <td>NaN</td>\n",
       "      <td>study_root</td>\n",
       "    </tr>\n",
       "    <tr>\n",
       "      <th>17</th>\n",
       "      <td>8751</td>\n",
       "      <td>a124696c53387b51</td>\n",
       "      <td>MF</td>\n",
       "      <td>2</td>\n",
       "      <td>pdil</td>\n",
       "      <td>116228944526</td>\n",
       "      <td>NaN</td>\n",
       "      <td>behavioral</td>\n",
       "    </tr>\n",
       "  </tbody>\n",
       "</table>\n",
       "</div>"
      ],
      "text/plain": [
       "    patient_id            md5_16 patient_initials  patient_order  study  \\\n",
       "0            0                 0               OO              0   test   \n",
       "1         5783  ae3e7f0a6057f8d3               PC              0   meds   \n",
       "2         5783  ae3e7f0a6057f8d3               PC              0   meds   \n",
       "3          595  e2b11b405f0c59a5               CC              0   meds   \n",
       "4          595  e2b11b405f0c59a5               CC              0   meds   \n",
       "5         6305  785c1bcf28586305               CH              1   meds   \n",
       "6         6305  785c1bcf28586305               CH              1   meds   \n",
       "7         6305  785c1bcf28586305               CH              1   meds   \n",
       "8         8751  a124696c53387b51               MF              2   meds   \n",
       "9         6305  785c1bcf28586305               CH              1   pdil   \n",
       "10        6305  785c1bcf28586305               CH              1   pdil   \n",
       "11        6305  785c1bcf28586305               CH              1   pdil   \n",
       "12        6305  785c1bcf28586305               CH              1   pdil   \n",
       "13        6305  785c1bcf28586305               CH              1   pdil   \n",
       "14        6305  785c1bcf28586305               CH              1  doubt   \n",
       "15        6305  785c1bcf28586305               CH              1  doubt   \n",
       "16        8751  a124696c53387b51               MF              2   pdil   \n",
       "17        8751  a124696c53387b51               MF              2   pdil   \n",
       "\n",
       "       folder_id                  start         type  \n",
       "0    94102978809  '2019-07-30_11-04-51'         seeg  \n",
       "1   116245295093                    NaN   study_root  \n",
       "2   116167523390                    NaN         seeg  \n",
       "3   116245096503                    NaN   study_root  \n",
       "4   116167113972                    NaN         seeg  \n",
       "5   116254528351                    NaN         seeg  \n",
       "6   116254201975                    NaN         seeg  \n",
       "7   116245336484                    NaN   study_root  \n",
       "8   116244412027                    NaN   study_root  \n",
       "9   106535506845                    D2’         seeg  \n",
       "10  106535439763                    D4’         seeg  \n",
       "11  105837046151                    NaN   study_root  \n",
       "12  105997042269                    NaN   behavioral  \n",
       "13  105835938489                    NaN   behavioral  \n",
       "14  105837046151                    NaN   study_root  \n",
       "15  105997187853                    NaN  eyetracking  \n",
       "16  115856813381                    NaN   study_root  \n",
       "17  116228944526                    NaN   behavioral  "
      ]
     },
     "execution_count": 7,
     "metadata": {},
     "output_type": "execute_result"
    }
   ],
   "source": [
    "patients = Patients().load()\n",
    "patients"
   ]
  },
  {
   "cell_type": "markdown",
   "metadata": {},
   "source": [
    "# New entries\n",
    "\n",
    "For each new patient they sould at least have a 'study_root' entry which points to that patients root directory on box\n",
    "\n",
    "If data is collected and stored for that patient we need an entry for each of those data folders and their data type \n",
    "> behavioral for behavior data, seeg for seeg data etc.\n",
    "\n",
    "Excel may represent the folder_id's as floats. This is BAD. Make sure to change the format of cells in the folder_id to a number with no decimal points (so it reperesents them as ints)"
   ]
  },
  {
   "cell_type": "code",
   "execution_count": 8,
   "metadata": {},
   "outputs": [
    {
     "name": "stdout",
     "output_type": "stream",
     "text": [
      "md5: 4a83b741e9daf43a\n",
      "patient_id: 1943\n"
     ]
    },
    {
     "data": {
      "text/plain": [
       "'1943'"
      ]
     },
     "execution_count": 8,
     "metadata": {},
     "output_type": "execute_result"
    }
   ],
   "source": [
    "generate_id('elijah','christensen')"
   ]
  },
  {
   "cell_type": "code",
   "execution_count": 9,
   "metadata": {},
   "outputs": [],
   "source": [
    "# pt1_manifest = FileManifest(p)"
   ]
  },
  {
   "cell_type": "code",
   "execution_count": 10,
   "metadata": {},
   "outputs": [],
   "source": [
    "exp_manifest = ExperimentManifest(study='meds')"
   ]
  },
  {
   "cell_type": "code",
   "execution_count": 11,
   "metadata": {},
   "outputs": [
    {
     "name": "stderr",
     "output_type": "stream",
     "text": [
      "pt_5783: 100%|██████████| 1/1 [00:00<00:00,  5.35it/s]\n",
      "2019-12-13_12-44-23: 100%|██████████| 4203/4203 [00:26<00:00, 159.45it/s]\n",
      "pt_595: 100%|██████████| 2/2 [00:00<00:00, 10.48it/s]\n",
      "2020-02-11_13-09-53: 100%|██████████| 3284/3284 [00:20<00:00, 158.20it/s]\n",
      "2020-03-03_09-18-11: 100%|██████████| 3670/3670 [00:22<00:00, 162.56it/s]\n",
      "2020-03-06_12-33-36: 100%|██████████| 3284/3284 [00:20<00:00, 159.87it/s]\n",
      "pt_6305: 100%|██████████| 2/2 [00:00<00:00, 10.22it/s]\n",
      "pt_8751: 100%|██████████| 1/1 [00:00<00:00,  4.56it/s]\n"
     ]
    }
   ],
   "source": [
    "exp_manifest.run()"
   ]
  },
  {
   "cell_type": "markdown",
   "metadata": {},
   "source": [
    "Confirm the manifest csv file list was created successfully"
   ]
  },
  {
   "cell_type": "code",
   "execution_count": null,
   "metadata": {},
   "outputs": [],
   "source": [
    "exp_manifest.output().path"
   ]
  },
  {
   "cell_type": "code",
   "execution_count": null,
   "metadata": {},
   "outputs": [],
   "source": [
    "exp_manifest.output().exists()"
   ]
  },
  {
   "cell_type": "markdown",
   "metadata": {},
   "source": [
    "Load it and make sure it finds the files you'd expect"
   ]
  },
  {
   "cell_type": "code",
   "execution_count": null,
   "metadata": {},
   "outputs": [],
   "source": [
    "exps = pd.read_csv(exp_manifest.output().path)\n",
    "exps = exps.merge(patients[['patient_id','patient_initials']].drop_duplicates(),on='patient_id')\n",
    "exps"
   ]
  },
  {
   "cell_type": "code",
   "execution_count": null,
   "metadata": {},
   "outputs": [],
   "source": [
    "exps.groupby(['type','patient_initials','folder'])[['filename']].count()"
   ]
  },
  {
   "cell_type": "code",
   "execution_count": null,
   "metadata": {},
   "outputs": [],
   "source": []
  }
 ],
 "metadata": {
  "kernelspec": {
   "display_name": "Python 3",
   "language": "python",
   "name": "python3"
  },
  "language_info": {
   "codemirror_mode": {
    "name": "ipython",
    "version": 3
   },
   "file_extension": ".py",
   "mimetype": "text/x-python",
   "name": "python",
   "nbconvert_exporter": "python",
   "pygments_lexer": "ipython3",
   "version": "3.6.9"
  }
 },
 "nbformat": 4,
 "nbformat_minor": 4
}
