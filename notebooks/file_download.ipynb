{
 "cells": [
  {
   "cell_type": "code",
   "execution_count": 1,
   "metadata": {},
   "outputs": [],
   "source": [
    "import os\n",
    "import luigi\n",
    "import io\n",
    "import pandas as pd\n",
    "import numpy as np\n",
    "# from emu.pipeline.download import Channel, Raw\n",
    "# from src.pipeline.utils import file_ids_by_channel\n",
    "# from src.luigi.box import BoxTarget\n",
    "# from src.utils import get_file_manifest"
   ]
  },
  {
   "cell_type": "markdown",
   "metadata": {},
   "source": [
    "# Patient Manifest\n",
    "`/EMU/_patient_manifest.csv` maps every patient to their corresponding Data folders\n",
    "\n",
    "It can be loaded quickly using the `load_patients` helper function"
   ]
  },
  {
   "cell_type": "code",
   "execution_count": 2,
   "metadata": {},
   "outputs": [
    {
     "data": {
      "text/html": [
       "<div>\n",
       "<style scoped>\n",
       "    .dataframe tbody tr th:only-of-type {\n",
       "        vertical-align: middle;\n",
       "    }\n",
       "\n",
       "    .dataframe tbody tr th {\n",
       "        vertical-align: top;\n",
       "    }\n",
       "\n",
       "    .dataframe thead th {\n",
       "        text-align: right;\n",
       "    }\n",
       "</style>\n",
       "<table border=\"1\" class=\"dataframe\">\n",
       "  <thead>\n",
       "    <tr style=\"text-align: right;\">\n",
       "      <th></th>\n",
       "      <th>patient_id</th>\n",
       "      <th>study</th>\n",
       "      <th>folder_id</th>\n",
       "      <th>start</th>\n",
       "      <th>type</th>\n",
       "    </tr>\n",
       "  </thead>\n",
       "  <tbody>\n",
       "    <tr>\n",
       "      <th>0</th>\n",
       "      <td>0</td>\n",
       "      <td>test</td>\n",
       "      <td>94102978809</td>\n",
       "      <td>'2019-07-30_11-04-51'</td>\n",
       "      <td>electrophysiology</td>\n",
       "    </tr>\n",
       "    <tr>\n",
       "      <th>1</th>\n",
       "      <td>1</td>\n",
       "      <td>pdil</td>\n",
       "      <td>105837046151</td>\n",
       "      <td>NaN</td>\n",
       "      <td>study_root</td>\n",
       "    </tr>\n",
       "    <tr>\n",
       "      <th>2</th>\n",
       "      <td>1</td>\n",
       "      <td>pdil</td>\n",
       "      <td>105997042269</td>\n",
       "      <td>NaN</td>\n",
       "      <td>behavioral</td>\n",
       "    </tr>\n",
       "    <tr>\n",
       "      <th>3</th>\n",
       "      <td>1</td>\n",
       "      <td>pdil</td>\n",
       "      <td>105835938489</td>\n",
       "      <td>NaN</td>\n",
       "      <td>behavioral</td>\n",
       "    </tr>\n",
       "    <tr>\n",
       "      <th>4</th>\n",
       "      <td>1</td>\n",
       "      <td>doubt</td>\n",
       "      <td>105837046151</td>\n",
       "      <td>NaN</td>\n",
       "      <td>study_root</td>\n",
       "    </tr>\n",
       "  </tbody>\n",
       "</table>\n",
       "</div>"
      ],
      "text/plain": [
       "   patient_id  study     folder_id                  start               type\n",
       "0           0   test   94102978809  '2019-07-30_11-04-51'  electrophysiology\n",
       "1           1   pdil  105837046151                    NaN         study_root\n",
       "2           1   pdil  105997042269                    NaN         behavioral\n",
       "3           1   pdil  105835938489                    NaN         behavioral\n",
       "4           1  doubt  105837046151                    NaN         study_root"
      ]
     },
     "execution_count": 2,
     "metadata": {},
     "output_type": "execute_result"
    }
   ],
   "source": [
    "from emu.utils import load_patients\n",
    "patient_manifest = load_patients()\n",
    "patient_manifest"
   ]
  },
  {
   "cell_type": "markdown",
   "metadata": {},
   "source": [
    "The patient_id, study, and folder_id's are likely self explanatory, type refers to what kind of data is stored at the corresponding folder_id.\n",
    "\n",
    "> A single patient in the same experiment might have data spread across multiple days"
   ]
  },
  {
   "cell_type": "markdown",
   "metadata": {},
   "source": [
    "# File Manifest\n",
    "\n",
    "You can load all relevant files in subdirectories of a given folder using `get_file_manifest`"
   ]
  },
  {
   "cell_type": "code",
   "execution_count": 3,
   "metadata": {},
   "outputs": [
    {
     "name": "stdout",
     "output_type": "stream",
     "text": [
      "<Box Folder - 105997042269 (PT01_postOpDay4_PDil)>\n"
     ]
    }
   ],
   "source": [
    "from emu.utils import get_file_manifest\n",
    "from emu.luigi.box import BoxClient\n",
    "folder_id = 105997042269\n",
    "client = BoxClient()\n",
    "box_folder = client.folder(folder_id)\n",
    "print(box_folder.get())"
   ]
  },
  {
   "cell_type": "code",
   "execution_count": 6,
   "metadata": {},
   "outputs": [
    {
     "name": "stderr",
     "output_type": "stream",
     "text": [
      "PT01_postOpDay4_PDil: 100%|██████████| 8/8 [00:00<00:00, 21.07it/s]\n",
      "PT01_postOpDay2_PDil: 100%|██████████| 5/5 [00:00<00:00, 14.33it/s]\n"
     ]
    },
    {
     "data": {
      "text/html": [
       "<div>\n",
       "<style scoped>\n",
       "    .dataframe tbody tr th:only-of-type {\n",
       "        vertical-align: middle;\n",
       "    }\n",
       "\n",
       "    .dataframe tbody tr th {\n",
       "        vertical-align: top;\n",
       "    }\n",
       "\n",
       "    .dataframe thead th {\n",
       "        text-align: right;\n",
       "    }\n",
       "</style>\n",
       "<table border=\"1\" class=\"dataframe\">\n",
       "  <thead>\n",
       "    <tr style=\"text-align: right;\">\n",
       "      <th></th>\n",
       "      <th>filename</th>\n",
       "      <th>id</th>\n",
       "      <th>type</th>\n",
       "    </tr>\n",
       "  </thead>\n",
       "  <tbody>\n",
       "    <tr>\n",
       "      <th>0</th>\n",
       "      <td>blockNum_3_computerTT_defect_taskoutput.mat</td>\n",
       "      <td>629615908637</td>\n",
       "      <td>Matfile</td>\n",
       "    </tr>\n",
       "    <tr>\n",
       "      <th>1</th>\n",
       "      <td>blockNum_4_humanTT_defect_taskoutput.mat</td>\n",
       "      <td>629620274728</td>\n",
       "      <td>Matfile</td>\n",
       "    </tr>\n",
       "    <tr>\n",
       "      <th>2</th>\n",
       "      <td>blockNum_5_humanTT_coop_taskoutput.mat</td>\n",
       "      <td>629611713944</td>\n",
       "      <td>Matfile</td>\n",
       "    </tr>\n",
       "    <tr>\n",
       "      <th>3</th>\n",
       "      <td>blockNum_6_computerTT_coop_taskoutput.mat</td>\n",
       "      <td>629611688205</td>\n",
       "      <td>Matfile</td>\n",
       "    </tr>\n",
       "    <tr>\n",
       "      <th>4</th>\n",
       "      <td>Survey_postBlock3.jpeg</td>\n",
       "      <td>630722640790</td>\n",
       "      <td>None</td>\n",
       "    </tr>\n",
       "    <tr>\n",
       "      <th>5</th>\n",
       "      <td>Survey_postBlock4.jpeg</td>\n",
       "      <td>630717432226</td>\n",
       "      <td>None</td>\n",
       "    </tr>\n",
       "    <tr>\n",
       "      <th>6</th>\n",
       "      <td>Survey_postBlock5.jpeg</td>\n",
       "      <td>630716805900</td>\n",
       "      <td>None</td>\n",
       "    </tr>\n",
       "    <tr>\n",
       "      <th>7</th>\n",
       "      <td>Survey_postBlock6.jpeg</td>\n",
       "      <td>630719096807</td>\n",
       "      <td>None</td>\n",
       "    </tr>\n",
       "    <tr>\n",
       "      <th>8</th>\n",
       "      <td>blockNum_1_computerTT_coop_taskoutput.mat</td>\n",
       "      <td>628721484958</td>\n",
       "      <td>Matfile</td>\n",
       "    </tr>\n",
       "    <tr>\n",
       "      <th>9</th>\n",
       "      <td>blockNum_2_humanTT_coop_taskoutput.mat</td>\n",
       "      <td>628728186668</td>\n",
       "      <td>Matfile</td>\n",
       "    </tr>\n",
       "    <tr>\n",
       "      <th>10</th>\n",
       "      <td>PRACTICE_blockNum_0 _taskoutput.mat</td>\n",
       "      <td>628698648907</td>\n",
       "      <td>Matfile</td>\n",
       "    </tr>\n",
       "    <tr>\n",
       "      <th>11</th>\n",
       "      <td>Survey_postBlock1.jpeg</td>\n",
       "      <td>630713942594</td>\n",
       "      <td>None</td>\n",
       "    </tr>\n",
       "    <tr>\n",
       "      <th>12</th>\n",
       "      <td>Survey_postBlock2.jpeg</td>\n",
       "      <td>630717007369</td>\n",
       "      <td>None</td>\n",
       "    </tr>\n",
       "  </tbody>\n",
       "</table>\n",
       "</div>"
      ],
      "text/plain": [
       "                                       filename            id     type\n",
       "0   blockNum_3_computerTT_defect_taskoutput.mat  629615908637  Matfile\n",
       "1      blockNum_4_humanTT_defect_taskoutput.mat  629620274728  Matfile\n",
       "2        blockNum_5_humanTT_coop_taskoutput.mat  629611713944  Matfile\n",
       "3     blockNum_6_computerTT_coop_taskoutput.mat  629611688205  Matfile\n",
       "4                        Survey_postBlock3.jpeg  630722640790     None\n",
       "5                        Survey_postBlock4.jpeg  630717432226     None\n",
       "6                        Survey_postBlock5.jpeg  630716805900     None\n",
       "7                        Survey_postBlock6.jpeg  630719096807     None\n",
       "8     blockNum_1_computerTT_coop_taskoutput.mat  628721484958  Matfile\n",
       "9        blockNum_2_humanTT_coop_taskoutput.mat  628728186668  Matfile\n",
       "10          PRACTICE_blockNum_0 _taskoutput.mat  628698648907  Matfile\n",
       "11                       Survey_postBlock1.jpeg  630713942594     None\n",
       "12                       Survey_postBlock2.jpeg  630717007369     None"
      ]
     },
     "execution_count": 6,
     "metadata": {},
     "output_type": "execute_result"
    }
   ],
   "source": [
    "# Keep only folders referencing behavioral data\n",
    "behavioral_folders = patient_manifest[patient_manifest.type.isin(['behavioral'])]\n",
    "\n",
    "all_files = []\n",
    "for fid in behavioral_folders.folder_id.values:\n",
    "    bf = client.folder(fid)\n",
    "    all_files.extend(get_file_manifest(bf))\n",
    "    \n",
    "all_files = pd.DataFrame.from_records(all_files)\n",
    "all_files"
   ]
  },
  {
   "cell_type": "code",
   "execution_count": 5,
   "metadata": {},
   "outputs": [
    {
     "ename": "NameError",
     "evalue": "name 'FileManifest' is not defined",
     "output_type": "error",
     "traceback": [
      "\u001b[0;31m---------------------------------------------------------------------------\u001b[0m",
      "\u001b[0;31mNameError\u001b[0m                                 Traceback (most recent call last)",
      "\u001b[0;32m<ipython-input-5-6b848436a6e7>\u001b[0m in \u001b[0;36m<module>\u001b[0;34m\u001b[0m\n\u001b[1;32m      1\u001b[0m \u001b[0;31m# Make sure we have the FileManifest for patient 1\u001b[0m\u001b[0;34m\u001b[0m\u001b[0;34m\u001b[0m\u001b[0;34m\u001b[0m\u001b[0m\n\u001b[0;32m----> 2\u001b[0;31m \u001b[0mpre_tasks\u001b[0m \u001b[0;34m=\u001b[0m \u001b[0;34m[\u001b[0m\u001b[0mFileManifest\u001b[0m\u001b[0;34m(\u001b[0m\u001b[0mpatient_id\u001b[0m\u001b[0;34m=\u001b[0m\u001b[0;36m1\u001b[0m\u001b[0;34m)\u001b[0m\u001b[0;34m]\u001b[0m\u001b[0;34m\u001b[0m\u001b[0;34m\u001b[0m\u001b[0m\n\u001b[0m\u001b[1;32m      3\u001b[0m \u001b[0mluigi\u001b[0m\u001b[0;34m.\u001b[0m\u001b[0mbuild\u001b[0m\u001b[0;34m(\u001b[0m\u001b[0mpre_tasks\u001b[0m\u001b[0;34m,\u001b[0m \u001b[0mlocal_scheduler\u001b[0m\u001b[0;34m=\u001b[0m\u001b[0;32mTrue\u001b[0m\u001b[0;34m)\u001b[0m\u001b[0;34m\u001b[0m\u001b[0;34m\u001b[0m\u001b[0m\n\u001b[1;32m      4\u001b[0m \u001b[0;34m\u001b[0m\u001b[0m\n\u001b[1;32m      5\u001b[0m \u001b[0mfm_output\u001b[0m \u001b[0;34m=\u001b[0m \u001b[0mpre_tasks\u001b[0m\u001b[0;34m[\u001b[0m\u001b[0;36m0\u001b[0m\u001b[0;34m]\u001b[0m\u001b[0;34m.\u001b[0m\u001b[0moutput\u001b[0m\u001b[0;34m(\u001b[0m\u001b[0;34m)\u001b[0m\u001b[0;34m\u001b[0m\u001b[0;34m\u001b[0m\u001b[0m\n",
      "\u001b[0;31mNameError\u001b[0m: name 'FileManifest' is not defined"
     ]
    }
   ],
   "source": [
    "# Make sure we have the FileManifest for patient 1\n",
    "pre_tasks = [FileManifest(patient_id=1)]\n",
    "luigi.build(pre_tasks, local_scheduler=True)\n",
    "\n",
    "fm_output = pre_tasks[0].output()\n",
    "with fm_output.open('r') as infile:\n",
    "    files = pd.read_csv(infile,dtype={'filename':str,'type':str, 'id':np.int,'path':str})"
   ]
  },
  {
   "cell_type": "code",
   "execution_count": null,
   "metadata": {},
   "outputs": [],
   "source": [
    "files"
   ]
  },
  {
   "cell_type": "code",
   "execution_count": null,
   "metadata": {},
   "outputs": [],
   "source": [
    "ch_files = file_ids_by_channel(files,channel_ids=[2])\n",
    "target_dir = os.path.join(root_dir,'raw','pt{}'.format(1))"
   ]
  },
  {
   "cell_type": "code",
   "execution_count": null,
   "metadata": {},
   "outputs": [],
   "source": [
    "fetch_channels = []\n",
    "for fid,fn in zip(ch_files.id.values,ch_files.filename.values):\n",
    "    fetch_channels.append(Raw(file_id=fid,save_to=target_dir,file_name=fn))"
   ]
  },
  {
   "cell_type": "code",
   "execution_count": null,
   "metadata": {},
   "outputs": [],
   "source": [
    "for f in fetch_channels:\n",
    "    print(f)"
   ]
  },
  {
   "cell_type": "code",
   "execution_count": null,
   "metadata": {},
   "outputs": [],
   "source": []
  }
 ],
 "metadata": {
  "kernelspec": {
   "display_name": "Python 3",
   "language": "python",
   "name": "python3"
  },
  "language_info": {
   "codemirror_mode": {
    "name": "ipython",
    "version": 3
   },
   "file_extension": ".py",
   "mimetype": "text/x-python",
   "name": "python",
   "nbconvert_exporter": "python",
   "pygments_lexer": "ipython3",
   "version": "3.6.8"
  }
 },
 "nbformat": 4,
 "nbformat_minor": 4
}
