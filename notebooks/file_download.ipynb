{
 "cells": [
  {
   "cell_type": "code",
   "execution_count": 1,
   "metadata": {},
   "outputs": [],
   "source": [
    "import os\n",
    "import luigi\n",
    "import io\n",
    "import pandas as pd\n",
    "import numpy as np\n",
    "from src.pipeline.io import FileManifest\n",
    "from src.pipeline.download import Channel, Raw\n",
    "from src.pipeline.utils import file_ids_by_channel\n",
    "from src.luigi.box import BoxTarget"
   ]
  },
  {
   "cell_type": "code",
   "execution_count": 2,
   "metadata": {},
   "outputs": [],
   "source": [
    "root_dir = os.path.expanduser('~/.emu/')"
   ]
  },
  {
   "cell_type": "code",
   "execution_count": 3,
   "metadata": {},
   "outputs": [
    {
     "name": "stderr",
     "output_type": "stream",
     "text": [
      "DEBUG: Checking if FileManifest(patient_id=1, data_root=/home/elijahc/.emu/) is complete\n",
      "INFO: Informed scheduler that task   FileManifest__home_elijahc__e_1_351a0c3a65   has status   DONE\n",
      "INFO: Done scheduling tasks\n",
      "INFO: Running Worker with 1 processes\n",
      "DEBUG: Asking scheduler for work...\n",
      "DEBUG: Done\n",
      "DEBUG: There are no more tasks to run at this time\n",
      "INFO: Worker Worker(salt=525787286, workers=1, host=euler, username=elijahc, pid=6377) was stopped. Shutting down Keep-Alive thread\n",
      "INFO: \n",
      "===== Luigi Execution Summary =====\n",
      "\n",
      "Scheduled 1 tasks of which:\n",
      "* 1 complete ones were encountered:\n",
      "    - 1 FileManifest(patient_id=1, data_root=/home/elijahc/.emu/)\n",
      "\n",
      "Did not run any tasks\n",
      "This progress looks :) because there were no failed tasks or missing dependencies\n",
      "\n",
      "===== Luigi Execution Summary =====\n",
      "\n"
     ]
    }
   ],
   "source": [
    "# Make sure we have the FileManifest for patient 1\n",
    "pre_tasks = [FileManifest(patient_id=1)]\n",
    "luigi.build(pre_tasks, local_scheduler=True)\n",
    "\n",
    "fm_output = pre_tasks[0].output()\n",
    "with fm_output.open('r') as infile:\n",
    "    files = pd.read_csv(infile,dtype={'filename':str,'type':str, 'id':np.int,'path':str})"
   ]
  },
  {
   "cell_type": "code",
   "execution_count": 5,
   "metadata": {},
   "outputs": [],
   "source": [
    "ch_files = file_ids_by_channel(files,channel_ids=[2])\n",
    "target_dir = os.path.join(root_dir,'raw','pt{}'.format(1))"
   ]
  },
  {
   "cell_type": "code",
   "execution_count": 6,
   "metadata": {},
   "outputs": [
    {
     "name": "stderr",
     "output_type": "stream",
     "text": [
      "/home/elijahc/.pyenv/versions/fastai/lib/python3.6/site-packages/luigi/parameter.py:283: UserWarning: Parameter \"overwrite\" with value \"False\" is not of type string.\n",
      "  warnings.warn('Parameter \"{}\" with value \"{}\" is not of type string.'.format(param_name, param_value))\n"
     ]
    }
   ],
   "source": [
    "fetch_channels = []\n",
    "for fid,fn in zip(ch_files.id.values,ch_files.filename.values):\n",
    "    fetch_channels.append(Raw(file_id=fid,save_to=target_dir,file_name=fn))"
   ]
  },
  {
   "cell_type": "code",
   "execution_count": 7,
   "metadata": {},
   "outputs": [
    {
     "name": "stdout",
     "output_type": "stream",
     "text": [
      "Raw(file_id=562424631468, file_name=CSC2.ncs, save_to=/home/elijahc/.emu/raw/pt1, overwrite=False)\n",
      "Raw(file_id=562456396395, file_name=CSC2_0001.ncs, save_to=/home/elijahc/.emu/raw/pt1, overwrite=False)\n",
      "Raw(file_id=562455030935, file_name=CSC2_0002.ncs, save_to=/home/elijahc/.emu/raw/pt1, overwrite=False)\n",
      "Raw(file_id=562456236833, file_name=CSC2_0003.ncs, save_to=/home/elijahc/.emu/raw/pt1, overwrite=False)\n",
      "Raw(file_id=562455850754, file_name=CSC2_0004.ncs, save_to=/home/elijahc/.emu/raw/pt1, overwrite=False)\n",
      "Raw(file_id=562439680761, file_name=CSC2_0005.ncs, save_to=/home/elijahc/.emu/raw/pt1, overwrite=False)\n",
      "Raw(file_id=562437888515, file_name=CSC2_0006.ncs, save_to=/home/elijahc/.emu/raw/pt1, overwrite=False)\n",
      "Raw(file_id=562455433734, file_name=CSC2_0007.ncs, save_to=/home/elijahc/.emu/raw/pt1, overwrite=False)\n",
      "Raw(file_id=562455468058, file_name=CSC2_0008.ncs, save_to=/home/elijahc/.emu/raw/pt1, overwrite=False)\n",
      "Raw(file_id=562440255622, file_name=CSC2_0009.ncs, save_to=/home/elijahc/.emu/raw/pt1, overwrite=False)\n",
      "Raw(file_id=562456956509, file_name=CSC2_0010.ncs, save_to=/home/elijahc/.emu/raw/pt1, overwrite=False)\n",
      "Raw(file_id=562456156422, file_name=CSC2_0011.ncs, save_to=/home/elijahc/.emu/raw/pt1, overwrite=False)\n",
      "Raw(file_id=562436876243, file_name=CSC2_0012.ncs, save_to=/home/elijahc/.emu/raw/pt1, overwrite=False)\n"
     ]
    }
   ],
   "source": [
    "for f in fetch_channels:\n",
    "    print(f)"
   ]
  },
  {
   "cell_type": "code",
   "execution_count": null,
   "metadata": {},
   "outputs": [],
   "source": []
  }
 ],
 "metadata": {
  "kernelspec": {
   "display_name": "Py3-fastai (Python3.6.1)",
   "language": "python",
   "name": "py3-fastai"
  },
  "language_info": {
   "codemirror_mode": {
    "name": "ipython",
    "version": 3
   },
   "file_extension": ".py",
   "mimetype": "text/x-python",
   "name": "python",
   "nbconvert_exporter": "python",
   "pygments_lexer": "ipython3",
   "version": "3.6.1"
  }
 },
 "nbformat": 4,
 "nbformat_minor": 4
}
