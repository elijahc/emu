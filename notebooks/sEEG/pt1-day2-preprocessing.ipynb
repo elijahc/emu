{
 "cells": [
  {
   "cell_type": "code",
   "execution_count": 1,
   "metadata": {},
   "outputs": [],
   "source": [
    "import os\n",
    "import warnings\n",
    "import numpy as np\n",
    "import luigi\n",
    "import emu.neuralynx_io as nlx\n",
    "from emu.pdil.raw import Electrophysiology,Participant,get_data_manifest,points_to_choice\n",
    "from emu.neuralynx_io import nev_as_records\n",
    "from emu.nwb import nlx_to_nwb\n",
    "from pynwb import TimeSeries, NWBFile,NWBHDF5IO\n",
    "from pynwb.ecephys import ElectricalSeries\n",
    "from pynwb.misc import AnnotationSeries\n",
    "import pandas as pd\n",
    "import datetime\n",
    "import glob\n",
    "\n",
    "from tqdm import tqdm_notebook as tqdm"
   ]
  },
  {
   "cell_type": "markdown",
   "metadata": {},
   "source": [
    "# End-to-end example for converting raw data to nwb"
   ]
  },
  {
   "cell_type": "code",
   "execution_count": 2,
   "metadata": {},
   "outputs": [],
   "source": [
    "all_files = get_data_manifest()"
   ]
  },
  {
   "cell_type": "code",
   "execution_count": 3,
   "metadata": {
    "scrolled": true
   },
   "outputs": [
    {
     "name": "stdout",
     "output_type": "stream",
     "text": [
      "nev path:  /home/elijahc/.emu/pdil/pt_01/SEEG/raw/PO_Day_02.Events.nev\n",
      "ncs_paths:\n",
      "/home/elijahc/.emu/pdil/pt_01/SEEG/raw/PO_Day_02.CSC100_0005.ncs\n",
      "/home/elijahc/.emu/pdil/pt_01/SEEG/raw/PO_Day_02.CSC100_0006.ncs\n",
      "/home/elijahc/.emu/pdil/pt_01/SEEG/raw/PO_Day_02.CSC100_0007.ncs\n",
      "/home/elijahc/.emu/pdil/pt_01/SEEG/raw/PO_Day_02.CSC101_0005.ncs\n",
      "/home/elijahc/.emu/pdil/pt_01/SEEG/raw/PO_Day_02.CSC101_0006.ncs\n",
      "/home/elijahc/.emu/pdil/pt_01/SEEG/raw/PO_Day_02.CSC101_0007.ncs\n",
      "/home/elijahc/.emu/pdil/pt_01/SEEG/raw/PO_Day_02.CSC102_0005.ncs\n",
      "/home/elijahc/.emu/pdil/pt_01/SEEG/raw/PO_Day_02.CSC102_0006.ncs\n",
      "/home/elijahc/.emu/pdil/pt_01/SEEG/raw/PO_Day_02.CSC102_0007.ncs\n",
      "/home/elijahc/.emu/pdil/pt_01/SEEG/raw/PO_Day_02.CSC103_0005.ncs\n"
     ]
    }
   ],
   "source": [
    "seeg_root = os.path.expanduser('~/.emu/pdil/pt_01/SEEG/raw/')\n",
    "\n",
    "nev_path = os.path.expanduser('~/.emu/pdil/pt_01/SEEG/raw/PO_Day_02.Events.nev')\n",
    "ncs_paths = sorted(glob.glob(os.path.join(seeg_root,'PO_Day_02.*.ncs')))\n",
    "\n",
    "# ncs = nlx.load_ncs()\n",
    "print('nev path: ',nev_path)\n",
    "print('ncs_paths:')\n",
    "for p in ncs_paths[:10]:\n",
    "    print(p)"
   ]
  },
  {
   "cell_type": "code",
   "execution_count": 4,
   "metadata": {},
   "outputs": [],
   "source": [
    "p = Participant(patient_id=1,raw_files=all_files,seeg_raw_path=seeg_root)"
   ]
  },
  {
   "cell_type": "markdown",
   "metadata": {},
   "source": [
    "The [Participant](https://github.com/elijahc/emu/blob/3b240fbe8bfd4363ceadcf152dc6811c63493a3a/emu/pdil/raw.py#L221) class provides helper functions for managing all the raw data collected from a single patient\n",
    "\n",
    "`Participant.cache_behavior()` returns a list of BehaviorRaw luigi tasks to fetch every raw behavior data.\n",
    "\n",
    "- `BehaviorRaw.output().path` stores the path to where its file *should* exist locally.\n",
    "- `BehaviorRaw.output().exists()` with retrn True if the file specified by `path` exists.\n",
    "\n",
    "```python\n",
    "def cache_behavior(self,verbose=False):\n",
    "    for i,row in self.behavior_files.iterrows():\n",
    "        t = BehaviorRaw(\n",
    "            patient_id=row.patient_id,\n",
    "            file_id=row.id,\n",
    "            file_name=row.filename,\n",
    "            save_to=self.behavior_raw_path,\n",
    "        )\n",
    "        yield t\n",
    "```\n",
    "\n",
    "- `Participant.load_game_data()` and `Participant.load_pdil_events()` will load mat files containing outcomes from the [pdil game](https://github.com/elijahc/emu/tree/master/PDil) implemented in psych toolbox as well as tic-toc timing of each screen and keypress which we'll sync to ephys data."
   ]
  },
  {
   "cell_type": "markdown",
   "metadata": {},
   "source": [
    "- `Participant.load_pdil_events()` and `Participant.load_game_data()` are generators that both use `cache_behavior()` to ensure all behavior files have been downloaded before trying to extract data from them.\n",
    "\n",
    "```python\n",
    "def load_pdil_events(self):\n",
    "    tasks = list(self.cache_behavior())\n",
    "    missing_tasks = [t for t in tasks if not t.output().exists()]\n",
    "    print('{} missing tasks'.format(len(missing_tasks)))\n",
    "\n",
    "    if len(missing_tasks) > 0:\n",
    "        luigi.build(missing_tasks,local_scheduler=local_scheduler)\n",
    "\n",
    "   ...\n",
    "```\n",
    " \n",
    " - Both behavior load functions are python generators which will `yield` a pandas DataFrame for each block\n",
    " \n",
    " - If you wrap the function call in pd.concat(), to get a combined DataFrame across all blocks"
   ]
  },
  {
   "cell_type": "code",
   "execution_count": 5,
   "metadata": {},
   "outputs": [
    {
     "name": "stdout",
     "output_type": "stream",
     "text": [
      "0 missing tasks\n"
     ]
    },
    {
     "data": {
      "text/html": [
       "<div>\n",
       "<style scoped>\n",
       "    .dataframe tbody tr th:only-of-type {\n",
       "        vertical-align: middle;\n",
       "    }\n",
       "\n",
       "    .dataframe tbody tr th {\n",
       "        vertical-align: top;\n",
       "    }\n",
       "\n",
       "    .dataframe thead th {\n",
       "        text-align: right;\n",
       "    }\n",
       "</style>\n",
       "<table border=\"1\" class=\"dataframe\">\n",
       "  <thead>\n",
       "    <tr style=\"text-align: right;\">\n",
       "      <th></th>\n",
       "      <th>event</th>\n",
       "      <th>event_delta</th>\n",
       "      <th>screen</th>\n",
       "      <th>trial</th>\n",
       "      <th>block</th>\n",
       "      <th>ttl_delta</th>\n",
       "    </tr>\n",
       "  </thead>\n",
       "  <tbody>\n",
       "    <tr>\n",
       "      <th>0</th>\n",
       "      <td>trial_start</td>\n",
       "      <td>0.000000</td>\n",
       "      <td>NaN</td>\n",
       "      <td>0</td>\n",
       "      <td>3</td>\n",
       "      <td>0.000000</td>\n",
       "    </tr>\n",
       "    <tr>\n",
       "      <th>1</th>\n",
       "      <td>render_screen1</td>\n",
       "      <td>1.569078</td>\n",
       "      <td>1</td>\n",
       "      <td>1</td>\n",
       "      <td>3</td>\n",
       "      <td>1.569078</td>\n",
       "    </tr>\n",
       "    <tr>\n",
       "      <th>2</th>\n",
       "      <td>keypress1</td>\n",
       "      <td>2.035263</td>\n",
       "      <td>1</td>\n",
       "      <td>1</td>\n",
       "      <td>3</td>\n",
       "      <td>3.604341</td>\n",
       "    </tr>\n",
       "    <tr>\n",
       "      <th>3</th>\n",
       "      <td>render_screen2</td>\n",
       "      <td>1.613659</td>\n",
       "      <td>2</td>\n",
       "      <td>1</td>\n",
       "      <td>3</td>\n",
       "      <td>5.218000</td>\n",
       "    </tr>\n",
       "    <tr>\n",
       "      <th>4</th>\n",
       "      <td>keypress2</td>\n",
       "      <td>1.890656</td>\n",
       "      <td>2</td>\n",
       "      <td>1</td>\n",
       "      <td>3</td>\n",
       "      <td>7.108656</td>\n",
       "    </tr>\n",
       "  </tbody>\n",
       "</table>\n",
       "</div>"
      ],
      "text/plain": [
       "            event  event_delta screen  trial  block  ttl_delta\n",
       "0     trial_start     0.000000    NaN      0      3   0.000000\n",
       "1  render_screen1     1.569078      1      1      3   1.569078\n",
       "2       keypress1     2.035263      1      1      3   3.604341\n",
       "3  render_screen2     1.613659      2      1      3   5.218000\n",
       "4       keypress2     1.890656      2      1      3   7.108656"
      ]
     },
     "execution_count": 5,
     "metadata": {},
     "output_type": "execute_result"
    }
   ],
   "source": [
    "pd.concat(p.load_pdil_events()).head()"
   ]
  },
  {
   "cell_type": "markdown",
   "metadata": {},
   "source": [
    "- `Participant.cache_nev()` and `Participant.cache_ncs()` are the sEEG analogues of `cache_behavior()` and basically do the same thing for the neuralynx channel files (.ncs) which store lfp traces and event files (.nev) which store timestamped ttls sent by the pdil task."
   ]
  },
  {
   "cell_type": "code",
   "execution_count": 6,
   "metadata": {},
   "outputs": [
    {
     "name": "stdout",
     "output_type": "stream",
     "text": [
      "['PO_Day_02.CSC100_0007.ncs', 'PO_Day_02.CSC101_0007.ncs', 'PO_Day_02.CSC102_0007.ncs', 'PO_Day_02.CSC103_0007.ncs', 'PO_Day_02.CSC104_0007.ncs', 'PO_Day_02.CSC105_0007.ncs', 'PO_Day_02.CSC106_0007.ncs', 'PO_Day_02.CSC107_0007.ncs', 'PO_Day_02.CSC108_0007.ncs', 'PO_Day_02.CSC109_0007.ncs'] \n",
      "\n",
      "NLXRaw(file=/.emu/pdil/pt_01/SEEG/raw/PO_Day_02.Events_0007.nev)\n"
     ]
    }
   ],
   "source": [
    "# Create a list of download tasks for the POD2 ncs files\n",
    "# These files have a _0007 \n",
    "d2_ncs = [t for t in p.cache_ncs() if 'PO_Day_02' in t.file_name and '0007' in t.file_name]\n",
    "print([t.file_name for t in d2_ncs[:10]],'\\n')\n",
    "\n",
    "# Create a list of download tasks for the POD4 nev files\n",
    "d2_nev = [t for t in p.cache_nev() if 'PO_Day_02' in t.file_name and '0007' in t.file_name][0]\n",
    "print(d2_nev)"
   ]
  },
  {
   "cell_type": "code",
   "execution_count": 7,
   "metadata": {},
   "outputs": [],
   "source": [
    "d2_ncs_paths = [t.output().path for t in d2_ncs]"
   ]
  },
  {
   "cell_type": "code",
   "execution_count": 8,
   "metadata": {},
   "outputs": [
    {
     "name": "stderr",
     "output_type": "stream",
     "text": [
      "compressing channels: 100%|██████████| 176/176 [02:55<00:00,  1.00it/s]\n"
     ]
    },
    {
     "name": "stdout",
     "output_type": "stream",
     "text": [
      "0 missing tasks\n",
      "0 missing tasks\n"
     ]
    }
   ],
   "source": [
    "nwb = p.create_nwb(d2_nev.output().path,d2_ncs_paths,blocks=[0,1,2],desc='Patient 1 | Post-op Day 2')"
   ]
  },
  {
   "cell_type": "code",
   "execution_count": 9,
   "metadata": {},
   "outputs": [
    {
     "data": {
      "text/html": [
       "<div>\n",
       "<style scoped>\n",
       "    .dataframe tbody tr th:only-of-type {\n",
       "        vertical-align: middle;\n",
       "    }\n",
       "\n",
       "    .dataframe tbody tr th {\n",
       "        vertical-align: top;\n",
       "    }\n",
       "\n",
       "    .dataframe thead th {\n",
       "        text-align: right;\n",
       "    }\n",
       "</style>\n",
       "<table border=\"1\" class=\"dataframe\">\n",
       "  <thead>\n",
       "    <tr style=\"text-align: right;\">\n",
       "      <th></th>\n",
       "      <th>start_time</th>\n",
       "      <th>stop_time</th>\n",
       "      <th>outcome</th>\n",
       "    </tr>\n",
       "    <tr>\n",
       "      <th>id</th>\n",
       "      <th></th>\n",
       "      <th></th>\n",
       "      <th></th>\n",
       "    </tr>\n",
       "  </thead>\n",
       "  <tbody>\n",
       "    <tr>\n",
       "      <th>0</th>\n",
       "      <td>218.069584</td>\n",
       "      <td>256.902164</td>\n",
       "      <td>C-C</td>\n",
       "    </tr>\n",
       "    <tr>\n",
       "      <th>1</th>\n",
       "      <td>256.918818</td>\n",
       "      <td>288.060886</td>\n",
       "      <td>D-C</td>\n",
       "    </tr>\n",
       "    <tr>\n",
       "      <th>2</th>\n",
       "      <td>288.068212</td>\n",
       "      <td>311.112146</td>\n",
       "      <td>C-D</td>\n",
       "    </tr>\n",
       "    <tr>\n",
       "      <th>3</th>\n",
       "      <td>311.117797</td>\n",
       "      <td>330.989862</td>\n",
       "      <td>C-C</td>\n",
       "    </tr>\n",
       "    <tr>\n",
       "      <th>4</th>\n",
       "      <td>331.000757</td>\n",
       "      <td>356.371729</td>\n",
       "      <td>D-C</td>\n",
       "    </tr>\n",
       "  </tbody>\n",
       "</table>\n",
       "</div>"
      ],
      "text/plain": [
       "    start_time   stop_time outcome\n",
       "id                                \n",
       "0   218.069584  256.902164     C-C\n",
       "1   256.918818  288.060886     D-C\n",
       "2   288.068212  311.112146     C-D\n",
       "3   311.117797  330.989862     C-C\n",
       "4   331.000757  356.371729     D-C"
      ]
     },
     "execution_count": 9,
     "metadata": {},
     "output_type": "execute_result"
    }
   ],
   "source": [
    "nwb.trials.to_dataframe().head()"
   ]
  },
  {
   "cell_type": "code",
   "execution_count": 10,
   "metadata": {},
   "outputs": [
    {
     "data": {
      "text/plain": [
       "ttl pynwb.misc.AnnotationSeries at 0x139918626436656\n",
       "Fields:\n",
       "  comments: no comments\n",
       "  conversion: 1.0\n",
       "  data: ['block_start' 'block_start' 'trial_start' 'trial_start' 'trial_start'\n",
       " 'trial_start' 'trial_start' 'trial_start' 'trial_start' 'trial_start'\n",
       " 'block_start' 'block_start' 'trial_start' 'trial_start' 'trial_start'\n",
       " 'trial_start' 'trial_start' 'trial_start' 'trial_start' 'trial_start'\n",
       " 'trial_start' 'trial_start' 'trial_start' 'trial_start' 'trial_start'\n",
       " 'trial_start' 'trial_start' 'block_start' 'block_start' 'trial_start'\n",
       " 'trial_start' 'trial_start' 'trial_start' 'trial_start' 'trial_start'\n",
       " 'trial_start' 'trial_start' 'trial_start' 'trial_start' 'trial_start'\n",
       " 'trial_start' 'trial_start' 'trial_start' 'trial_start']\n",
       "  description: no description\n",
       "  interval: 1\n",
       "  resolution: -1.0\n",
       "  timestamps: [ 166.02063608  166.23729205  218.06958389  256.918818    288.06821203\n",
       "  311.1177969   331.00075698  356.38362193  375.11661506  395.88288689\n",
       "  491.21444297  491.43109894  510.847404    528.49705291  544.4967649\n",
       "  561.52978992  577.86281395  645.82825589  670.81112099  687.31083298\n",
       "  701.76054597  718.21025801  778.62582803  799.57541299  813.57515693\n",
       "  830.87483788  847.00789404  959.44677901  959.66346693 1012.6957891\n",
       " 1028.22884488 1042.34524608 1061.39489508 1080.99451208 1113.19393587\n",
       " 1133.54355288 1148.44326591 1164.15966606 1180.24269104 1210.82545996\n",
       " 1234.75835609 1252.54137993 1272.97434092 1289.94067788]\n",
       "  timestamps_unit: seconds\n",
       "  unit: n/a"
      ]
     },
     "execution_count": 10,
     "metadata": {},
     "output_type": "execute_result"
    }
   ],
   "source": [
    "nwb.acquisition['ttl']"
   ]
  },
  {
   "cell_type": "code",
   "execution_count": 11,
   "metadata": {},
   "outputs": [],
   "source": [
    "with NWBHDF5IO(os.path.join(seeg_root,'..','processed','PO_Day_02.nwb'),'w') as io:\n",
    "    io.write(nwb)"
   ]
  },
  {
   "cell_type": "code",
   "execution_count": 18,
   "metadata": {},
   "outputs": [
    {
     "data": {
      "text/plain": [
       "ttl pynwb.misc.AnnotationSeries at 0x139918626436656\n",
       "Fields:\n",
       "  comments: no comments\n",
       "  conversion: 1.0\n",
       "  data: ['block_start' 'block_start' 'trial_start' 'trial_start' 'trial_start'\n",
       " 'trial_start' 'trial_start' 'trial_start' 'trial_start' 'trial_start'\n",
       " 'block_start' 'block_start' 'trial_start' 'trial_start' 'trial_start'\n",
       " 'trial_start' 'trial_start' 'trial_start' 'trial_start' 'trial_start'\n",
       " 'trial_start' 'trial_start' 'trial_start' 'trial_start' 'trial_start'\n",
       " 'trial_start' 'trial_start' 'block_start' 'block_start' 'trial_start'\n",
       " 'trial_start' 'trial_start' 'trial_start' 'trial_start' 'trial_start'\n",
       " 'trial_start' 'trial_start' 'trial_start' 'trial_start' 'trial_start'\n",
       " 'trial_start' 'trial_start' 'trial_start' 'trial_start']\n",
       "  description: no description\n",
       "  interval: 1\n",
       "  resolution: -1.0\n",
       "  timestamps: [ 166.02063608  166.23729205  218.06958389  256.918818    288.06821203\n",
       "  311.1177969   331.00075698  356.38362193  375.11661506  395.88288689\n",
       "  491.21444297  491.43109894  510.847404    528.49705291  544.4967649\n",
       "  561.52978992  577.86281395  645.82825589  670.81112099  687.31083298\n",
       "  701.76054597  718.21025801  778.62582803  799.57541299  813.57515693\n",
       "  830.87483788  847.00789404  959.44677901  959.66346693 1012.6957891\n",
       " 1028.22884488 1042.34524608 1061.39489508 1080.99451208 1113.19393587\n",
       " 1133.54355288 1148.44326591 1164.15966606 1180.24269104 1210.82545996\n",
       " 1234.75835609 1252.54137993 1272.97434092 1289.94067788]\n",
       "  timestamps_unit: seconds\n",
       "  unit: n/a"
      ]
     },
     "execution_count": 18,
     "metadata": {},
     "output_type": "execute_result"
    }
   ],
   "source": [
    "nwb.acquisition['ttl']"
   ]
  },
  {
   "cell_type": "code",
   "execution_count": 38,
   "metadata": {},
   "outputs": [],
   "source": [
    "import scipy.io as sio"
   ]
  },
  {
   "cell_type": "code",
   "execution_count": 19,
   "metadata": {},
   "outputs": [],
   "source": [
    "channels = [ch for ch in nwb.acquisition.keys() if ch.startswith('channel')]"
   ]
  },
  {
   "cell_type": "code",
   "execution_count": 42,
   "metadata": {},
   "outputs": [],
   "source": [
    "def nwb_to_mat(out_mat,compress=True):\n",
    "#     channels = [ch for ch in nwb.acquisition.keys() if ch.startswith('channel')]\n",
    "    mdict = {k:nwb.acquisition[k].data for k in nwb.acquisition.keys()}\n",
    "    sio.savemat(out_mat,mdict,do_compression=compress)\n"
   ]
  },
  {
   "cell_type": "code",
   "execution_count": 43,
   "metadata": {},
   "outputs": [],
   "source": [
    "md = nwb_to_mat('/home/elijahc/.emu/pdil/pt_01/SEEG/processed/PO_Day_02.mat')\n"
   ]
  },
  {
   "cell_type": "code",
   "execution_count": null,
   "metadata": {},
   "outputs": [],
   "source": [
    "sio.savemat('')"
   ]
  }
 ],
 "metadata": {
  "kernelspec": {
   "display_name": "Python 3",
   "language": "python",
   "name": "python3"
  },
  "language_info": {
   "codemirror_mode": {
    "name": "ipython",
    "version": 3
   },
   "file_extension": ".py",
   "mimetype": "text/x-python",
   "name": "python",
   "nbconvert_exporter": "python",
   "pygments_lexer": "ipython3",
   "version": "3.6.8"
  }
 },
 "nbformat": 4,
 "nbformat_minor": 4
}
