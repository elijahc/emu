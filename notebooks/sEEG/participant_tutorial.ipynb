{
 "cells": [
  {
   "cell_type": "code",
   "execution_count": 1,
   "metadata": {},
   "outputs": [],
   "source": [
    "import os\n",
    "import warnings\n",
    "import numpy as np\n",
    "import luigi\n",
    "import emu.neuralynx_io as nlx\n",
    "from tqdm import tqdm as tqdm\n",
    "from emu.pdil.raw import Electrophysiology,Participant,get_data_manifest,points_to_choice\n",
    "from emu.neuralynx_io import nev_as_records\n",
    "from emu.nwb import nlx_to_nwb\n",
    "from pynwb import TimeSeries, NWBFile,NWBHDF5IO\n",
    "from pynwb.ecephys import ElectricalSeries\n",
    "from pynwb.misc import AnnotationSeries\n",
    "import pandas as pd\n",
    "import datetime\n",
    "import glob"
   ]
  },
  {
   "cell_type": "code",
   "execution_count": 2,
   "metadata": {},
   "outputs": [],
   "source": [
    "import os\n",
    "from emu.pdil.raw import Electrophysiology,Participant,get_data_manifest,points_to_choice\n",
    "import luigi"
   ]
  },
  {
   "cell_type": "code",
   "execution_count": 3,
   "metadata": {},
   "outputs": [],
   "source": [
    "all_files = get_data_manifest()\n",
    "seeg_root = os.path.expanduser('/home/elijahc/.emu/pdil/pt_6305/SEEG/raw')\n",
    "\n",
    "# p = Participant(patient_id=1,raw_files=all_files,seeg_raw_path=seeg_root)"
   ]
  },
  {
   "cell_type": "code",
   "execution_count": 4,
   "metadata": {},
   "outputs": [],
   "source": [
    "p = Participant(patient_id=6305, raw_files=all_files, seeg_raw_path=seeg_root)"
   ]
  },
  {
   "cell_type": "code",
   "execution_count": 5,
   "metadata": {},
   "outputs": [
    {
     "name": "stdout",
     "output_type": "stream",
     "text": [
      "['PO_Day_04.CSC1.ncs', 'PO_Day_04.CSC10.ncs', 'PO_Day_04.CSC100.ncs', 'PO_Day_04.CSC101.ncs', 'PO_Day_04.CSC102.ncs', 'PO_Day_04.CSC103.ncs', 'PO_Day_04.CSC104.ncs', 'PO_Day_04.CSC105.ncs', 'PO_Day_04.CSC106.ncs', 'PO_Day_04.CSC107.ncs'] \n",
      "\n",
      "NLXRaw(file=/.emu/pdil/pt_6305/SEEG/raw/PO_Day_04.Events.nev)\n"
     ]
    }
   ],
   "source": [
    "# Create a list of download tasks for the POD4 ncs files\n",
    "all_ncs_tasks = list(p.cache_ncs())\n",
    "d4_ncs_tasks = [t for t in all_ncs_tasks if 'PO_Day_04' in t.output().path]\n",
    "print([t.file_name for t in d4_ncs_tasks[:10]],'\\n')\n",
    "\n",
    "\n",
    "# Create a list of download tasks for the POD4 nev files\n",
    "d4_nev = [t for t in list(p.cache_nev()) if 'PO_Day_04.Events.nev' in t.output().path][0]\n",
    "print(d4_nev)"
   ]
  },
  {
   "cell_type": "code",
   "execution_count": 6,
   "metadata": {},
   "outputs": [
    {
     "name": "stderr",
     "output_type": "stream",
     "text": [
      "DEBUG: Checking if NLXRaw(file=/.emu/pdil/pt_6305/SEEG/raw/PO_Day_04.CSC1.ncs) is complete\n",
      "INFO: Informed scheduler that task   NLXRaw__home_elijahc__e_632004419788_PO_Day_04_CSC1_n_0e1342afca   has status   DONE\n",
      "DEBUG: Checking if NLXRaw(file=/.emu/pdil/pt_6305/SEEG/raw/PO_Day_04.CSC10.ncs) is complete\n",
      "INFO: Informed scheduler that task   NLXRaw__home_elijahc__e_632004417388_PO_Day_04_CSC10__5c9c0eb3e2   has status   DONE\n",
      "DEBUG: Checking if NLXRaw(file=/.emu/pdil/pt_6305/SEEG/raw/PO_Day_04.CSC100.ncs) is complete\n",
      "INFO: Informed scheduler that task   NLXRaw__home_elijahc__e_632881825314_PO_Day_04_CSC100_db1ffe41bb   has status   DONE\n",
      "DEBUG: Checking if NLXRaw(file=/.emu/pdil/pt_6305/SEEG/raw/PO_Day_04.CSC101.ncs) is complete\n",
      "INFO: Informed scheduler that task   NLXRaw__home_elijahc__e_632882696587_PO_Day_04_CSC101_47495c0550   has status   DONE\n",
      "DEBUG: Checking if NLXRaw(file=/.emu/pdil/pt_6305/SEEG/raw/PO_Day_04.CSC102.ncs) is complete\n",
      "INFO: Informed scheduler that task   NLXRaw__home_elijahc__e_632865817530_PO_Day_04_CSC102_39a047cf11   has status   DONE\n",
      "DEBUG: Checking if NLXRaw(file=/.emu/pdil/pt_6305/SEEG/raw/PO_Day_04.CSC103.ncs) is complete\n",
      "INFO: Informed scheduler that task   NLXRaw__home_elijahc__e_632875868886_PO_Day_04_CSC103_0141391a3c   has status   DONE\n",
      "DEBUG: Checking if NLXRaw(file=/.emu/pdil/pt_6305/SEEG/raw/PO_Day_04.CSC104.ncs) is complete\n",
      "INFO: Informed scheduler that task   NLXRaw__home_elijahc__e_632880343966_PO_Day_04_CSC104_77fa7737a5   has status   DONE\n",
      "DEBUG: Checking if NLXRaw(file=/.emu/pdil/pt_6305/SEEG/raw/PO_Day_04.CSC105.ncs) is complete\n",
      "INFO: Informed scheduler that task   NLXRaw__home_elijahc__e_632866758232_PO_Day_04_CSC105_453ed5132b   has status   DONE\n",
      "DEBUG: Checking if NLXRaw(file=/.emu/pdil/pt_6305/SEEG/raw/PO_Day_04.CSC106.ncs) is complete\n",
      "INFO: Informed scheduler that task   NLXRaw__home_elijahc__e_632860584434_PO_Day_04_CSC106_f22dc7f4b0   has status   DONE\n",
      "DEBUG: Checking if NLXRaw(file=/.emu/pdil/pt_6305/SEEG/raw/PO_Day_04.CSC107.ncs) is complete\n",
      "INFO: Informed scheduler that task   NLXRaw__home_elijahc__e_632877689149_PO_Day_04_CSC107_c4c808ea5e   has status   DONE\n",
      "DEBUG: Checking if NLXRaw(file=/.emu/pdil/pt_6305/SEEG/raw/PO_Day_04.CSC108.ncs) is complete\n",
      "INFO: Informed scheduler that task   NLXRaw__home_elijahc__e_632880144260_PO_Day_04_CSC108_08155e20b8   has status   DONE\n",
      "DEBUG: Checking if NLXRaw(file=/.emu/pdil/pt_6305/SEEG/raw/PO_Day_04.CSC109.ncs) is complete\n",
      "INFO: Informed scheduler that task   NLXRaw__home_elijahc__e_632875607523_PO_Day_04_CSC109_d3df72ccdc   has status   DONE\n",
      "DEBUG: Checking if NLXRaw(file=/.emu/pdil/pt_6305/SEEG/raw/PO_Day_04.CSC11.ncs) is complete\n",
      "INFO: Informed scheduler that task   NLXRaw__home_elijahc__e_632004414988_PO_Day_04_CSC11__d2db3248cd   has status   DONE\n",
      "DEBUG: Checking if NLXRaw(file=/.emu/pdil/pt_6305/SEEG/raw/PO_Day_04.CSC110.ncs) is complete\n",
      "INFO: Informed scheduler that task   NLXRaw__home_elijahc__e_632878920390_PO_Day_04_CSC110_8db66798a2   has status   DONE\n",
      "DEBUG: Checking if NLXRaw(file=/.emu/pdil/pt_6305/SEEG/raw/PO_Day_04.CSC111.ncs) is complete\n",
      "INFO: Informed scheduler that task   NLXRaw__home_elijahc__e_632878400856_PO_Day_04_CSC111_e22f0910c9   has status   DONE\n",
      "DEBUG: Checking if NLXRaw(file=/.emu/pdil/pt_6305/SEEG/raw/PO_Day_04.CSC112.ncs) is complete\n",
      "INFO: Informed scheduler that task   NLXRaw__home_elijahc__e_632870822728_PO_Day_04_CSC112_d421f94d16   has status   DONE\n",
      "DEBUG: Checking if NLXRaw(file=/.emu/pdil/pt_6305/SEEG/raw/PO_Day_04.CSC113.ncs) is complete\n",
      "INFO: Informed scheduler that task   NLXRaw__home_elijahc__e_632883297787_PO_Day_04_CSC113_622dea8fa4   has status   DONE\n",
      "DEBUG: Checking if NLXRaw(file=/.emu/pdil/pt_6305/SEEG/raw/PO_Day_04.CSC114.ncs) is complete\n",
      "INFO: Informed scheduler that task   NLXRaw__home_elijahc__e_632884835268_PO_Day_04_CSC114_61420ae5f6   has status   DONE\n",
      "DEBUG: Checking if NLXRaw(file=/.emu/pdil/pt_6305/SEEG/raw/PO_Day_04.CSC115.ncs) is complete\n",
      "INFO: Informed scheduler that task   NLXRaw__home_elijahc__e_632880189896_PO_Day_04_CSC115_4b6af1c2f8   has status   DONE\n",
      "DEBUG: Checking if NLXRaw(file=/.emu/pdil/pt_6305/SEEG/raw/PO_Day_04.CSC116.ncs) is complete\n",
      "INFO: Informed scheduler that task   NLXRaw__home_elijahc__e_632867033066_PO_Day_04_CSC116_51bcdf2d48   has status   DONE\n",
      "DEBUG: Checking if NLXRaw(file=/.emu/pdil/pt_6305/SEEG/raw/PO_Day_04.CSC117.ncs) is complete\n",
      "INFO: Informed scheduler that task   NLXRaw__home_elijahc__e_632883422919_PO_Day_04_CSC117_65735eeba6   has status   DONE\n",
      "DEBUG: Checking if NLXRaw(file=/.emu/pdil/pt_6305/SEEG/raw/PO_Day_04.CSC118.ncs) is complete\n",
      "INFO: Informed scheduler that task   NLXRaw__home_elijahc__e_632880615410_PO_Day_04_CSC118_413c837945   has status   DONE\n",
      "DEBUG: Checking if NLXRaw(file=/.emu/pdil/pt_6305/SEEG/raw/PO_Day_04.CSC119.ncs) is complete\n",
      "INFO: Informed scheduler that task   NLXRaw__home_elijahc__e_632857282854_PO_Day_04_CSC119_555384438c   has status   DONE\n",
      "DEBUG: Checking if NLXRaw(file=/.emu/pdil/pt_6305/SEEG/raw/PO_Day_04.CSC12.ncs) is complete\n",
      "INFO: Informed scheduler that task   NLXRaw__home_elijahc__e_632004411388_PO_Day_04_CSC12__7fc4e81995   has status   DONE\n",
      "DEBUG: Checking if NLXRaw(file=/.emu/pdil/pt_6305/SEEG/raw/PO_Day_04.CSC120.ncs) is complete\n",
      "INFO: Informed scheduler that task   NLXRaw__home_elijahc__e_632852532499_PO_Day_04_CSC120_9e42739f51   has status   DONE\n",
      "DEBUG: Checking if NLXRaw(file=/.emu/pdil/pt_6305/SEEG/raw/PO_Day_04.CSC121.ncs) is complete\n",
      "INFO: Informed scheduler that task   NLXRaw__home_elijahc__e_632862936615_PO_Day_04_CSC121_fd8e8d0c99   has status   DONE\n",
      "DEBUG: Checking if NLXRaw(file=/.emu/pdil/pt_6305/SEEG/raw/PO_Day_04.CSC122.ncs) is complete\n",
      "INFO: Informed scheduler that task   NLXRaw__home_elijahc__e_632866427029_PO_Day_04_CSC122_f97c108f5d   has status   DONE\n",
      "DEBUG: Checking if NLXRaw(file=/.emu/pdil/pt_6305/SEEG/raw/PO_Day_04.CSC123.ncs) is complete\n",
      "INFO: Informed scheduler that task   NLXRaw__home_elijahc__e_632883496895_PO_Day_04_CSC123_0dd819de71   has status   DONE\n",
      "DEBUG: Checking if NLXRaw(file=/.emu/pdil/pt_6305/SEEG/raw/PO_Day_04.CSC124.ncs) is complete\n",
      "INFO: Informed scheduler that task   NLXRaw__home_elijahc__e_632884662551_PO_Day_04_CSC124_1b3e3e6409   has status   DONE\n",
      "DEBUG: Checking if NLXRaw(file=/.emu/pdil/pt_6305/SEEG/raw/PO_Day_04.CSC125.ncs) is complete\n",
      "INFO: Informed scheduler that task   NLXRaw__home_elijahc__e_632883627965_PO_Day_04_CSC125_6eb94c180d   has status   DONE\n",
      "DEBUG: Checking if NLXRaw(file=/.emu/pdil/pt_6305/SEEG/raw/PO_Day_04.CSC126.ncs) is complete\n",
      "INFO: Informed scheduler that task   NLXRaw__home_elijahc__e_632872093479_PO_Day_04_CSC126_09d40ff7f1   has status   DONE\n",
      "DEBUG: Checking if NLXRaw(file=/.emu/pdil/pt_6305/SEEG/raw/PO_Day_04.CSC127.ncs) is complete\n",
      "INFO: Informed scheduler that task   NLXRaw__home_elijahc__e_632883374744_PO_Day_04_CSC127_fd8af2d7d8   has status   DONE\n",
      "DEBUG: Checking if NLXRaw(file=/.emu/pdil/pt_6305/SEEG/raw/PO_Day_04.CSC128.ncs) is complete\n",
      "INFO: Informed scheduler that task   NLXRaw__home_elijahc__e_632861898898_PO_Day_04_CSC128_ea316bda1e   has status   DONE\n",
      "DEBUG: Checking if NLXRaw(file=/.emu/pdil/pt_6305/SEEG/raw/PO_Day_04.CSC129.ncs) is complete\n",
      "INFO: Informed scheduler that task   NLXRaw__home_elijahc__e_632857453945_PO_Day_04_CSC129_0ec1378eea   has status   DONE\n",
      "DEBUG: Checking if NLXRaw(file=/.emu/pdil/pt_6305/SEEG/raw/PO_Day_04.CSC13.ncs) is complete\n",
      "INFO: Informed scheduler that task   NLXRaw__home_elijahc__e_632004410188_PO_Day_04_CSC13__1357cfcf7e   has status   DONE\n",
      "DEBUG: Checking if NLXRaw(file=/.emu/pdil/pt_6305/SEEG/raw/PO_Day_04.CSC130.ncs) is complete\n",
      "INFO: Informed scheduler that task   NLXRaw__home_elijahc__e_632882787905_PO_Day_04_CSC130_98913963b6   has status   DONE\n",
      "DEBUG: Checking if NLXRaw(file=/.emu/pdil/pt_6305/SEEG/raw/PO_Day_04.CSC131.ncs) is complete\n",
      "INFO: Informed scheduler that task   NLXRaw__home_elijahc__e_632863330814_PO_Day_04_CSC131_4237e8deba   has status   DONE\n",
      "DEBUG: Checking if NLXRaw(file=/.emu/pdil/pt_6305/SEEG/raw/PO_Day_04.CSC132.ncs) is complete\n",
      "INFO: Informed scheduler that task   NLXRaw__home_elijahc__e_632890290580_PO_Day_04_CSC132_4227ba6bfb   has status   DONE\n",
      "DEBUG: Checking if NLXRaw(file=/.emu/pdil/pt_6305/SEEG/raw/PO_Day_04.CSC133.ncs) is complete\n"
     ]
    },
    {
     "name": "stderr",
     "output_type": "stream",
     "text": [
      "INFO: Informed scheduler that task   NLXRaw__home_elijahc__e_632876875686_PO_Day_04_CSC133_e9bcd12aff   has status   DONE\n",
      "DEBUG: Checking if NLXRaw(file=/.emu/pdil/pt_6305/SEEG/raw/PO_Day_04.CSC134.ncs) is complete\n",
      "INFO: Informed scheduler that task   NLXRaw__home_elijahc__e_632882574035_PO_Day_04_CSC134_47adeb44e7   has status   DONE\n",
      "DEBUG: Checking if NLXRaw(file=/.emu/pdil/pt_6305/SEEG/raw/PO_Day_04.CSC135.ncs) is complete\n",
      "INFO: Informed scheduler that task   NLXRaw__home_elijahc__e_632883516344_PO_Day_04_CSC135_257e89e93a   has status   DONE\n",
      "DEBUG: Checking if NLXRaw(file=/.emu/pdil/pt_6305/SEEG/raw/PO_Day_04.CSC136.ncs) is complete\n",
      "INFO: Informed scheduler that task   NLXRaw__home_elijahc__e_632864772461_PO_Day_04_CSC136_c7aa2d425a   has status   DONE\n",
      "DEBUG: Checking if NLXRaw(file=/.emu/pdil/pt_6305/SEEG/raw/PO_Day_04.CSC137.ncs) is complete\n",
      "INFO: Informed scheduler that task   NLXRaw__home_elijahc__e_632860151053_PO_Day_04_CSC137_5a1857da40   has status   DONE\n",
      "DEBUG: Checking if NLXRaw(file=/.emu/pdil/pt_6305/SEEG/raw/PO_Day_04.CSC138.ncs) is complete\n",
      "INFO: Informed scheduler that task   NLXRaw__home_elijahc__e_632862310742_PO_Day_04_CSC138_e7dca2c76e   has status   DONE\n",
      "DEBUG: Checking if NLXRaw(file=/.emu/pdil/pt_6305/SEEG/raw/PO_Day_04.CSC139.ncs) is complete\n",
      "INFO: Informed scheduler that task   NLXRaw__home_elijahc__e_632865846166_PO_Day_04_CSC139_394b2e0b1c   has status   DONE\n",
      "DEBUG: Checking if NLXRaw(file=/.emu/pdil/pt_6305/SEEG/raw/PO_Day_04.CSC14.ncs) is complete\n",
      "INFO: Informed scheduler that task   NLXRaw__home_elijahc__e_632004407788_PO_Day_04_CSC14__013ddb6709   has status   DONE\n",
      "DEBUG: Checking if NLXRaw(file=/.emu/pdil/pt_6305/SEEG/raw/PO_Day_04.CSC140.ncs) is complete\n",
      "INFO: Informed scheduler that task   NLXRaw__home_elijahc__e_632879660486_PO_Day_04_CSC140_b2f2d70ab0   has status   DONE\n",
      "DEBUG: Checking if NLXRaw(file=/.emu/pdil/pt_6305/SEEG/raw/PO_Day_04.CSC141.ncs) is complete\n",
      "INFO: Informed scheduler that task   NLXRaw__home_elijahc__e_632883943117_PO_Day_04_CSC141_e9fc5b0714   has status   DONE\n",
      "DEBUG: Checking if NLXRaw(file=/.emu/pdil/pt_6305/SEEG/raw/PO_Day_04.CSC142.ncs) is complete\n",
      "INFO: Informed scheduler that task   NLXRaw__home_elijahc__e_632860212253_PO_Day_04_CSC142_90e75b735e   has status   DONE\n",
      "DEBUG: Checking if NLXRaw(file=/.emu/pdil/pt_6305/SEEG/raw/PO_Day_04.CSC143.ncs) is complete\n",
      "INFO: Informed scheduler that task   NLXRaw__home_elijahc__e_632888183426_PO_Day_04_CSC143_698396c7ed   has status   DONE\n",
      "DEBUG: Checking if NLXRaw(file=/.emu/pdil/pt_6305/SEEG/raw/PO_Day_04.CSC144.ncs) is complete\n",
      "INFO: Informed scheduler that task   NLXRaw__home_elijahc__e_632877844435_PO_Day_04_CSC144_1a4d21f9f3   has status   DONE\n",
      "DEBUG: Checking if NLXRaw(file=/.emu/pdil/pt_6305/SEEG/raw/PO_Day_04.CSC145.ncs) is complete\n",
      "INFO: Informed scheduler that task   NLXRaw__home_elijahc__e_632885801582_PO_Day_04_CSC145_7a0a6505e5   has status   DONE\n",
      "DEBUG: Checking if NLXRaw(file=/.emu/pdil/pt_6305/SEEG/raw/PO_Day_04.CSC146.ncs) is complete\n",
      "INFO: Informed scheduler that task   NLXRaw__home_elijahc__e_632889410286_PO_Day_04_CSC146_01636ac827   has status   DONE\n",
      "DEBUG: Checking if NLXRaw(file=/.emu/pdil/pt_6305/SEEG/raw/PO_Day_04.CSC147.ncs) is complete\n",
      "INFO: Informed scheduler that task   NLXRaw__home_elijahc__e_632853586099_PO_Day_04_CSC147_8fa7638aac   has status   DONE\n",
      "DEBUG: Checking if NLXRaw(file=/.emu/pdil/pt_6305/SEEG/raw/PO_Day_04.CSC148.ncs) is complete\n",
      "INFO: Informed scheduler that task   NLXRaw__home_elijahc__e_632877264963_PO_Day_04_CSC148_97c96a5e5b   has status   DONE\n",
      "DEBUG: Checking if NLXRaw(file=/.emu/pdil/pt_6305/SEEG/raw/PO_Day_04.CSC149.ncs) is complete\n",
      "INFO: Informed scheduler that task   NLXRaw__home_elijahc__e_632879541287_PO_Day_04_CSC149_9fa10ab316   has status   DONE\n",
      "DEBUG: Checking if NLXRaw(file=/.emu/pdil/pt_6305/SEEG/raw/PO_Day_04.CSC15.ncs) is complete\n",
      "INFO: Informed scheduler that task   NLXRaw__home_elijahc__e_632004404188_PO_Day_04_CSC15__a4ad95f83b   has status   DONE\n",
      "DEBUG: Checking if NLXRaw(file=/.emu/pdil/pt_6305/SEEG/raw/PO_Day_04.CSC150.ncs) is complete\n",
      "INFO: Informed scheduler that task   NLXRaw__home_elijahc__e_632858554982_PO_Day_04_CSC150_70caac1974   has status   DONE\n",
      "DEBUG: Checking if NLXRaw(file=/.emu/pdil/pt_6305/SEEG/raw/PO_Day_04.CSC151.ncs) is complete\n",
      "INFO: Informed scheduler that task   NLXRaw__home_elijahc__e_632867227429_PO_Day_04_CSC151_b85014f85e   has status   DONE\n",
      "DEBUG: Checking if NLXRaw(file=/.emu/pdil/pt_6305/SEEG/raw/PO_Day_04.CSC152.ncs) is complete\n",
      "INFO: Informed scheduler that task   NLXRaw__home_elijahc__e_632886839357_PO_Day_04_CSC152_a95b773f99   has status   DONE\n",
      "DEBUG: Checking if NLXRaw(file=/.emu/pdil/pt_6305/SEEG/raw/PO_Day_04.CSC153.ncs) is complete\n",
      "INFO: Informed scheduler that task   NLXRaw__home_elijahc__e_632880031286_PO_Day_04_CSC153_ab71f30964   has status   DONE\n",
      "DEBUG: Checking if NLXRaw(file=/.emu/pdil/pt_6305/SEEG/raw/PO_Day_04.CSC154.ncs) is complete\n",
      "INFO: Informed scheduler that task   NLXRaw__home_elijahc__e_632866767598_PO_Day_04_CSC154_1300a5e58e   has status   DONE\n",
      "DEBUG: Checking if NLXRaw(file=/.emu/pdil/pt_6305/SEEG/raw/PO_Day_04.CSC155.ncs) is complete\n",
      "INFO: Informed scheduler that task   NLXRaw__home_elijahc__e_632872868690_PO_Day_04_CSC155_3152b2c422   has status   DONE\n",
      "DEBUG: Checking if NLXRaw(file=/.emu/pdil/pt_6305/SEEG/raw/PO_Day_04.CSC156.ncs) is complete\n",
      "INFO: Informed scheduler that task   NLXRaw__home_elijahc__e_632884864666_PO_Day_04_CSC156_48705b51ef   has status   DONE\n",
      "DEBUG: Checking if NLXRaw(file=/.emu/pdil/pt_6305/SEEG/raw/PO_Day_04.CSC157.ncs) is complete\n",
      "INFO: Informed scheduler that task   NLXRaw__home_elijahc__e_632878651732_PO_Day_04_CSC157_7acf1ea8cd   has status   DONE\n",
      "DEBUG: Checking if NLXRaw(file=/.emu/pdil/pt_6305/SEEG/raw/PO_Day_04.CSC158.ncs) is complete\n",
      "INFO: Informed scheduler that task   NLXRaw__home_elijahc__e_632864121080_PO_Day_04_CSC158_01b7a6069e   has status   DONE\n",
      "DEBUG: Checking if NLXRaw(file=/.emu/pdil/pt_6305/SEEG/raw/PO_Day_04.CSC159.ncs) is complete\n",
      "INFO: Informed scheduler that task   NLXRaw__home_elijahc__e_632883072123_PO_Day_04_CSC159_e3e4c54b56   has status   DONE\n",
      "DEBUG: Checking if NLXRaw(file=/.emu/pdil/pt_6305/SEEG/raw/PO_Day_04.CSC16.ncs) is complete\n",
      "INFO: Informed scheduler that task   NLXRaw__home_elijahc__e_632004416219_PO_Day_04_CSC16__859ec7aa40   has status   DONE\n",
      "DEBUG: Checking if NLXRaw(file=/.emu/pdil/pt_6305/SEEG/raw/PO_Day_04.CSC160.ncs) is complete\n",
      "INFO: Informed scheduler that task   NLXRaw__home_elijahc__e_632881797215_PO_Day_04_CSC160_8ca2627742   has status   DONE\n",
      "DEBUG: Checking if NLXRaw(file=/.emu/pdil/pt_6305/SEEG/raw/PO_Day_04.CSC161.ncs) is complete\n",
      "INFO: Informed scheduler that task   NLXRaw__home_elijahc__e_632877255090_PO_Day_04_CSC161_d6b9905c01   has status   DONE\n",
      "DEBUG: Checking if NLXRaw(file=/.emu/pdil/pt_6305/SEEG/raw/PO_Day_04.CSC162.ncs) is complete\n",
      "INFO: Informed scheduler that task   NLXRaw__home_elijahc__e_632875673026_PO_Day_04_CSC162_be7c8fded1   has status   DONE\n",
      "DEBUG: Checking if NLXRaw(file=/.emu/pdil/pt_6305/SEEG/raw/PO_Day_04.CSC163.ncs) is complete\n",
      "INFO: Informed scheduler that task   NLXRaw__home_elijahc__e_632868324199_PO_Day_04_CSC163_8241a9f7d5   has status   DONE\n",
      "DEBUG: Checking if NLXRaw(file=/.emu/pdil/pt_6305/SEEG/raw/PO_Day_04.CSC164.ncs) is complete\n",
      "INFO: Informed scheduler that task   NLXRaw__home_elijahc__e_632857880005_PO_Day_04_CSC164_ff9c7902e0   has status   DONE\n",
      "DEBUG: Checking if NLXRaw(file=/.emu/pdil/pt_6305/SEEG/raw/PO_Day_04.CSC165.ncs) is complete\n",
      "INFO: Informed scheduler that task   NLXRaw__home_elijahc__e_632884321669_PO_Day_04_CSC165_88acba9d30   has status   DONE\n",
      "DEBUG: Checking if NLXRaw(file=/.emu/pdil/pt_6305/SEEG/raw/PO_Day_04.CSC166.ncs) is complete\n",
      "INFO: Informed scheduler that task   NLXRaw__home_elijahc__e_632882145012_PO_Day_04_CSC166_8a4f292600   has status   DONE\n",
      "DEBUG: Checking if NLXRaw(file=/.emu/pdil/pt_6305/SEEG/raw/PO_Day_04.CSC167.ncs) is complete\n",
      "INFO: Informed scheduler that task   NLXRaw__home_elijahc__e_632875736688_PO_Day_04_CSC167_05c229a297   has status   DONE\n",
      "DEBUG: Checking if NLXRaw(file=/.emu/pdil/pt_6305/SEEG/raw/PO_Day_04.CSC168.ncs) is complete\n",
      "INFO: Informed scheduler that task   NLXRaw__home_elijahc__e_632860835663_PO_Day_04_CSC168_79dc686c83   has status   DONE\n"
     ]
    },
    {
     "name": "stderr",
     "output_type": "stream",
     "text": [
      "DEBUG: Checking if NLXRaw(file=/.emu/pdil/pt_6305/SEEG/raw/PO_Day_04.CSC169.ncs) is complete\n",
      "INFO: Informed scheduler that task   NLXRaw__home_elijahc__e_632885300210_PO_Day_04_CSC169_6b690ac77d   has status   DONE\n",
      "DEBUG: Checking if NLXRaw(file=/.emu/pdil/pt_6305/SEEG/raw/PO_Day_04.CSC17.ncs) is complete\n",
      "INFO: Informed scheduler that task   NLXRaw__home_elijahc__e_632004386219_PO_Day_04_CSC17__915623dfa1   has status   DONE\n",
      "DEBUG: Checking if NLXRaw(file=/.emu/pdil/pt_6305/SEEG/raw/PO_Day_04.CSC170.ncs) is complete\n",
      "INFO: Informed scheduler that task   NLXRaw__home_elijahc__e_632888652715_PO_Day_04_CSC170_7bc3de859c   has status   DONE\n",
      "DEBUG: Checking if NLXRaw(file=/.emu/pdil/pt_6305/SEEG/raw/PO_Day_04.CSC171.ncs) is complete\n",
      "INFO: Informed scheduler that task   NLXRaw__home_elijahc__e_632873647364_PO_Day_04_CSC171_a613ab8a74   has status   DONE\n",
      "DEBUG: Checking if NLXRaw(file=/.emu/pdil/pt_6305/SEEG/raw/PO_Day_04.CSC172.ncs) is complete\n",
      "INFO: Informed scheduler that task   NLXRaw__home_elijahc__e_632859386842_PO_Day_04_CSC172_21bfceeb91   has status   DONE\n",
      "DEBUG: Checking if NLXRaw(file=/.emu/pdil/pt_6305/SEEG/raw/PO_Day_04.CSC173.ncs) is complete\n",
      "INFO: Informed scheduler that task   NLXRaw__home_elijahc__e_632876407174_PO_Day_04_CSC173_eccc0a6652   has status   DONE\n",
      "DEBUG: Checking if NLXRaw(file=/.emu/pdil/pt_6305/SEEG/raw/PO_Day_04.CSC174.ncs) is complete\n",
      "INFO: Informed scheduler that task   NLXRaw__home_elijahc__e_632877674475_PO_Day_04_CSC174_7adaa1c9bb   has status   DONE\n",
      "DEBUG: Checking if NLXRaw(file=/.emu/pdil/pt_6305/SEEG/raw/PO_Day_04.CSC175.ncs) is complete\n",
      "INFO: Informed scheduler that task   NLXRaw__home_elijahc__e_632885351445_PO_Day_04_CSC175_813de437a4   has status   DONE\n",
      "DEBUG: Checking if NLXRaw(file=/.emu/pdil/pt_6305/SEEG/raw/PO_Day_04.CSC176.ncs) is complete\n",
      "INFO: Informed scheduler that task   NLXRaw__home_elijahc__e_632869751312_PO_Day_04_CSC176_c1c0dca031   has status   DONE\n",
      "DEBUG: Checking if NLXRaw(file=/.emu/pdil/pt_6305/SEEG/raw/PO_Day_04.CSC177.ncs) is complete\n",
      "INFO: Informed scheduler that task   NLXRaw__home_elijahc__e_632856277118_PO_Day_04_CSC177_3ec22dace1   has status   DONE\n",
      "DEBUG: Checking if NLXRaw(file=/.emu/pdil/pt_6305/SEEG/raw/PO_Day_04.CSC178.ncs) is complete\n",
      "INFO: Informed scheduler that task   NLXRaw__home_elijahc__e_632865265870_PO_Day_04_CSC178_f95920e95a   has status   DONE\n",
      "DEBUG: Checking if NLXRaw(file=/.emu/pdil/pt_6305/SEEG/raw/PO_Day_04.CSC179.ncs) is complete\n",
      "INFO: Informed scheduler that task   NLXRaw__home_elijahc__e_632884173825_PO_Day_04_CSC179_29cf884dba   has status   DONE\n",
      "DEBUG: Checking if NLXRaw(file=/.emu/pdil/pt_6305/SEEG/raw/PO_Day_04.CSC18.ncs) is complete\n",
      "INFO: Informed scheduler that task   NLXRaw__home_elijahc__e_632004417419_PO_Day_04_CSC18__e21b42dbd9   has status   DONE\n",
      "DEBUG: Checking if NLXRaw(file=/.emu/pdil/pt_6305/SEEG/raw/PO_Day_04.CSC19.ncs) is complete\n",
      "INFO: Informed scheduler that task   NLXRaw__home_elijahc__e_632004377819_PO_Day_04_CSC19__263303f28d   has status   DONE\n",
      "DEBUG: Checking if NLXRaw(file=/.emu/pdil/pt_6305/SEEG/raw/PO_Day_04.CSC2.ncs) is complete\n",
      "INFO: Informed scheduler that task   NLXRaw__home_elijahc__e_632004365819_PO_Day_04_CSC2_n_50b54dad3c   has status   DONE\n",
      "DEBUG: Checking if NLXRaw(file=/.emu/pdil/pt_6305/SEEG/raw/PO_Day_04.CSC20.ncs) is complete\n",
      "INFO: Informed scheduler that task   NLXRaw__home_elijahc__e_632004371819_PO_Day_04_CSC20__68c6cdad14   has status   DONE\n",
      "DEBUG: Checking if NLXRaw(file=/.emu/pdil/pt_6305/SEEG/raw/PO_Day_04.CSC21.ncs) is complete\n",
      "INFO: Informed scheduler that task   NLXRaw__home_elijahc__e_632004413819_PO_Day_04_CSC21__db8ae57475   has status   DONE\n",
      "DEBUG: Checking if NLXRaw(file=/.emu/pdil/pt_6305/SEEG/raw/PO_Day_04.CSC22.ncs) is complete\n",
      "INFO: Informed scheduler that task   NLXRaw__home_elijahc__e_632004388619_PO_Day_04_CSC22__73277f3220   has status   DONE\n",
      "DEBUG: Checking if NLXRaw(file=/.emu/pdil/pt_6305/SEEG/raw/PO_Day_04.CSC23.ncs) is complete\n",
      "INFO: Informed scheduler that task   NLXRaw__home_elijahc__e_632004383819_PO_Day_04_CSC23__d1ca2f7102   has status   DONE\n",
      "DEBUG: Checking if NLXRaw(file=/.emu/pdil/pt_6305/SEEG/raw/PO_Day_04.CSC24.ncs) is complete\n",
      "INFO: Informed scheduler that task   NLXRaw__home_elijahc__e_632004376619_PO_Day_04_CSC24__97615c7e87   has status   DONE\n",
      "DEBUG: Checking if NLXRaw(file=/.emu/pdil/pt_6305/SEEG/raw/PO_Day_04.CSC25.ncs) is complete\n",
      "INFO: Informed scheduler that task   NLXRaw__home_elijahc__e_632004409019_PO_Day_04_CSC25__74e7eb3aae   has status   DONE\n",
      "DEBUG: Checking if NLXRaw(file=/.emu/pdil/pt_6305/SEEG/raw/PO_Day_04.CSC26.ncs) is complete\n",
      "INFO: Informed scheduler that task   NLXRaw__home_elijahc__e_632004404219_PO_Day_04_CSC26__aefc7c482b   has status   DONE\n",
      "DEBUG: Checking if NLXRaw(file=/.emu/pdil/pt_6305/SEEG/raw/PO_Day_04.CSC27.ncs) is complete\n",
      "INFO: Informed scheduler that task   NLXRaw__home_elijahc__e_632004411419_PO_Day_04_CSC27__ff3bd654de   has status   DONE\n",
      "DEBUG: Checking if NLXRaw(file=/.emu/pdil/pt_6305/SEEG/raw/PO_Day_04.CSC28.ncs) is complete\n",
      "INFO: Informed scheduler that task   NLXRaw__home_elijahc__e_632004398219_PO_Day_04_CSC28__faee862975   has status   DONE\n",
      "DEBUG: Checking if NLXRaw(file=/.emu/pdil/pt_6305/SEEG/raw/PO_Day_04.CSC29.ncs) is complete\n",
      "INFO: Informed scheduler that task   NLXRaw__home_elijahc__e_632004382619_PO_Day_04_CSC29__b8d501a466   has status   DONE\n",
      "DEBUG: Checking if NLXRaw(file=/.emu/pdil/pt_6305/SEEG/raw/PO_Day_04.CSC3.ncs) is complete\n",
      "INFO: Informed scheduler that task   NLXRaw__home_elijahc__e_632004406619_PO_Day_04_CSC3_n_530ffae2e6   has status   DONE\n",
      "DEBUG: Checking if NLXRaw(file=/.emu/pdil/pt_6305/SEEG/raw/PO_Day_04.CSC30.ncs) is complete\n",
      "INFO: Informed scheduler that task   NLXRaw__home_elijahc__e_632004401819_PO_Day_04_CSC30__3b6f4db650   has status   DONE\n",
      "DEBUG: Checking if NLXRaw(file=/.emu/pdil/pt_6305/SEEG/raw/PO_Day_04.CSC31.ncs) is complete\n",
      "INFO: Informed scheduler that task   NLXRaw__home_elijahc__e_632004369419_PO_Day_04_CSC31__092fb50c71   has status   DONE\n",
      "DEBUG: Checking if NLXRaw(file=/.emu/pdil/pt_6305/SEEG/raw/PO_Day_04.CSC32.ncs) is complete\n",
      "INFO: Informed scheduler that task   NLXRaw__home_elijahc__e_632004393419_PO_Day_04_CSC32__ede304cb30   has status   DONE\n",
      "DEBUG: Checking if NLXRaw(file=/.emu/pdil/pt_6305/SEEG/raw/PO_Day_04.CSC33.ncs) is complete\n",
      "INFO: Informed scheduler that task   NLXRaw__home_elijahc__e_632004380219_PO_Day_04_CSC33__03460f77ad   has status   DONE\n",
      "DEBUG: Checking if NLXRaw(file=/.emu/pdil/pt_6305/SEEG/raw/PO_Day_04.CSC34.ncs) is complete\n",
      "INFO: Informed scheduler that task   NLXRaw__home_elijahc__e_631983668328_PO_Day_04_CSC34__128811771e   has status   DONE\n",
      "DEBUG: Checking if NLXRaw(file=/.emu/pdil/pt_6305/SEEG/raw/PO_Day_04.CSC35.ncs) is complete\n",
      "INFO: Informed scheduler that task   NLXRaw__home_elijahc__e_631983707928_PO_Day_04_CSC35__f6e4c046fc   has status   DONE\n",
      "DEBUG: Checking if NLXRaw(file=/.emu/pdil/pt_6305/SEEG/raw/PO_Day_04.CSC36.ncs) is complete\n",
      "INFO: Informed scheduler that task   NLXRaw__home_elijahc__e_631983682728_PO_Day_04_CSC36__d8f74d96a2   has status   DONE\n",
      "DEBUG: Checking if NLXRaw(file=/.emu/pdil/pt_6305/SEEG/raw/PO_Day_04.CSC37.ncs) is complete\n",
      "INFO: Informed scheduler that task   NLXRaw__home_elijahc__e_631983688728_PO_Day_04_CSC37__2531fefe22   has status   DONE\n",
      "DEBUG: Checking if NLXRaw(file=/.emu/pdil/pt_6305/SEEG/raw/PO_Day_04.CSC38.ncs) is complete\n",
      "INFO: Informed scheduler that task   NLXRaw__home_elijahc__e_631983670728_PO_Day_04_CSC38__227bc1502b   has status   DONE\n",
      "DEBUG: Checking if NLXRaw(file=/.emu/pdil/pt_6305/SEEG/raw/PO_Day_04.CSC39.ncs) is complete\n",
      "INFO: Informed scheduler that task   NLXRaw__home_elijahc__e_631983698328_PO_Day_04_CSC39__e765fc9c02   has status   DONE\n",
      "DEBUG: Checking if NLXRaw(file=/.emu/pdil/pt_6305/SEEG/raw/PO_Day_04.CSC4.ncs) is complete\n",
      "INFO: Informed scheduler that task   NLXRaw__home_elijahc__e_631983703128_PO_Day_04_CSC4_n_6e93e690bb   has status   DONE\n",
      "DEBUG: Checking if NLXRaw(file=/.emu/pdil/pt_6305/SEEG/raw/PO_Day_04.CSC40.ncs) is complete\n",
      "INFO: Informed scheduler that task   NLXRaw__home_elijahc__e_631983685128_PO_Day_04_CSC40__8932ee5852   has status   DONE\n",
      "DEBUG: Checking if NLXRaw(file=/.emu/pdil/pt_6305/SEEG/raw/PO_Day_04.CSC41.ncs) is complete\n"
     ]
    },
    {
     "name": "stderr",
     "output_type": "stream",
     "text": [
      "INFO: Informed scheduler that task   NLXRaw__home_elijahc__e_631983693528_PO_Day_04_CSC41__ec4a099994   has status   DONE\n",
      "DEBUG: Checking if NLXRaw(file=/.emu/pdil/pt_6305/SEEG/raw/PO_Day_04.CSC42.ncs) is complete\n",
      "INFO: Informed scheduler that task   NLXRaw__home_elijahc__e_631983711528_PO_Day_04_CSC42__9e26d135ae   has status   DONE\n",
      "DEBUG: Checking if NLXRaw(file=/.emu/pdil/pt_6305/SEEG/raw/PO_Day_04.CSC43.ncs) is complete\n",
      "INFO: Informed scheduler that task   NLXRaw__home_elijahc__e_631983694728_PO_Day_04_CSC43__0a2687764b   has status   DONE\n",
      "DEBUG: Checking if NLXRaw(file=/.emu/pdil/pt_6305/SEEG/raw/PO_Day_04.CSC44.ncs) is complete\n",
      "INFO: Informed scheduler that task   NLXRaw__home_elijahc__e_631983667128_PO_Day_04_CSC44__199817b94f   has status   DONE\n",
      "DEBUG: Checking if NLXRaw(file=/.emu/pdil/pt_6305/SEEG/raw/PO_Day_04.CSC45.ncs) is complete\n",
      "INFO: Informed scheduler that task   NLXRaw__home_elijahc__e_631983675528_PO_Day_04_CSC45__e29329cfcf   has status   DONE\n",
      "DEBUG: Checking if NLXRaw(file=/.emu/pdil/pt_6305/SEEG/raw/PO_Day_04.CSC46.ncs) is complete\n",
      "INFO: Informed scheduler that task   NLXRaw__home_elijahc__e_631983700728_PO_Day_04_CSC46__374217a809   has status   DONE\n",
      "DEBUG: Checking if NLXRaw(file=/.emu/pdil/pt_6305/SEEG/raw/PO_Day_04.CSC47.ncs) is complete\n",
      "INFO: Informed scheduler that task   NLXRaw__home_elijahc__e_631983705528_PO_Day_04_CSC47__b3512acddb   has status   DONE\n",
      "DEBUG: Checking if NLXRaw(file=/.emu/pdil/pt_6305/SEEG/raw/PO_Day_04.CSC48.ncs) is complete\n",
      "INFO: Informed scheduler that task   NLXRaw__home_elijahc__e_631983677928_PO_Day_04_CSC48__17258d0c84   has status   DONE\n",
      "DEBUG: Checking if NLXRaw(file=/.emu/pdil/pt_6305/SEEG/raw/PO_Day_04.CSC49.ncs) is complete\n",
      "INFO: Informed scheduler that task   NLXRaw__home_elijahc__e_631983683928_PO_Day_04_CSC49__d76941b8fb   has status   DONE\n",
      "DEBUG: Checking if NLXRaw(file=/.emu/pdil/pt_6305/SEEG/raw/PO_Day_04.CSC5.ncs) is complete\n",
      "INFO: Informed scheduler that task   NLXRaw__home_elijahc__e_631983680328_PO_Day_04_CSC5_n_a7b946a978   has status   DONE\n",
      "DEBUG: Checking if NLXRaw(file=/.emu/pdil/pt_6305/SEEG/raw/PO_Day_04.CSC50.ncs) is complete\n",
      "INFO: Informed scheduler that task   NLXRaw__home_elijahc__e_631983697128_PO_Day_04_CSC50__8090dc4e56   has status   DONE\n",
      "DEBUG: Checking if NLXRaw(file=/.emu/pdil/pt_6305/SEEG/raw/PO_Day_04.CSC51.ncs) is complete\n",
      "INFO: Informed scheduler that task   NLXRaw__home_elijahc__e_632874800394_PO_Day_04_CSC51__11d228a506   has status   DONE\n",
      "DEBUG: Checking if NLXRaw(file=/.emu/pdil/pt_6305/SEEG/raw/PO_Day_04.CSC52.ncs) is complete\n",
      "INFO: Informed scheduler that task   NLXRaw__home_elijahc__e_632884568907_PO_Day_04_CSC52__90235c360f   has status   DONE\n",
      "DEBUG: Checking if NLXRaw(file=/.emu/pdil/pt_6305/SEEG/raw/PO_Day_04.CSC53.ncs) is complete\n",
      "INFO: Informed scheduler that task   NLXRaw__home_elijahc__e_632859019380_PO_Day_04_CSC53__c5b66e026c   has status   DONE\n",
      "DEBUG: Checking if NLXRaw(file=/.emu/pdil/pt_6305/SEEG/raw/PO_Day_04.CSC54.ncs) is complete\n",
      "INFO: Informed scheduler that task   NLXRaw__home_elijahc__e_632853785605_PO_Day_04_CSC54__08753cdb48   has status   DONE\n",
      "DEBUG: Checking if NLXRaw(file=/.emu/pdil/pt_6305/SEEG/raw/PO_Day_04.CSC55.ncs) is complete\n",
      "INFO: Informed scheduler that task   NLXRaw__home_elijahc__e_632875024347_PO_Day_04_CSC55__8d3f91154a   has status   DONE\n",
      "DEBUG: Checking if NLXRaw(file=/.emu/pdil/pt_6305/SEEG/raw/PO_Day_04.CSC56.ncs) is complete\n",
      "INFO: Informed scheduler that task   NLXRaw__home_elijahc__e_632881086936_PO_Day_04_CSC56__9b3cd575f6   has status   DONE\n",
      "DEBUG: Checking if NLXRaw(file=/.emu/pdil/pt_6305/SEEG/raw/PO_Day_04.CSC57.ncs) is complete\n",
      "INFO: Informed scheduler that task   NLXRaw__home_elijahc__e_632861843415_PO_Day_04_CSC57__bf6d293215   has status   DONE\n",
      "DEBUG: Checking if NLXRaw(file=/.emu/pdil/pt_6305/SEEG/raw/PO_Day_04.CSC58.ncs) is complete\n",
      "INFO: Informed scheduler that task   NLXRaw__home_elijahc__e_632869551764_PO_Day_04_CSC58__b8d9310d68   has status   DONE\n",
      "DEBUG: Checking if NLXRaw(file=/.emu/pdil/pt_6305/SEEG/raw/PO_Day_04.CSC59.ncs) is complete\n",
      "INFO: Informed scheduler that task   NLXRaw__home_elijahc__e_632875805291_PO_Day_04_CSC59__81d2126997   has status   DONE\n",
      "DEBUG: Checking if NLXRaw(file=/.emu/pdil/pt_6305/SEEG/raw/PO_Day_04.CSC6.ncs) is complete\n",
      "INFO: Informed scheduler that task   NLXRaw__home_elijahc__e_631983673128_PO_Day_04_CSC6_n_7223741c61   has status   DONE\n",
      "DEBUG: Checking if NLXRaw(file=/.emu/pdil/pt_6305/SEEG/raw/PO_Day_04.CSC60.ncs) is complete\n",
      "INFO: Informed scheduler that task   NLXRaw__home_elijahc__e_632863779203_PO_Day_04_CSC60__4f43e7e312   has status   DONE\n",
      "DEBUG: Checking if NLXRaw(file=/.emu/pdil/pt_6305/SEEG/raw/PO_Day_04.CSC61.ncs) is complete\n",
      "INFO: Informed scheduler that task   NLXRaw__home_elijahc__e_632880893380_PO_Day_04_CSC61__7364dd841a   has status   DONE\n",
      "DEBUG: Checking if NLXRaw(file=/.emu/pdil/pt_6305/SEEG/raw/PO_Day_04.CSC62.ncs) is complete\n",
      "INFO: Informed scheduler that task   NLXRaw__home_elijahc__e_632877791047_PO_Day_04_CSC62__9372212687   has status   DONE\n",
      "DEBUG: Checking if NLXRaw(file=/.emu/pdil/pt_6305/SEEG/raw/PO_Day_04.CSC63.ncs) is complete\n",
      "INFO: Informed scheduler that task   NLXRaw__home_elijahc__e_632878681245_PO_Day_04_CSC63__b319a93010   has status   DONE\n",
      "DEBUG: Checking if NLXRaw(file=/.emu/pdil/pt_6305/SEEG/raw/PO_Day_04.CSC64.ncs) is complete\n",
      "INFO: Informed scheduler that task   NLXRaw__home_elijahc__e_632864255122_PO_Day_04_CSC64__5e7f503f5c   has status   DONE\n",
      "DEBUG: Checking if NLXRaw(file=/.emu/pdil/pt_6305/SEEG/raw/PO_Day_04.CSC65.ncs) is complete\n",
      "INFO: Informed scheduler that task   NLXRaw__home_elijahc__e_632878812766_PO_Day_04_CSC65__2e40d29429   has status   DONE\n",
      "DEBUG: Checking if NLXRaw(file=/.emu/pdil/pt_6305/SEEG/raw/PO_Day_04.CSC66.ncs) is complete\n",
      "INFO: Informed scheduler that task   NLXRaw__home_elijahc__e_632881117085_PO_Day_04_CSC66__c981e36065   has status   DONE\n",
      "DEBUG: Checking if NLXRaw(file=/.emu/pdil/pt_6305/SEEG/raw/PO_Day_04.CSC67.ncs) is complete\n",
      "INFO: Informed scheduler that task   NLXRaw__home_elijahc__e_632859080515_PO_Day_04_CSC67__a9ae66c666   has status   DONE\n",
      "DEBUG: Checking if NLXRaw(file=/.emu/pdil/pt_6305/SEEG/raw/PO_Day_04.CSC68.ncs) is complete\n",
      "INFO: Informed scheduler that task   NLXRaw__home_elijahc__e_632881496266_PO_Day_04_CSC68__9010478e4c   has status   DONE\n",
      "DEBUG: Checking if NLXRaw(file=/.emu/pdil/pt_6305/SEEG/raw/PO_Day_04.CSC69.ncs) is complete\n",
      "INFO: Informed scheduler that task   NLXRaw__home_elijahc__e_632860793698_PO_Day_04_CSC69__530127b5d1   has status   DONE\n",
      "DEBUG: Checking if NLXRaw(file=/.emu/pdil/pt_6305/SEEG/raw/PO_Day_04.CSC7.ncs) is complete\n",
      "INFO: Informed scheduler that task   NLXRaw__home_elijahc__e_632004588221_PO_Day_04_CSC7_n_b106fbd9be   has status   DONE\n",
      "DEBUG: Checking if NLXRaw(file=/.emu/pdil/pt_6305/SEEG/raw/PO_Day_04.CSC70.ncs) is complete\n",
      "INFO: Informed scheduler that task   NLXRaw__home_elijahc__e_632881717541_PO_Day_04_CSC70__6376660aee   has status   DONE\n",
      "DEBUG: Checking if NLXRaw(file=/.emu/pdil/pt_6305/SEEG/raw/PO_Day_04.CSC71.ncs) is complete\n",
      "INFO: Informed scheduler that task   NLXRaw__home_elijahc__e_632879795594_PO_Day_04_CSC71__bba0b3ac2b   has status   DONE\n",
      "DEBUG: Checking if NLXRaw(file=/.emu/pdil/pt_6305/SEEG/raw/PO_Day_04.CSC72.ncs) is complete\n",
      "INFO: Informed scheduler that task   NLXRaw__home_elijahc__e_632873742310_PO_Day_04_CSC72__85afb7ea84   has status   DONE\n",
      "DEBUG: Checking if NLXRaw(file=/.emu/pdil/pt_6305/SEEG/raw/PO_Day_04.CSC73.ncs) is complete\n",
      "INFO: Informed scheduler that task   NLXRaw__home_elijahc__e_632869892564_PO_Day_04_CSC73__1ecc92af0f   has status   DONE\n",
      "DEBUG: Checking if NLXRaw(file=/.emu/pdil/pt_6305/SEEG/raw/PO_Day_04.CSC74.ncs) is complete\n",
      "INFO: Informed scheduler that task   NLXRaw__home_elijahc__e_632872706499_PO_Day_04_CSC74__04c495d13b   has status   DONE\n",
      "DEBUG: Checking if NLXRaw(file=/.emu/pdil/pt_6305/SEEG/raw/PO_Day_04.CSC75.ncs) is complete\n",
      "INFO: Informed scheduler that task   NLXRaw__home_elijahc__e_632862830812_PO_Day_04_CSC75__10e3b2c66a   has status   DONE\n",
      "DEBUG: Checking if NLXRaw(file=/.emu/pdil/pt_6305/SEEG/raw/PO_Day_04.CSC76.ncs) is complete\n",
      "INFO: Informed scheduler that task   NLXRaw__home_elijahc__e_632865689951_PO_Day_04_CSC76__1dcdae85be   has status   DONE\n"
     ]
    },
    {
     "name": "stderr",
     "output_type": "stream",
     "text": [
      "DEBUG: Checking if NLXRaw(file=/.emu/pdil/pt_6305/SEEG/raw/PO_Day_04.CSC77.ncs) is complete\n",
      "INFO: Informed scheduler that task   NLXRaw__home_elijahc__e_632875994559_PO_Day_04_CSC77__79758aeaa9   has status   DONE\n",
      "DEBUG: Checking if NLXRaw(file=/.emu/pdil/pt_6305/SEEG/raw/PO_Day_04.CSC78.ncs) is complete\n",
      "INFO: Informed scheduler that task   NLXRaw__home_elijahc__e_632886128316_PO_Day_04_CSC78__be63b826ec   has status   DONE\n",
      "DEBUG: Checking if NLXRaw(file=/.emu/pdil/pt_6305/SEEG/raw/PO_Day_04.CSC79.ncs) is complete\n",
      "INFO: Informed scheduler that task   NLXRaw__home_elijahc__e_632860094602_PO_Day_04_CSC79__0f807bf4ba   has status   DONE\n",
      "DEBUG: Checking if NLXRaw(file=/.emu/pdil/pt_6305/SEEG/raw/PO_Day_04.CSC8.ncs) is complete\n",
      "INFO: Informed scheduler that task   NLXRaw__home_elijahc__e_632004585821_PO_Day_04_CSC8_n_066a68012b   has status   DONE\n",
      "DEBUG: Checking if NLXRaw(file=/.emu/pdil/pt_6305/SEEG/raw/PO_Day_04.CSC80.ncs) is complete\n",
      "INFO: Informed scheduler that task   NLXRaw__home_elijahc__e_632882524947_PO_Day_04_CSC80__f6c2276183   has status   DONE\n",
      "DEBUG: Checking if NLXRaw(file=/.emu/pdil/pt_6305/SEEG/raw/PO_Day_04.CSC81.ncs) is complete\n",
      "INFO: Informed scheduler that task   NLXRaw__home_elijahc__e_632865054663_PO_Day_04_CSC81__d1e68c569a   has status   DONE\n",
      "DEBUG: Checking if NLXRaw(file=/.emu/pdil/pt_6305/SEEG/raw/PO_Day_04.CSC82.ncs) is complete\n",
      "INFO: Informed scheduler that task   NLXRaw__home_elijahc__e_632882170022_PO_Day_04_CSC82__a19605af58   has status   DONE\n",
      "DEBUG: Checking if NLXRaw(file=/.emu/pdil/pt_6305/SEEG/raw/PO_Day_04.CSC83.ncs) is complete\n",
      "INFO: Informed scheduler that task   NLXRaw__home_elijahc__e_632877043150_PO_Day_04_CSC83__8e245fd0ac   has status   DONE\n",
      "DEBUG: Checking if NLXRaw(file=/.emu/pdil/pt_6305/SEEG/raw/PO_Day_04.CSC84.ncs) is complete\n",
      "INFO: Informed scheduler that task   NLXRaw__home_elijahc__e_632874695158_PO_Day_04_CSC84__82848df667   has status   DONE\n",
      "DEBUG: Checking if NLXRaw(file=/.emu/pdil/pt_6305/SEEG/raw/PO_Day_04.CSC85.ncs) is complete\n",
      "INFO: Informed scheduler that task   NLXRaw__home_elijahc__e_632866435432_PO_Day_04_CSC85__55af21a743   has status   DONE\n",
      "DEBUG: Checking if NLXRaw(file=/.emu/pdil/pt_6305/SEEG/raw/PO_Day_04.CSC86.ncs) is complete\n",
      "INFO: Informed scheduler that task   NLXRaw__home_elijahc__e_632875306086_PO_Day_04_CSC86__75a0be69df   has status   DONE\n",
      "DEBUG: Checking if NLXRaw(file=/.emu/pdil/pt_6305/SEEG/raw/PO_Day_04.CSC87.ncs) is complete\n",
      "INFO: Informed scheduler that task   NLXRaw__home_elijahc__e_632866698852_PO_Day_04_CSC87__cf37d5dfee   has status   DONE\n",
      "DEBUG: Checking if NLXRaw(file=/.emu/pdil/pt_6305/SEEG/raw/PO_Day_04.CSC88.ncs) is complete\n",
      "INFO: Informed scheduler that task   NLXRaw__home_elijahc__e_632882216587_PO_Day_04_CSC88__e976ac5c18   has status   DONE\n",
      "DEBUG: Checking if NLXRaw(file=/.emu/pdil/pt_6305/SEEG/raw/PO_Day_04.CSC89.ncs) is complete\n",
      "INFO: Informed scheduler that task   NLXRaw__home_elijahc__e_632874671194_PO_Day_04_CSC89__811018af52   has status   DONE\n",
      "DEBUG: Checking if NLXRaw(file=/.emu/pdil/pt_6305/SEEG/raw/PO_Day_04.CSC9.ncs) is complete\n",
      "INFO: Informed scheduler that task   NLXRaw__home_elijahc__e_632004576221_PO_Day_04_CSC9_n_3158038259   has status   DONE\n",
      "DEBUG: Checking if NLXRaw(file=/.emu/pdil/pt_6305/SEEG/raw/PO_Day_04.CSC90.ncs) is complete\n",
      "INFO: Informed scheduler that task   NLXRaw__home_elijahc__e_632882183885_PO_Day_04_CSC90__ade6e50e06   has status   DONE\n",
      "DEBUG: Checking if NLXRaw(file=/.emu/pdil/pt_6305/SEEG/raw/PO_Day_04.CSC91.ncs) is complete\n",
      "INFO: Informed scheduler that task   NLXRaw__home_elijahc__e_632856525295_PO_Day_04_CSC91__1c5491f0ea   has status   DONE\n",
      "DEBUG: Checking if NLXRaw(file=/.emu/pdil/pt_6305/SEEG/raw/PO_Day_04.CSC92.ncs) is complete\n",
      "INFO: Informed scheduler that task   NLXRaw__home_elijahc__e_632874069105_PO_Day_04_CSC92__95f8c213dd   has status   DONE\n",
      "DEBUG: Checking if NLXRaw(file=/.emu/pdil/pt_6305/SEEG/raw/PO_Day_04.CSC93.ncs) is complete\n",
      "INFO: Informed scheduler that task   NLXRaw__home_elijahc__e_632876141783_PO_Day_04_CSC93__be14698119   has status   DONE\n",
      "DEBUG: Checking if NLXRaw(file=/.emu/pdil/pt_6305/SEEG/raw/PO_Day_04.CSC94.ncs) is complete\n",
      "INFO: Informed scheduler that task   NLXRaw__home_elijahc__e_632868793395_PO_Day_04_CSC94__7373b4be31   has status   DONE\n",
      "DEBUG: Checking if NLXRaw(file=/.emu/pdil/pt_6305/SEEG/raw/PO_Day_04.CSC95.ncs) is complete\n",
      "INFO: Informed scheduler that task   NLXRaw__home_elijahc__e_632882460095_PO_Day_04_CSC95__ccf1b660f4   has status   DONE\n",
      "DEBUG: Checking if NLXRaw(file=/.emu/pdil/pt_6305/SEEG/raw/PO_Day_04.CSC96.ncs) is complete\n",
      "INFO: Informed scheduler that task   NLXRaw__home_elijahc__e_632856309137_PO_Day_04_CSC96__ba9e437e41   has status   DONE\n",
      "DEBUG: Checking if NLXRaw(file=/.emu/pdil/pt_6305/SEEG/raw/PO_Day_04.CSC97.ncs) is complete\n",
      "INFO: Informed scheduler that task   NLXRaw__home_elijahc__e_632876244363_PO_Day_04_CSC97__881a7c7216   has status   DONE\n",
      "DEBUG: Checking if NLXRaw(file=/.emu/pdil/pt_6305/SEEG/raw/PO_Day_04.CSC98.ncs) is complete\n",
      "INFO: Informed scheduler that task   NLXRaw__home_elijahc__e_632887431216_PO_Day_04_CSC98__5a995f1398   has status   DONE\n",
      "DEBUG: Checking if NLXRaw(file=/.emu/pdil/pt_6305/SEEG/raw/PO_Day_04.CSC99.ncs) is complete\n",
      "INFO: Informed scheduler that task   NLXRaw__home_elijahc__e_632884993813_PO_Day_04_CSC99__afea74601e   has status   DONE\n",
      "DEBUG: Checking if NLXRaw(file=/.emu/pdil/pt_6305/SEEG/raw/PO_Day_04.Events.nev) is complete\n",
      "INFO: Informed scheduler that task   NLXRaw__home_elijahc__e_632004571421_PO_Day_04_Events_ac24153c0d   has status   DONE\n",
      "INFO: Done scheduling tasks\n",
      "INFO: Running Worker with 4 processes\n",
      "DEBUG: Asking scheduler for work...\n",
      "DEBUG: Done\n",
      "DEBUG: There are no more tasks to run at this time\n",
      "INFO: Worker Worker(salt=753990005, workers=4, host=jatlab-remote, username=elijahc, pid=85452) was stopped. Shutting down Keep-Alive thread\n",
      "INFO: \n",
      "===== Luigi Execution Summary =====\n",
      "\n",
      "Scheduled 180 tasks of which:\n",
      "* 180 complete ones were encountered:\n",
      "    - 180 NLXRaw(file=/.emu/pdil/pt_6305/SEEG/raw/PO_Day_04.CSC1.ncs) ...\n",
      "\n",
      "Did not run any tasks\n",
      "This progress looks :) because there were no failed tasks or missing dependencies\n",
      "\n",
      "===== Luigi Execution Summary =====\n",
      "\n"
     ]
    },
    {
     "data": {
      "text/plain": [
       "True"
      ]
     },
     "execution_count": 6,
     "metadata": {},
     "output_type": "execute_result"
    }
   ],
   "source": [
    "# Make sure the files are cached locally\n",
    "luigi.build(d4_ncs_tasks+[d4_nev],workers=4)"
   ]
  },
  {
   "cell_type": "code",
   "execution_count": 7,
   "metadata": {},
   "outputs": [
    {
     "name": "stdout",
     "output_type": "stream",
     "text": [
      "nev path:  /home/elijahc/.emu/pdil/pt_6305/SEEG/raw/PO_Day_04.Events.nev\n",
      "ncs_paths:\n",
      "/home/elijahc/.emu/pdil/pt_6305/SEEG/raw/PO_Day_04.CSC1.ncs\n",
      "/home/elijahc/.emu/pdil/pt_6305/SEEG/raw/PO_Day_04.CSC10.ncs\n",
      "/home/elijahc/.emu/pdil/pt_6305/SEEG/raw/PO_Day_04.CSC100.ncs\n",
      "/home/elijahc/.emu/pdil/pt_6305/SEEG/raw/PO_Day_04.CSC101.ncs\n",
      "/home/elijahc/.emu/pdil/pt_6305/SEEG/raw/PO_Day_04.CSC102.ncs\n",
      "/home/elijahc/.emu/pdil/pt_6305/SEEG/raw/PO_Day_04.CSC103.ncs\n",
      "/home/elijahc/.emu/pdil/pt_6305/SEEG/raw/PO_Day_04.CSC104.ncs\n",
      "/home/elijahc/.emu/pdil/pt_6305/SEEG/raw/PO_Day_04.CSC105.ncs\n",
      "/home/elijahc/.emu/pdil/pt_6305/SEEG/raw/PO_Day_04.CSC106.ncs\n",
      "/home/elijahc/.emu/pdil/pt_6305/SEEG/raw/PO_Day_04.CSC107.ncs\n"
     ]
    }
   ],
   "source": [
    "seeg_root = os.path.expanduser('~/.emu/pdil/pt_6305/SEEG/raw/')\n",
    "\n",
    "nev_path = os.path.expanduser('~/.emu/pdil/pt_6305/SEEG/raw/PO_Day_04.Events.nev')\n",
    "ncs_paths = sorted(glob.glob(os.path.join(seeg_root,'PO_Day_04.*.ncs')))\n",
    "\n",
    "# ncs = nlx.load_ncs()\n",
    "print('nev path: ',nev_path)\n",
    "print('ncs_paths:')\n",
    "for pth in ncs_paths[:10]:\n",
    "    print(pth)"
   ]
  },
  {
   "cell_type": "code",
   "execution_count": 8,
   "metadata": {},
   "outputs": [
    {
     "name": "stderr",
     "output_type": "stream",
     "text": [
      "compressing channels:  43%|████▎     | 77/179 [00:15<00:20,  4.94it/s]"
     ]
    },
    {
     "name": "stdout",
     "output_type": "stream",
     "text": [
      "Error loading PO_Day_04.CSC17.ncs\n",
      "skipping...\n"
     ]
    },
    {
     "name": "stderr",
     "output_type": "stream",
     "text": [
      "compressing channels: 100%|██████████| 179/179 [00:36<00:00,  4.91it/s]\n"
     ]
    },
    {
     "name": "stdout",
     "output_type": "stream",
     "text": [
      "Failed to load:  wire_14_electrode_9\n",
      "0 missing tasks\n"
     ]
    },
    {
     "name": "stderr",
     "output_type": "stream",
     "text": [
      "/usr/local/lib/python3.6/dist-packages/emu/neuralynx_io.py:79: UserWarning: Unable to parse original file path from Neuralynx header: -FileType Event\n",
      "  warnings.warn('Unable to parse original file path from Neuralynx header: ' + hdr_lines[1])\n",
      "/usr/local/lib/python3.6/dist-packages/emu/neuralynx_io.py:97: UserWarning: Unable to parse parameter line from Neuralynx header: -TimeCreated 2020/03/06 12:34:58\n",
      "  warnings.warn('Unable to parse parameter line from Neuralynx header: ' + line)\n",
      "/usr/local/lib/python3.6/dist-packages/emu/neuralynx_io.py:97: UserWarning: Unable to parse parameter line from Neuralynx header: -TimeClosed 2020/03/09 09:07:51\n",
      "  warnings.warn('Unable to parse parameter line from Neuralynx header: ' + line)\n",
      "/usr/local/lib/python3.6/dist-packages/emu/neuralynx_io.py:97: UserWarning: Unable to parse parameter line from Neuralynx header: -ApplicationName Pegasus \"2.1.2 \"\n",
      "  warnings.warn('Unable to parse parameter line from Neuralynx header: ' + line)\n",
      "/usr/local/lib/python3.6/dist-packages/emu/neuralynx_io.py:97: UserWarning: Unable to parse parameter line from Neuralynx header: -AcquisitionSystem AcqSystem1 ATLAS\n",
      "  warnings.warn('Unable to parse parameter line from Neuralynx header: ' + line)\n"
     ]
    }
   ],
   "source": [
    "nwb = p.create_nwb(ncs_fps=ncs_paths,nev_fp=nev_path,blocks=[3,4,5,6],desc='Patient 1 | Post-op Day 4')"
   ]
  },
  {
   "cell_type": "code",
   "execution_count": 16,
   "metadata": {},
   "outputs": [
    {
     "data": {
      "text/plain": [
       "root pynwb.file.NWBFile at 0x140034607332656\n",
       "Fields:\n",
       "  acquisition: {\n",
       "    ttl <class 'pynwb.misc.AnnotationSeries'>\n",
       "  }\n",
       "  devices: {\n",
       "    Neuralynx <class 'pynwb.device.Device'>\n",
       "  }\n",
       "  electrode_groups: {\n",
       "    wire_1 <class 'pynwb.ecephys.ElectrodeGroup'>,\n",
       "    wire_10 <class 'pynwb.ecephys.ElectrodeGroup'>,\n",
       "    wire_11 <class 'pynwb.ecephys.ElectrodeGroup'>,\n",
       "    wire_12 <class 'pynwb.ecephys.ElectrodeGroup'>,\n",
       "    wire_13 <class 'pynwb.ecephys.ElectrodeGroup'>,\n",
       "    wire_14 <class 'pynwb.ecephys.ElectrodeGroup'>,\n",
       "    wire_15 <class 'pynwb.ecephys.ElectrodeGroup'>,\n",
       "    wire_2 <class 'pynwb.ecephys.ElectrodeGroup'>,\n",
       "    wire_3 <class 'pynwb.ecephys.ElectrodeGroup'>,\n",
       "    wire_4 <class 'pynwb.ecephys.ElectrodeGroup'>,\n",
       "    wire_5 <class 'pynwb.ecephys.ElectrodeGroup'>,\n",
       "    wire_6 <class 'pynwb.ecephys.ElectrodeGroup'>,\n",
       "    wire_7 <class 'pynwb.ecephys.ElectrodeGroup'>,\n",
       "    wire_8 <class 'pynwb.ecephys.ElectrodeGroup'>,\n",
       "    wire_9 <class 'pynwb.ecephys.ElectrodeGroup'>\n",
       "  }\n",
       "  electrodes: electrodes <class 'hdmf.common.table.DynamicTable'>\n",
       "  file_create_date: [datetime.datetime(2020, 6, 23, 11, 45, 42, 348121, tzinfo=tzlocal())]\n",
       "  identifier: 8cb63e88-69f5-480a-b894-ef5fbc9040ab\n",
       "  institution: University of Colorado Anschutz\n",
       "  lab: Thompson Lab\n",
       "  processing: {\n",
       "    ecephys <class 'pynwb.base.ProcessingModule'>\n",
       "  }\n",
       "  session_id: 8cb63e88-69f5-480a-b894-ef5fbc9040ab\n",
       "  session_start_time: 2020-03-06 12:37:10.586191+00:00\n",
       "  subject: subject pynwb.file.Subject at 0x140032847049336\n",
       "Fields:\n",
       "  species: human\n",
       "  subject_id: 6305\n",
       "\n",
       "  timestamps_reference_time: 2020-03-06 12:37:10.586191+00:00\n",
       "  trials: trials <class 'pynwb.epoch.TimeIntervals'>"
      ]
     },
     "execution_count": 16,
     "metadata": {},
     "output_type": "execute_result"
    }
   ],
   "source": [
    "nwb"
   ]
  },
  {
   "cell_type": "code",
   "execution_count": 24,
   "metadata": {},
   "outputs": [
    {
     "data": {
      "text/plain": [
       "datetime.datetime(2020, 3, 6, 12, 37, 10, 586191, tzinfo=<UTC>)"
      ]
     },
     "execution_count": 24,
     "metadata": {},
     "output_type": "execute_result"
    }
   ],
   "source": [
    "nwb.session_start_time"
   ]
  },
  {
   "cell_type": "code",
   "execution_count": 23,
   "metadata": {},
   "outputs": [
    {
     "data": {
      "text/plain": [
       "wire_10_electrode_1 pynwb.ecephys.ElectricalSeries at 0x140032846791736\n",
       "Fields:\n",
       "  comments: CSC1\n",
       "  conversion: 1e-06\n",
       "  data: [ -0.7627  18.73    29.48   ... -27.03   -34.5    -41.03  ]\n",
       "  description: no description\n",
       "  electrodes: electrodes <class 'hdmf.common.table.DynamicTableRegion'>\n",
       "  rate: 1000.0\n",
       "  resolution: -1.0\n",
       "  starting_time: 0.0\n",
       "  unit: volts"
      ]
     },
     "execution_count": 23,
     "metadata": {},
     "output_type": "execute_result"
    }
   ],
   "source": [
    "nwb.processing['ecephys']['LFP']['wire_10_electrode_1']"
   ]
  },
  {
   "cell_type": "code",
   "execution_count": 10,
   "metadata": {},
   "outputs": [
    {
     "data": {
      "text/plain": [
       "electrodes hdmf.common.table.DynamicTable at 0x140032846733776\n",
       "Fields:\n",
       "  colnames: ['x' 'y' 'z' 'imp' 'location' 'filtering' 'group' 'group_name']\n",
       "  columns: (\n",
       "    x <class 'hdmf.common.table.VectorData'>,\n",
       "    y <class 'hdmf.common.table.VectorData'>,\n",
       "    z <class 'hdmf.common.table.VectorData'>,\n",
       "    imp <class 'hdmf.common.table.VectorData'>,\n",
       "    location <class 'hdmf.common.table.VectorData'>,\n",
       "    filtering <class 'hdmf.common.table.VectorData'>,\n",
       "    group <class 'hdmf.common.table.VectorData'>,\n",
       "    group_name <class 'hdmf.common.table.VectorData'>\n",
       "  )\n",
       "  description: metadata about extracellular electrodes\n",
       "  id: id <class 'hdmf.common.table.ElementIdentifiers'>"
      ]
     },
     "execution_count": 10,
     "metadata": {},
     "output_type": "execute_result"
    }
   ],
   "source": [
    "nwb.electrodes"
   ]
  },
  {
   "cell_type": "code",
   "execution_count": 11,
   "metadata": {},
   "outputs": [
    {
     "data": {
      "text/plain": [
       "['wire_1',\n",
       " 'wire_2',\n",
       " 'wire_3',\n",
       " 'wire_4',\n",
       " 'wire_5',\n",
       " 'wire_6',\n",
       " 'wire_7',\n",
       " 'wire_8',\n",
       " 'wire_9',\n",
       " 'wire_10',\n",
       " 'wire_11',\n",
       " 'wire_12',\n",
       " 'wire_13',\n",
       " 'wire_14',\n",
       " 'wire_15']"
      ]
     },
     "execution_count": 11,
     "metadata": {},
     "output_type": "execute_result"
    }
   ],
   "source": [
    "elec_groups = list(nwb.electrode_groups.keys())\n",
    "elec_groups"
   ]
  },
  {
   "cell_type": "code",
   "execution_count": 12,
   "metadata": {},
   "outputs": [
    {
     "data": {
      "text/html": [
       "<div>\n",
       "<style scoped>\n",
       "    .dataframe tbody tr th:only-of-type {\n",
       "        vertical-align: middle;\n",
       "    }\n",
       "\n",
       "    .dataframe tbody tr th {\n",
       "        vertical-align: top;\n",
       "    }\n",
       "\n",
       "    .dataframe thead th {\n",
       "        text-align: right;\n",
       "    }\n",
       "</style>\n",
       "<table border=\"1\" class=\"dataframe\">\n",
       "  <thead>\n",
       "    <tr style=\"text-align: right;\">\n",
       "      <th></th>\n",
       "      <th>x</th>\n",
       "      <th>y</th>\n",
       "      <th>z</th>\n",
       "      <th>imp</th>\n",
       "      <th>location</th>\n",
       "      <th>filtering</th>\n",
       "      <th>group</th>\n",
       "      <th>group_name</th>\n",
       "    </tr>\n",
       "    <tr>\n",
       "      <th>id</th>\n",
       "      <th></th>\n",
       "      <th></th>\n",
       "      <th></th>\n",
       "      <th></th>\n",
       "      <th></th>\n",
       "      <th></th>\n",
       "      <th></th>\n",
       "      <th></th>\n",
       "    </tr>\n",
       "  </thead>\n",
       "  <tbody>\n",
       "    <tr>\n",
       "      <th>1</th>\n",
       "      <td>0.0</td>\n",
       "      <td>0.0</td>\n",
       "      <td>0.0</td>\n",
       "      <td>-1.0</td>\n",
       "      <td>LOF</td>\n",
       "      <td>none</td>\n",
       "      <td>wire_1 pynwb.ecephys.ElectrodeGroup at 0x14003...</td>\n",
       "      <td>wire_1</td>\n",
       "    </tr>\n",
       "    <tr>\n",
       "      <th>2</th>\n",
       "      <td>0.0</td>\n",
       "      <td>0.0</td>\n",
       "      <td>0.0</td>\n",
       "      <td>-1.0</td>\n",
       "      <td>LOF</td>\n",
       "      <td>none</td>\n",
       "      <td>wire_1 pynwb.ecephys.ElectrodeGroup at 0x14003...</td>\n",
       "      <td>wire_1</td>\n",
       "    </tr>\n",
       "    <tr>\n",
       "      <th>3</th>\n",
       "      <td>0.0</td>\n",
       "      <td>0.0</td>\n",
       "      <td>0.0</td>\n",
       "      <td>-1.0</td>\n",
       "      <td>LOF</td>\n",
       "      <td>none</td>\n",
       "      <td>wire_1 pynwb.ecephys.ElectrodeGroup at 0x14003...</td>\n",
       "      <td>wire_1</td>\n",
       "    </tr>\n",
       "    <tr>\n",
       "      <th>4</th>\n",
       "      <td>0.0</td>\n",
       "      <td>0.0</td>\n",
       "      <td>0.0</td>\n",
       "      <td>-1.0</td>\n",
       "      <td>LOF</td>\n",
       "      <td>none</td>\n",
       "      <td>wire_1 pynwb.ecephys.ElectrodeGroup at 0x14003...</td>\n",
       "      <td>wire_1</td>\n",
       "    </tr>\n",
       "    <tr>\n",
       "      <th>5</th>\n",
       "      <td>0.0</td>\n",
       "      <td>0.0</td>\n",
       "      <td>0.0</td>\n",
       "      <td>-1.0</td>\n",
       "      <td>LOF</td>\n",
       "      <td>none</td>\n",
       "      <td>wire_1 pynwb.ecephys.ElectrodeGroup at 0x14003...</td>\n",
       "      <td>wire_1</td>\n",
       "    </tr>\n",
       "    <tr>\n",
       "      <th>...</th>\n",
       "      <td>...</td>\n",
       "      <td>...</td>\n",
       "      <td>...</td>\n",
       "      <td>...</td>\n",
       "      <td>...</td>\n",
       "      <td>...</td>\n",
       "      <td>...</td>\n",
       "      <td>...</td>\n",
       "    </tr>\n",
       "    <tr>\n",
       "      <th>174</th>\n",
       "      <td>0.0</td>\n",
       "      <td>0.0</td>\n",
       "      <td>0.0</td>\n",
       "      <td>-1.0</td>\n",
       "      <td>RPT</td>\n",
       "      <td>none</td>\n",
       "      <td>wire_15 pynwb.ecephys.ElectrodeGroup at 0x1400...</td>\n",
       "      <td>wire_15</td>\n",
       "    </tr>\n",
       "    <tr>\n",
       "      <th>175</th>\n",
       "      <td>0.0</td>\n",
       "      <td>0.0</td>\n",
       "      <td>0.0</td>\n",
       "      <td>-1.0</td>\n",
       "      <td>RPT</td>\n",
       "      <td>none</td>\n",
       "      <td>wire_15 pynwb.ecephys.ElectrodeGroup at 0x1400...</td>\n",
       "      <td>wire_15</td>\n",
       "    </tr>\n",
       "    <tr>\n",
       "      <th>176</th>\n",
       "      <td>0.0</td>\n",
       "      <td>0.0</td>\n",
       "      <td>0.0</td>\n",
       "      <td>-1.0</td>\n",
       "      <td>RPT</td>\n",
       "      <td>none</td>\n",
       "      <td>wire_15 pynwb.ecephys.ElectrodeGroup at 0x1400...</td>\n",
       "      <td>wire_15</td>\n",
       "    </tr>\n",
       "    <tr>\n",
       "      <th>177</th>\n",
       "      <td>0.0</td>\n",
       "      <td>0.0</td>\n",
       "      <td>0.0</td>\n",
       "      <td>-1.0</td>\n",
       "      <td>RPT</td>\n",
       "      <td>none</td>\n",
       "      <td>wire_15 pynwb.ecephys.ElectrodeGroup at 0x1400...</td>\n",
       "      <td>wire_15</td>\n",
       "    </tr>\n",
       "    <tr>\n",
       "      <th>178</th>\n",
       "      <td>0.0</td>\n",
       "      <td>0.0</td>\n",
       "      <td>0.0</td>\n",
       "      <td>-1.0</td>\n",
       "      <td>RPT</td>\n",
       "      <td>none</td>\n",
       "      <td>wire_15 pynwb.ecephys.ElectrodeGroup at 0x1400...</td>\n",
       "      <td>wire_15</td>\n",
       "    </tr>\n",
       "  </tbody>\n",
       "</table>\n",
       "<p>178 rows × 8 columns</p>\n",
       "</div>"
      ],
      "text/plain": [
       "       x    y    z  imp location filtering  \\\n",
       "id                                           \n",
       "1    0.0  0.0  0.0 -1.0      LOF      none   \n",
       "2    0.0  0.0  0.0 -1.0      LOF      none   \n",
       "3    0.0  0.0  0.0 -1.0      LOF      none   \n",
       "4    0.0  0.0  0.0 -1.0      LOF      none   \n",
       "5    0.0  0.0  0.0 -1.0      LOF      none   \n",
       "..   ...  ...  ...  ...      ...       ...   \n",
       "174  0.0  0.0  0.0 -1.0      RPT      none   \n",
       "175  0.0  0.0  0.0 -1.0      RPT      none   \n",
       "176  0.0  0.0  0.0 -1.0      RPT      none   \n",
       "177  0.0  0.0  0.0 -1.0      RPT      none   \n",
       "178  0.0  0.0  0.0 -1.0      RPT      none   \n",
       "\n",
       "                                                 group group_name  \n",
       "id                                                                 \n",
       "1    wire_1 pynwb.ecephys.ElectrodeGroup at 0x14003...     wire_1  \n",
       "2    wire_1 pynwb.ecephys.ElectrodeGroup at 0x14003...     wire_1  \n",
       "3    wire_1 pynwb.ecephys.ElectrodeGroup at 0x14003...     wire_1  \n",
       "4    wire_1 pynwb.ecephys.ElectrodeGroup at 0x14003...     wire_1  \n",
       "5    wire_1 pynwb.ecephys.ElectrodeGroup at 0x14003...     wire_1  \n",
       "..                                                 ...        ...  \n",
       "174  wire_15 pynwb.ecephys.ElectrodeGroup at 0x1400...    wire_15  \n",
       "175  wire_15 pynwb.ecephys.ElectrodeGroup at 0x1400...    wire_15  \n",
       "176  wire_15 pynwb.ecephys.ElectrodeGroup at 0x1400...    wire_15  \n",
       "177  wire_15 pynwb.ecephys.ElectrodeGroup at 0x1400...    wire_15  \n",
       "178  wire_15 pynwb.ecephys.ElectrodeGroup at 0x1400...    wire_15  \n",
       "\n",
       "[178 rows x 8 columns]"
      ]
     },
     "execution_count": 12,
     "metadata": {},
     "output_type": "execute_result"
    }
   ],
   "source": [
    "nwb.electrodes.to_dataframe()"
   ]
  },
  {
   "cell_type": "code",
   "execution_count": 13,
   "metadata": {},
   "outputs": [
    {
     "data": {
      "text/plain": [
       "datetime.datetime(2020, 3, 6, 12, 37, 10, 586191, tzinfo=<UTC>)"
      ]
     },
     "execution_count": 13,
     "metadata": {},
     "output_type": "execute_result"
    }
   ],
   "source": [
    "nwb.timestamps_reference_time"
   ]
  },
  {
   "cell_type": "code",
   "execution_count": 14,
   "metadata": {},
   "outputs": [
    {
     "data": {
      "text/plain": [
       "ttl pynwb.misc.AnnotationSeries at 0x140032846252912\n",
       "Fields:\n",
       "  comments: no comments\n",
       "  conversion: 1.0\n",
       "  data: ['block_start' 'block_start' 'trial_start' 'trial_start' 'trial_start'\n",
       " 'trial_start' 'trial_start' 'trial_start' 'trial_start' 'trial_start'\n",
       " 'trial_start' 'trial_start' 'trial_start' 'trial_start' 'trial_start'\n",
       " 'trial_start' 'trial_start' 'block_start' 'block_start' 'trial_start'\n",
       " 'trial_start' 'trial_start' 'trial_start' 'trial_start' 'trial_start'\n",
       " 'trial_start' 'trial_start' 'trial_start' 'trial_start' 'trial_start'\n",
       " 'trial_start' 'trial_start' 'trial_start' 'trial_start' 'block_start'\n",
       " 'block_start' 'trial_start' 'trial_start' 'trial_start' 'trial_start'\n",
       " 'trial_start' 'trial_start' 'trial_start' 'trial_start' 'trial_start'\n",
       " 'trial_start' 'trial_start' 'trial_start' 'trial_start' 'trial_start'\n",
       " 'trial_start' 'block_start' 'block_start' 'trial_start' 'trial_start'\n",
       " 'trial_start' 'trial_start' 'trial_start' 'trial_start' 'trial_start'\n",
       " 'trial_start' 'trial_start' 'trial_start' 'trial_start' 'trial_start'\n",
       " 'trial_start' 'trial_start' 'trial_start']\n",
       "  description: no description\n",
       "  interval: 1\n",
       "  resolution: -1.0\n",
       "  timestamps: [ 189.20450211  189.42118907  208.70411897  225.63711214  240.27013803\n",
       "  254.53653812  268.65293908  303.03561211  323.10191703  337.35162997\n",
       "  352.28468609  366.96774316  399.867136    416.366817    430.5832181\n",
       "  445.26627398  460.26601815  541.94782901  542.16448498  638.51263404\n",
       "  654.26234603  669.07871604  684.29511595  698.69482899  723.02769399\n",
       "  737.94409394  751.49383903  764.07695913  779.29332805  820.29259205\n",
       "  838.05892897  855.44195294  870.77501011  887.5247221  1022.13891816\n",
       " 1022.35557413 1039.13859797 1054.52162313 1069.27136707 1084.07107997\n",
       " 1101.88741708 1129.23693705 1147.30327415 1164.36964202 1182.35263395\n",
       " 1197.15237808 1229.03514695 1246.95148396 1261.48457098 1275.16766\n",
       " 1289.95071602 1357.68284512 1357.89950109 1380.91574216 1395.56548595\n",
       " 1409.24854302 1424.06494403 1439.28134418 1463.69755316 1479.03060913\n",
       " 1495.48032117 1513.89665794 1532.26299405 1575.46219516 1591.67856407\n",
       " 1605.31165195 1619.09474015 1632.16117311]\n",
       "  timestamps_unit: seconds\n",
       "  unit: n/a"
      ]
     },
     "execution_count": 14,
     "metadata": {},
     "output_type": "execute_result"
    }
   ],
   "source": [
    "nwb.acquisition['ttl']"
   ]
  },
  {
   "cell_type": "code",
   "execution_count": 15,
   "metadata": {},
   "outputs": [
    {
     "ename": "KeyError",
     "evalue": "'wire_13_electrode_6'",
     "output_type": "error",
     "traceback": [
      "\u001b[0;31m---------------------------------------------------------------------------\u001b[0m",
      "\u001b[0;31mKeyError\u001b[0m                                  Traceback (most recent call last)",
      "\u001b[0;32m<ipython-input-15-64e1115401db>\u001b[0m in \u001b[0;36m<module>\u001b[0;34m\u001b[0m\n\u001b[0;32m----> 1\u001b[0;31m \u001b[0mnwb\u001b[0m\u001b[0;34m.\u001b[0m\u001b[0macquisition\u001b[0m\u001b[0;34m[\u001b[0m\u001b[0;34m'wire_13_electrode_6'\u001b[0m\u001b[0;34m]\u001b[0m\u001b[0;34m.\u001b[0m\u001b[0mdata\u001b[0m\u001b[0;34m\u001b[0m\u001b[0;34m\u001b[0m\u001b[0m\n\u001b[0m",
      "\u001b[0;32m/usr/local/lib/python3.6/dist-packages/pynwb/core.py\u001b[0m in \u001b[0;36m__getitem__\u001b[0;34m(self, args)\u001b[0m\n\u001b[1;32m    624\u001b[0m                 \u001b[0;32mreturn\u001b[0m \u001b[0mret\u001b[0m \u001b[0;32mif\u001b[0m \u001b[0mlen\u001b[0m\u001b[0;34m(\u001b[0m\u001b[0mret\u001b[0m\u001b[0;34m)\u001b[0m \u001b[0;32melse\u001b[0m \u001b[0;32mNone\u001b[0m\u001b[0;34m\u001b[0m\u001b[0;34m\u001b[0m\u001b[0m\n\u001b[1;32m    625\u001b[0m             \u001b[0mkey\u001b[0m \u001b[0;34m=\u001b[0m \u001b[0mval\u001b[0m\u001b[0;34m\u001b[0m\u001b[0;34m\u001b[0m\u001b[0m\n\u001b[0;32m--> 626\u001b[0;31m         \u001b[0;32mreturn\u001b[0m \u001b[0msuper\u001b[0m\u001b[0;34m(\u001b[0m\u001b[0mLabelledDict\u001b[0m\u001b[0;34m,\u001b[0m \u001b[0mself\u001b[0m\u001b[0;34m)\u001b[0m\u001b[0;34m.\u001b[0m\u001b[0m__getitem__\u001b[0m\u001b[0;34m(\u001b[0m\u001b[0mkey\u001b[0m\u001b[0;34m)\u001b[0m\u001b[0;34m\u001b[0m\u001b[0;34m\u001b[0m\u001b[0m\n\u001b[0m\u001b[1;32m    627\u001b[0m \u001b[0;34m\u001b[0m\u001b[0m\n\u001b[1;32m    628\u001b[0m     \u001b[0;34m@\u001b[0m\u001b[0mdocval\u001b[0m\u001b[0;34m(\u001b[0m\u001b[0;34m{\u001b[0m\u001b[0;34m'name'\u001b[0m\u001b[0;34m:\u001b[0m \u001b[0;34m'container'\u001b[0m\u001b[0;34m,\u001b[0m \u001b[0;34m'type'\u001b[0m\u001b[0;34m:\u001b[0m \u001b[0;34m(\u001b[0m\u001b[0mNWBData\u001b[0m\u001b[0;34m,\u001b[0m \u001b[0mNWBContainer\u001b[0m\u001b[0;34m)\u001b[0m\u001b[0;34m,\u001b[0m \u001b[0;34m'doc'\u001b[0m\u001b[0;34m:\u001b[0m \u001b[0;34m'the container to add to this LabelledDict'\u001b[0m\u001b[0;34m}\u001b[0m\u001b[0;34m)\u001b[0m\u001b[0;34m\u001b[0m\u001b[0;34m\u001b[0m\u001b[0m\n",
      "\u001b[0;31mKeyError\u001b[0m: 'wire_13_electrode_6'"
     ]
    }
   ],
   "source": [
    "nwb.acquisition['wire_13_electrode_6'].data"
   ]
  },
  {
   "cell_type": "code",
   "execution_count": null,
   "metadata": {},
   "outputs": [],
   "source": [
    "nwb.electrodes.to_dataframe()[['location','group_name']].drop_duplicates()"
   ]
  },
  {
   "cell_type": "code",
   "execution_count": null,
   "metadata": {},
   "outputs": [],
   "source": [
    "nwb.acquisition['ttl'].timestamps[4]"
   ]
  },
  {
   "cell_type": "code",
   "execution_count": null,
   "metadata": {},
   "outputs": [],
   "source": [
    "idx = int(nwb.acquisition['ttl'].timestamps[4]*1000)\n",
    "idx"
   ]
  },
  {
   "cell_type": "code",
   "execution_count": null,
   "metadata": {},
   "outputs": [],
   "source": [
    "nwb.acquisition['wire_13_electrode_6'].data"
   ]
  },
  {
   "cell_type": "code",
   "execution_count": null,
   "metadata": {},
   "outputs": [],
   "source": [
    "with NWBHDF5IO(os.path.join(seeg_root,'..','processed','PO_Day_04.nwb'),'w') as io:\n",
    "    io.write(nwb)"
   ]
  },
  {
   "cell_type": "code",
   "execution_count": null,
   "metadata": {},
   "outputs": [],
   "source": []
  },
  {
   "cell_type": "code",
   "execution_count": null,
   "metadata": {},
   "outputs": [],
   "source": [
    "nwb.processing['ecephys'].data_interfaces['LFP']['wire_10_electrode_1'].data.shape"
   ]
  },
  {
   "cell_type": "code",
   "execution_count": null,
   "metadata": {},
   "outputs": [],
   "source": [
    "nwb.trials.to_dataframe()"
   ]
  },
  {
   "cell_type": "code",
   "execution_count": null,
   "metadata": {},
   "outputs": [],
   "source": []
  }
 ],
 "metadata": {
  "kernelspec": {
   "display_name": "Python 3",
   "language": "python",
   "name": "python3"
  },
  "language_info": {
   "codemirror_mode": {
    "name": "ipython",
    "version": 3
   },
   "file_extension": ".py",
   "mimetype": "text/x-python",
   "name": "python",
   "nbconvert_exporter": "python",
   "pygments_lexer": "ipython3",
   "version": "3.6.9"
  }
 },
 "nbformat": 4,
 "nbformat_minor": 4
}
