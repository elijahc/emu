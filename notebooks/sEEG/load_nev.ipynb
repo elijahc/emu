{
 "cells": [
  {
   "cell_type": "code",
   "execution_count": 18,
   "metadata": {},
   "outputs": [],
   "source": [
    "import os\n",
    "import numpy as np\n",
    "import emu.neuralynx_io as nlx\n",
    "from pynwb.misc import AnnotationSeries\n",
    "from pynwb import NWBFile\n",
    "import pandas as pd\n",
    "import datetime"
   ]
  },
  {
   "cell_type": "code",
   "execution_count": 2,
   "metadata": {},
   "outputs": [
    {
     "name": "stdout",
     "output_type": "stream",
     "text": [
      "/home/elijahc/.emu/pdil/pt_01/SEEG\n"
     ]
    }
   ],
   "source": [
    "proj_root = '/home/elijahc/.emu/'\n",
    "\n",
    "seeg_root = os.path.join(proj_root,'pdil','pt_01','SEEG')\n",
    "print(seeg_root)"
   ]
  },
  {
   "cell_type": "code",
   "execution_count": 3,
   "metadata": {},
   "outputs": [],
   "source": [
    "import glob"
   ]
  },
  {
   "cell_type": "code",
   "execution_count": 15,
   "metadata": {},
   "outputs": [],
   "source": [
    "def load_all_nev(path):\n",
    "    nev_files = sorted(glob.glob(os.path.join(path,'*.nev')))\n",
    "    nev1 = nlx.load_nev(nev_files[0])['events']\n",
    "    cols = nev1.dtype.names\n",
    "    for p in nev_files:\n",
    "        f = nlx.load_nev(p)['events']\n",
    "        for row in f:\n",
    "            r = {k:v for k,v in zip(cols,row)}\n",
    "            r['path'] = os.path.split(p)[-1]\n",
    "            yield r\n",
    "         \n",
    "def df_from_raw(path,index=None):\n",
    "    ev = pd.DataFrame.from_records(load_all_nev(path),index=index)\n",
    "    ev['EventString'] = [str(v,'utf-8') for v in ev.EventString.values]\n",
    "    ev['time'] = pd.to_datetime(ev.TimeStamp.values,unit='us')\n",
    "    ev = ev.set_index('TimeStamp')\n",
    "    return ev\n",
    "\n",
    "def label_blockstart(df,threshold=220000):\n",
    "    labels = ['block_start']\n",
    "    for i in np.arange(len(df.index.values))[1:-1]:\n",
    "#         triplet = df.index.values[i-1:i+1]\n",
    "        diff_prev = int(np.abs(df.index.values[i]-df.index.values[i-1]))\n",
    "        diff_next = int(np.abs(df.index.values[i]-df.index.values[i+1]))\n",
    "#         print([diff_prev, diff_next])\n",
    "        if  diff_prev <= threshold or diff_next <= threshold:\n",
    "            labels.append('block_start')\n",
    "            j=1\n",
    "#         elif i<len(df.index.values) and  <= threshold:\n",
    "#             labels.append('block_start')\n",
    "        else:\n",
    "            labels.append('trial_start'.format(int(j)))\n",
    "            j+=1\n",
    "    labels.append('trial_start'.format(str(j)))\n",
    "    df['label'] = labels\n",
    "    return df"
   ]
  },
  {
   "cell_type": "code",
   "execution_count": null,
   "metadata": {},
   "outputs": [],
   "source": [
    "pd.to_datetime()"
   ]
  },
  {
   "cell_type": "code",
   "execution_count": 56,
   "metadata": {},
   "outputs": [
    {
     "name": "stderr",
     "output_type": "stream",
     "text": [
      "/home/elijahc/dev/emu/emu/neuralynx_io.py:79: UserWarning: Unable to parse original file path from Neuralynx header: -FileType Event\n",
      "  warnings.warn('Unable to parse original file path from Neuralynx header: ' + hdr_lines[1])\n",
      "/home/elijahc/dev/emu/emu/neuralynx_io.py:131: UserWarning: Unable to parse time string from Neuralynx header: -FileVersion 3.2\n",
      "  warnings.warn('Unable to parse time string from Neuralynx header: ' + time_string)\n",
      "/home/elijahc/dev/emu/emu/neuralynx_io.py:131: UserWarning: Unable to parse time string from Neuralynx header: -FileUUID d11594df-8b47-4683-b9fa-6f4f452b31ce\n",
      "  warnings.warn('Unable to parse time string from Neuralynx header: ' + time_string)\n",
      "/home/elijahc/dev/emu/emu/neuralynx_io.py:93: UserWarning: Unable to parse parameter line from Neuralynx header: -TimeCreated 2020/03/04 13:35:45\n",
      "  warnings.warn('Unable to parse parameter line from Neuralynx header: ' + line)\n",
      "/home/elijahc/dev/emu/emu/neuralynx_io.py:93: UserWarning: Unable to parse parameter line from Neuralynx header: -TimeClosed 2020/03/06 12:30:46\n",
      "  warnings.warn('Unable to parse parameter line from Neuralynx header: ' + line)\n",
      "/home/elijahc/dev/emu/emu/neuralynx_io.py:93: UserWarning: Unable to parse parameter line from Neuralynx header: -ApplicationName Pegasus \"2.1.2 \"\n",
      "  warnings.warn('Unable to parse parameter line from Neuralynx header: ' + line)\n",
      "/home/elijahc/dev/emu/emu/neuralynx_io.py:93: UserWarning: Unable to parse parameter line from Neuralynx header: -AcquisitionSystem AcqSystem1 ATLAS\n",
      "  warnings.warn('Unable to parse parameter line from Neuralynx header: ' + line)\n"
     ]
    },
    {
     "data": {
      "text/plain": [
       "{'file_path': '/home/elijahc/.emu/pdil/pt_01/SEEG/raw/Events_0007.nev',\n",
       " 'raw_header': b'######## Neuralynx Data File Header\\r\\n-FileType Event\\r\\n-FileVersion 3.2\\r\\n-FileUUID d11594df-8b47-4683-b9fa-6f4f452b31ce\\r\\n-SessionUUID 6f2002cc-7de0-4456-997d-610326db2453\\r\\n-OriginalFileName D:\\\\PegasusData\\\\2020-03-03_09-18-11\\\\Events_0007.nev\\r\\n-TimeCreated 2020/03/04 13:35:45\\r\\n-TimeClosed 2020/03/06 12:30:46\\r\\n-RecordSize 184\\r\\n-ApplicationName Pegasus \"2.1.2 \"\\r\\n-AcquisitionSystem AcqSystem1 ATLAS\\r\\n-AcqEntName Events\\r\\n',\n",
       " 'header': {'TimeOpened': 'leVersion 3.2',\n",
       "  'TimeOpened_dt': None,\n",
       "  'TimeClosed': 'leUUID d11594df-8b47-4683-b9fa-6f4f452b31ce',\n",
       "  'TimeClosed_dt': None,\n",
       "  'SessionUUID': '6f2002cc-7de0-4456-997d-610326db2453',\n",
       "  'OriginalFileName': 'D:\\\\PegasusData\\\\2020-03-03_09-18-11\\\\Events_0007.nev',\n",
       "  'RecordSize': '184',\n",
       "  'AcqEntName': 'Events'},\n",
       " 'records': array([(0, 0, 2, 1583328945020845, 19, 0, 0, 0, 0, [0, 0, 0, 0, 0, 0, 0, 0], b'Starting Recording'),\n",
       "        (0, 0, 2, 1583329028786780, 19, 0, 0, 0, 0, [0, 0, 0, 0, 0, 0, 0, 0], b'Stopping Recording'),\n",
       "        (0, 0, 2, 1583329098909783, 19, 0, 0, 0, 0, [0, 0, 0, 0, 0, 0, 0, 0], b'Starting Recording'),\n",
       "        (0, 0, 2, 1583329111041716, 20, 1, 0, 0, 0, [0, 0, 0, 0, 0, 0, 0, 0], b'ttl'),\n",
       "        (0, 0, 2, 1583329111247935, 20, 0, 0, 0, 0, [0, 0, 0, 0, 0, 0, 0, 0], b'TTL Input on AcqSystem1_0 board 0 port 0 value (0x0000).'),\n",
       "        (0, 0, 2, 1583329111258372, 20, 1, 0, 0, 0, [0, 0, 0, 0, 0, 0, 0, 0], b'ttl'),\n",
       "        (0, 0, 2, 1583329111758372, 20, 0, 0, 0, 0, [0, 0, 0, 0, 0, 0, 0, 0], b'TTL Input on AcqSystem1_0 board 0 port 0 value (0x0000).'),\n",
       "        (0, 0, 2, 1583329163090664, 20, 1, 0, 0, 0, [0, 0, 0, 0, 0, 0, 0, 0], b'ttl'),\n",
       "        (0, 0, 2, 1583329163590664, 20, 0, 0, 0, 0, [0, 0, 0, 0, 0, 0, 0, 0], b'TTL Input on AcqSystem1_0 board 0 port 0 value (0x0000).'),\n",
       "        (0, 0, 2, 1583329201939898, 20, 1, 0, 0, 0, [0, 0, 0, 0, 0, 0, 0, 0], b'ttl'),\n",
       "        (0, 0, 2, 1583329202439898, 20, 0, 0, 0, 0, [0, 0, 0, 0, 0, 0, 0, 0], b'TTL Input on AcqSystem1_0 board 0 port 0 value (0x0000).'),\n",
       "        (0, 0, 2, 1583329233089292, 20, 1, 0, 0, 0, [0, 0, 0, 0, 0, 0, 0, 0], b'ttl'),\n",
       "        (0, 0, 2, 1583329233589323, 20, 0, 0, 0, 0, [0, 0, 0, 0, 0, 0, 0, 0], b'TTL Input on AcqSystem1_0 board 0 port 0 value (0x0000).'),\n",
       "        (0, 0, 2, 1583329256138877, 20, 1, 0, 0, 0, [0, 0, 0, 0, 0, 0, 0, 0], b'ttl'),\n",
       "        (0, 0, 2, 1583329256638876, 20, 0, 0, 0, 0, [0, 0, 0, 0, 0, 0, 0, 0], b'TTL Input on AcqSystem1_0 board 0 port 0 value (0x0000).'),\n",
       "        (0, 0, 2, 1583329276021837, 20, 1, 0, 0, 0, [0, 0, 0, 0, 0, 0, 0, 0], b'ttl'),\n",
       "        (0, 0, 2, 1583329276521837, 20, 0, 0, 0, 0, [0, 0, 0, 0, 0, 0, 0, 0], b'TTL Input on AcqSystem1_0 board 0 port 0 value (0x0000).'),\n",
       "        (0, 0, 2, 1583329301404702, 20, 1, 0, 0, 0, [0, 0, 0, 0, 0, 0, 0, 0], b'ttl'),\n",
       "        (0, 0, 2, 1583329301904702, 20, 0, 0, 0, 0, [0, 0, 0, 0, 0, 0, 0, 0], b'TTL Input on AcqSystem1_0 board 0 port 0 value (0x0000).'),\n",
       "        (0, 0, 2, 1583329320137695, 20, 1, 0, 0, 0, [0, 0, 0, 0, 0, 0, 0, 0], b'ttl'),\n",
       "        (0, 0, 2, 1583329320637694, 20, 0, 0, 0, 0, [0, 0, 0, 0, 0, 0, 0, 0], b'TTL Input on AcqSystem1_0 board 0 port 0 value (0x0000).'),\n",
       "        (0, 0, 2, 1583329340903967, 20, 1, 0, 0, 0, [0, 0, 0, 0, 0, 0, 0, 0], b'ttl'),\n",
       "        (0, 0, 2, 1583329341403967, 20, 0, 0, 0, 0, [0, 0, 0, 0, 0, 0, 0, 0], b'TTL Input on AcqSystem1_0 board 0 port 0 value (0x0000).'),\n",
       "        (0, 0, 2, 1583329436235523, 20, 1, 0, 0, 0, [0, 0, 0, 0, 0, 0, 0, 0], b'ttl'),\n",
       "        (0, 0, 2, 1583329436441554, 20, 0, 0, 0, 0, [0, 0, 0, 0, 0, 0, 0, 0], b'TTL Input on AcqSystem1_0 board 0 port 0 value (0x0000).'),\n",
       "        (0, 0, 2, 1583329436452179, 20, 1, 0, 0, 0, [0, 0, 0, 0, 0, 0, 0, 0], b'ttl'),\n",
       "        (0, 0, 2, 1583329436952179, 20, 0, 0, 0, 0, [0, 0, 0, 0, 0, 0, 0, 0], b'TTL Input on AcqSystem1_0 board 0 port 0 value (0x0000).'),\n",
       "        (0, 0, 2, 1583329455868484, 20, 1, 0, 0, 0, [0, 0, 0, 0, 0, 0, 0, 0], b'ttl'),\n",
       "        (0, 0, 2, 1583329456368484, 20, 0, 0, 0, 0, [0, 0, 0, 0, 0, 0, 0, 0], b'TTL Input on AcqSystem1_0 board 0 port 0 value (0x0000).'),\n",
       "        (0, 0, 2, 1583329473518133, 20, 1, 0, 0, 0, [0, 0, 0, 0, 0, 0, 0, 0], b'ttl'),\n",
       "        (0, 0, 2, 1583329474018164, 20, 0, 0, 0, 0, [0, 0, 0, 0, 0, 0, 0, 0], b'TTL Input on AcqSystem1_0 board 0 port 0 value (0x0000).'),\n",
       "        (0, 0, 2, 1583329489517845, 20, 1, 0, 0, 0, [0, 0, 0, 0, 0, 0, 0, 0], b'ttl'),\n",
       "        (0, 0, 2, 1583329490017845, 20, 0, 0, 0, 0, [0, 0, 0, 0, 0, 0, 0, 0], b'TTL Input on AcqSystem1_0 board 0 port 0 value (0x0000).'),\n",
       "        (0, 0, 2, 1583329506550870, 20, 1, 0, 0, 0, [0, 0, 0, 0, 0, 0, 0, 0], b'ttl'),\n",
       "        (0, 0, 2, 1583329507050870, 20, 0, 0, 0, 0, [0, 0, 0, 0, 0, 0, 0, 0], b'TTL Input on AcqSystem1_0 board 0 port 0 value (0x0000).'),\n",
       "        (0, 0, 2, 1583329522883894, 20, 1, 0, 0, 0, [0, 0, 0, 0, 0, 0, 0, 0], b'ttl'),\n",
       "        (0, 0, 2, 1583329523383894, 20, 0, 0, 0, 0, [0, 0, 0, 0, 0, 0, 0, 0], b'TTL Input on AcqSystem1_0 board 0 port 0 value (0x0000).'),\n",
       "        (0, 0, 2, 1583329590849336, 20, 1, 0, 0, 0, [0, 0, 0, 0, 0, 0, 0, 0], b'ttl'),\n",
       "        (0, 0, 2, 1583329591349336, 20, 0, 0, 0, 0, [0, 0, 0, 0, 0, 0, 0, 0], b'TTL Input on AcqSystem1_0 board 0 port 0 value (0x0000).'),\n",
       "        (0, 0, 2, 1583329615832201, 20, 1, 0, 0, 0, [0, 0, 0, 0, 0, 0, 0, 0], b'ttl'),\n",
       "        (0, 0, 2, 1583329616332201, 20, 0, 0, 0, 0, [0, 0, 0, 0, 0, 0, 0, 0], b'TTL Input on AcqSystem1_0 board 0 port 0 value (0x0000).'),\n",
       "        (0, 0, 2, 1583329632331913, 20, 1, 0, 0, 0, [0, 0, 0, 0, 0, 0, 0, 0], b'ttl'),\n",
       "        (0, 0, 2, 1583329632831913, 20, 0, 0, 0, 0, [0, 0, 0, 0, 0, 0, 0, 0], b'TTL Input on AcqSystem1_0 board 0 port 0 value (0x0000).'),\n",
       "        (0, 0, 2, 1583329646781626, 20, 1, 0, 0, 0, [0, 0, 0, 0, 0, 0, 0, 0], b'ttl'),\n",
       "        (0, 0, 2, 1583329647281657, 20, 0, 0, 0, 0, [0, 0, 0, 0, 0, 0, 0, 0], b'TTL Input on AcqSystem1_0 board 0 port 0 value (0x0000).'),\n",
       "        (0, 0, 2, 1583329663231338, 20, 1, 0, 0, 0, [0, 0, 0, 0, 0, 0, 0, 0], b'ttl'),\n",
       "        (0, 0, 2, 1583329663731338, 20, 0, 0, 0, 0, [0, 0, 0, 0, 0, 0, 0, 0], b'TTL Input on AcqSystem1_0 board 0 port 0 value (0x0000).'),\n",
       "        (0, 0, 2, 1583329723646908, 20, 1, 0, 0, 0, [0, 0, 0, 0, 0, 0, 0, 0], b'ttl'),\n",
       "        (0, 0, 2, 1583329724146907, 20, 0, 0, 0, 0, [0, 0, 0, 0, 0, 0, 0, 0], b'TTL Input on AcqSystem1_0 board 0 port 0 value (0x0000).'),\n",
       "        (0, 0, 2, 1583329744596493, 20, 1, 0, 0, 0, [0, 0, 0, 0, 0, 0, 0, 0], b'ttl'),\n",
       "        (0, 0, 2, 1583329745096524, 20, 0, 0, 0, 0, [0, 0, 0, 0, 0, 0, 0, 0], b'TTL Input on AcqSystem1_0 board 0 port 0 value (0x0000).'),\n",
       "        (0, 0, 2, 1583329758596237, 20, 1, 0, 0, 0, [0, 0, 0, 0, 0, 0, 0, 0], b'ttl'),\n",
       "        (0, 0, 2, 1583329759096268, 20, 0, 0, 0, 0, [0, 0, 0, 0, 0, 0, 0, 0], b'TTL Input on AcqSystem1_0 board 0 port 0 value (0x0000).'),\n",
       "        (0, 0, 2, 1583329775895918, 20, 1, 0, 0, 0, [0, 0, 0, 0, 0, 0, 0, 0], b'ttl'),\n",
       "        (0, 0, 2, 1583329776395949, 20, 0, 0, 0, 0, [0, 0, 0, 0, 0, 0, 0, 0], b'TTL Input on AcqSystem1_0 board 0 port 0 value (0x0000).'),\n",
       "        (0, 0, 2, 1583329792028974, 20, 1, 0, 0, 0, [0, 0, 0, 0, 0, 0, 0, 0], b'ttl'),\n",
       "        (0, 0, 2, 1583329792528974, 20, 0, 0, 0, 0, [0, 0, 0, 0, 0, 0, 0, 0], b'TTL Input on AcqSystem1_0 board 0 port 0 value (0x0000).'),\n",
       "        (0, 0, 2, 1583329859575447, 19, 0, 0, 0, 0, [0, 0, 0, 0, 0, 0, 0, 0], b'Stopping Recording'),\n",
       "        (0, 0, 2, 1583329881985993, 19, 0, 0, 0, 0, [0, 0, 0, 0, 0, 0, 0, 0], b'Starting Recording'),\n",
       "        (0, 0, 2, 1583329904467859, 20, 1, 0, 0, 0, [0, 0, 0, 0, 0, 0, 0, 0], b'ttl'),\n",
       "        (0, 0, 2, 1583329904677140, 20, 0, 0, 0, 0, [0, 0, 0, 0, 0, 0, 0, 0], b'TTL Input on AcqSystem1_0 board 0 port 0 value (0x0000).'),\n",
       "        (0, 0, 2, 1583329904684547, 20, 1, 0, 0, 0, [0, 0, 0, 0, 0, 0, 0, 0], b'ttl'),\n",
       "        (0, 0, 2, 1583329905184546, 20, 0, 0, 0, 0, [0, 0, 0, 0, 0, 0, 0, 0], b'TTL Input on AcqSystem1_0 board 0 port 0 value (0x0000).'),\n",
       "        (0, 0, 2, 1583329957716869, 20, 1, 0, 0, 0, [0, 0, 0, 0, 0, 0, 0, 0], b'ttl'),\n",
       "        (0, 0, 2, 1583329958216869, 20, 0, 0, 0, 0, [0, 0, 0, 0, 0, 0, 0, 0], b'TTL Input on AcqSystem1_0 board 0 port 0 value (0x0000).'),\n",
       "        (0, 0, 2, 1583329973249925, 20, 1, 0, 0, 0, [0, 0, 0, 0, 0, 0, 0, 0], b'ttl'),\n",
       "        (0, 0, 2, 1583329973749925, 20, 0, 0, 0, 0, [0, 0, 0, 0, 0, 0, 0, 0], b'TTL Input on AcqSystem1_0 board 0 port 0 value (0x0000).'),\n",
       "        (0, 0, 2, 1583329987366326, 20, 1, 0, 0, 0, [0, 0, 0, 0, 0, 0, 0, 0], b'ttl'),\n",
       "        (0, 0, 2, 1583329987866326, 20, 0, 0, 0, 0, [0, 0, 0, 0, 0, 0, 0, 0], b'TTL Input on AcqSystem1_0 board 0 port 0 value (0x0000).'),\n",
       "        (0, 0, 2, 1583330006415975, 20, 1, 0, 0, 0, [0, 0, 0, 0, 0, 0, 0, 0], b'ttl'),\n",
       "        (0, 0, 2, 1583330006915974, 20, 0, 0, 0, 0, [0, 0, 0, 0, 0, 0, 0, 0], b'TTL Input on AcqSystem1_0 board 0 port 0 value (0x0000).'),\n",
       "        (0, 0, 2, 1583330026015592, 20, 1, 0, 0, 0, [0, 0, 0, 0, 0, 0, 0, 0], b'ttl'),\n",
       "        (0, 0, 2, 1583330026515623, 20, 0, 0, 0, 0, [0, 0, 0, 0, 0, 0, 0, 0], b'TTL Input on AcqSystem1_0 board 0 port 0 value (0x0000).'),\n",
       "        (0, 0, 2, 1583330058215016, 20, 1, 0, 0, 0, [0, 0, 0, 0, 0, 0, 0, 0], b'ttl'),\n",
       "        (0, 0, 2, 1583330058715016, 20, 0, 0, 0, 0, [0, 0, 0, 0, 0, 0, 0, 0], b'TTL Input on AcqSystem1_0 board 0 port 0 value (0x0000).'),\n",
       "        (0, 0, 2, 1583330078564633, 20, 1, 0, 0, 0, [0, 0, 0, 0, 0, 0, 0, 0], b'ttl'),\n",
       "        (0, 0, 2, 1583330079064633, 20, 0, 0, 0, 0, [0, 0, 0, 0, 0, 0, 0, 0], b'TTL Input on AcqSystem1_0 board 0 port 0 value (0x0000).'),\n",
       "        (0, 0, 2, 1583330093464346, 20, 1, 0, 0, 0, [0, 0, 0, 0, 0, 0, 0, 0], b'ttl'),\n",
       "        (0, 0, 2, 1583330093964377, 20, 0, 0, 0, 0, [0, 0, 0, 0, 0, 0, 0, 0], b'TTL Input on AcqSystem1_0 board 0 port 0 value (0x0000).'),\n",
       "        (0, 0, 2, 1583330109180746, 20, 1, 0, 0, 0, [0, 0, 0, 0, 0, 0, 0, 0], b'ttl'),\n",
       "        (0, 0, 2, 1583330109680746, 20, 0, 0, 0, 0, [0, 0, 0, 0, 0, 0, 0, 0], b'TTL Input on AcqSystem1_0 board 0 port 0 value (0x0000).'),\n",
       "        (0, 0, 2, 1583330125263771, 20, 1, 0, 0, 0, [0, 0, 0, 0, 0, 0, 0, 0], b'ttl'),\n",
       "        (0, 0, 2, 1583330125763770, 20, 0, 0, 0, 0, [0, 0, 0, 0, 0, 0, 0, 0], b'TTL Input on AcqSystem1_0 board 0 port 0 value (0x0000).'),\n",
       "        (0, 0, 2, 1583330155846540, 20, 1, 0, 0, 0, [0, 0, 0, 0, 0, 0, 0, 0], b'ttl'),\n",
       "        (0, 0, 2, 1583330156346539, 20, 0, 0, 0, 0, [0, 0, 0, 0, 0, 0, 0, 0], b'TTL Input on AcqSystem1_0 board 0 port 0 value (0x0000).'),\n",
       "        (0, 0, 2, 1583330179779436, 20, 1, 0, 0, 0, [0, 0, 0, 0, 0, 0, 0, 0], b'ttl'),\n",
       "        (0, 0, 2, 1583330180279436, 20, 0, 0, 0, 0, [0, 0, 0, 0, 0, 0, 0, 0], b'TTL Input on AcqSystem1_0 board 0 port 0 value (0x0000).'),\n",
       "        (0, 0, 2, 1583330197562460, 20, 1, 0, 0, 0, [0, 0, 0, 0, 0, 0, 0, 0], b'ttl'),\n",
       "        (0, 0, 2, 1583330198062460, 20, 0, 0, 0, 0, [0, 0, 0, 0, 0, 0, 0, 0], b'TTL Input on AcqSystem1_0 board 0 port 0 value (0x0000).'),\n",
       "        (0, 0, 2, 1583330217995421, 20, 1, 0, 0, 0, [0, 0, 0, 0, 0, 0, 0, 0], b'ttl'),\n",
       "        (0, 0, 2, 1583330218495421, 20, 0, 0, 0, 0, [0, 0, 0, 0, 0, 0, 0, 0], b'TTL Input on AcqSystem1_0 board 0 port 0 value (0x0000).'),\n",
       "        (0, 0, 2, 1583330234961758, 20, 1, 0, 0, 0, [0, 0, 0, 0, 0, 0, 0, 0], b'ttl'),\n",
       "        (0, 0, 2, 1583330235461758, 20, 0, 0, 0, 0, [0, 0, 0, 0, 0, 0, 0, 0], b'TTL Input on AcqSystem1_0 board 0 port 0 value (0x0000).'),\n",
       "        (0, 0, 2, 1583330286491800, 19, 0, 0, 0, 0, [0, 0, 0, 0, 0, 0, 0, 0], b'Stopping Recording'),\n",
       "        (0, 0, 2, 1583330915149400, 19, 0, 0, 0, 0, [0, 0, 0, 0, 0, 0, 0, 0], b'Starting Recording')],\n",
       "       dtype=[('stx', '<i2'), ('pkt_id', '<i2'), ('pkt_data_size', '<i2'), ('TimeStamp', '<u8'), ('event_id', '<i2'), ('ttl', '<i2'), ('crc', '<i2'), ('dummy1', '<i2'), ('dummy2', '<i2'), ('Extra', '<i4', (8,)), ('EventString', 'S128')]),\n",
       " 'events': array([(0, 1583328945020845, 19, 0, [0, 0, 0, 0, 0, 0, 0, 0], b'Starting Recording'),\n",
       "        (0, 1583329028786780, 19, 0, [0, 0, 0, 0, 0, 0, 0, 0], b'Stopping Recording'),\n",
       "        (0, 1583329098909783, 19, 0, [0, 0, 0, 0, 0, 0, 0, 0], b'Starting Recording'),\n",
       "        (0, 1583329111041716, 20, 1, [0, 0, 0, 0, 0, 0, 0, 0], b'ttl'),\n",
       "        (0, 1583329111247935, 20, 0, [0, 0, 0, 0, 0, 0, 0, 0], b'TTL Input on AcqSystem1_0 board 0 port 0 value (0x0000).'),\n",
       "        (0, 1583329111258372, 20, 1, [0, 0, 0, 0, 0, 0, 0, 0], b'ttl'),\n",
       "        (0, 1583329111758372, 20, 0, [0, 0, 0, 0, 0, 0, 0, 0], b'TTL Input on AcqSystem1_0 board 0 port 0 value (0x0000).'),\n",
       "        (0, 1583329163090664, 20, 1, [0, 0, 0, 0, 0, 0, 0, 0], b'ttl'),\n",
       "        (0, 1583329163590664, 20, 0, [0, 0, 0, 0, 0, 0, 0, 0], b'TTL Input on AcqSystem1_0 board 0 port 0 value (0x0000).'),\n",
       "        (0, 1583329201939898, 20, 1, [0, 0, 0, 0, 0, 0, 0, 0], b'ttl'),\n",
       "        (0, 1583329202439898, 20, 0, [0, 0, 0, 0, 0, 0, 0, 0], b'TTL Input on AcqSystem1_0 board 0 port 0 value (0x0000).'),\n",
       "        (0, 1583329233089292, 20, 1, [0, 0, 0, 0, 0, 0, 0, 0], b'ttl'),\n",
       "        (0, 1583329233589323, 20, 0, [0, 0, 0, 0, 0, 0, 0, 0], b'TTL Input on AcqSystem1_0 board 0 port 0 value (0x0000).'),\n",
       "        (0, 1583329256138877, 20, 1, [0, 0, 0, 0, 0, 0, 0, 0], b'ttl'),\n",
       "        (0, 1583329256638876, 20, 0, [0, 0, 0, 0, 0, 0, 0, 0], b'TTL Input on AcqSystem1_0 board 0 port 0 value (0x0000).'),\n",
       "        (0, 1583329276021837, 20, 1, [0, 0, 0, 0, 0, 0, 0, 0], b'ttl'),\n",
       "        (0, 1583329276521837, 20, 0, [0, 0, 0, 0, 0, 0, 0, 0], b'TTL Input on AcqSystem1_0 board 0 port 0 value (0x0000).'),\n",
       "        (0, 1583329301404702, 20, 1, [0, 0, 0, 0, 0, 0, 0, 0], b'ttl'),\n",
       "        (0, 1583329301904702, 20, 0, [0, 0, 0, 0, 0, 0, 0, 0], b'TTL Input on AcqSystem1_0 board 0 port 0 value (0x0000).'),\n",
       "        (0, 1583329320137695, 20, 1, [0, 0, 0, 0, 0, 0, 0, 0], b'ttl'),\n",
       "        (0, 1583329320637694, 20, 0, [0, 0, 0, 0, 0, 0, 0, 0], b'TTL Input on AcqSystem1_0 board 0 port 0 value (0x0000).'),\n",
       "        (0, 1583329340903967, 20, 1, [0, 0, 0, 0, 0, 0, 0, 0], b'ttl'),\n",
       "        (0, 1583329341403967, 20, 0, [0, 0, 0, 0, 0, 0, 0, 0], b'TTL Input on AcqSystem1_0 board 0 port 0 value (0x0000).'),\n",
       "        (0, 1583329436235523, 20, 1, [0, 0, 0, 0, 0, 0, 0, 0], b'ttl'),\n",
       "        (0, 1583329436441554, 20, 0, [0, 0, 0, 0, 0, 0, 0, 0], b'TTL Input on AcqSystem1_0 board 0 port 0 value (0x0000).'),\n",
       "        (0, 1583329436452179, 20, 1, [0, 0, 0, 0, 0, 0, 0, 0], b'ttl'),\n",
       "        (0, 1583329436952179, 20, 0, [0, 0, 0, 0, 0, 0, 0, 0], b'TTL Input on AcqSystem1_0 board 0 port 0 value (0x0000).'),\n",
       "        (0, 1583329455868484, 20, 1, [0, 0, 0, 0, 0, 0, 0, 0], b'ttl'),\n",
       "        (0, 1583329456368484, 20, 0, [0, 0, 0, 0, 0, 0, 0, 0], b'TTL Input on AcqSystem1_0 board 0 port 0 value (0x0000).'),\n",
       "        (0, 1583329473518133, 20, 1, [0, 0, 0, 0, 0, 0, 0, 0], b'ttl'),\n",
       "        (0, 1583329474018164, 20, 0, [0, 0, 0, 0, 0, 0, 0, 0], b'TTL Input on AcqSystem1_0 board 0 port 0 value (0x0000).'),\n",
       "        (0, 1583329489517845, 20, 1, [0, 0, 0, 0, 0, 0, 0, 0], b'ttl'),\n",
       "        (0, 1583329490017845, 20, 0, [0, 0, 0, 0, 0, 0, 0, 0], b'TTL Input on AcqSystem1_0 board 0 port 0 value (0x0000).'),\n",
       "        (0, 1583329506550870, 20, 1, [0, 0, 0, 0, 0, 0, 0, 0], b'ttl'),\n",
       "        (0, 1583329507050870, 20, 0, [0, 0, 0, 0, 0, 0, 0, 0], b'TTL Input on AcqSystem1_0 board 0 port 0 value (0x0000).'),\n",
       "        (0, 1583329522883894, 20, 1, [0, 0, 0, 0, 0, 0, 0, 0], b'ttl'),\n",
       "        (0, 1583329523383894, 20, 0, [0, 0, 0, 0, 0, 0, 0, 0], b'TTL Input on AcqSystem1_0 board 0 port 0 value (0x0000).'),\n",
       "        (0, 1583329590849336, 20, 1, [0, 0, 0, 0, 0, 0, 0, 0], b'ttl'),\n",
       "        (0, 1583329591349336, 20, 0, [0, 0, 0, 0, 0, 0, 0, 0], b'TTL Input on AcqSystem1_0 board 0 port 0 value (0x0000).'),\n",
       "        (0, 1583329615832201, 20, 1, [0, 0, 0, 0, 0, 0, 0, 0], b'ttl'),\n",
       "        (0, 1583329616332201, 20, 0, [0, 0, 0, 0, 0, 0, 0, 0], b'TTL Input on AcqSystem1_0 board 0 port 0 value (0x0000).'),\n",
       "        (0, 1583329632331913, 20, 1, [0, 0, 0, 0, 0, 0, 0, 0], b'ttl'),\n",
       "        (0, 1583329632831913, 20, 0, [0, 0, 0, 0, 0, 0, 0, 0], b'TTL Input on AcqSystem1_0 board 0 port 0 value (0x0000).'),\n",
       "        (0, 1583329646781626, 20, 1, [0, 0, 0, 0, 0, 0, 0, 0], b'ttl'),\n",
       "        (0, 1583329647281657, 20, 0, [0, 0, 0, 0, 0, 0, 0, 0], b'TTL Input on AcqSystem1_0 board 0 port 0 value (0x0000).'),\n",
       "        (0, 1583329663231338, 20, 1, [0, 0, 0, 0, 0, 0, 0, 0], b'ttl'),\n",
       "        (0, 1583329663731338, 20, 0, [0, 0, 0, 0, 0, 0, 0, 0], b'TTL Input on AcqSystem1_0 board 0 port 0 value (0x0000).'),\n",
       "        (0, 1583329723646908, 20, 1, [0, 0, 0, 0, 0, 0, 0, 0], b'ttl'),\n",
       "        (0, 1583329724146907, 20, 0, [0, 0, 0, 0, 0, 0, 0, 0], b'TTL Input on AcqSystem1_0 board 0 port 0 value (0x0000).'),\n",
       "        (0, 1583329744596493, 20, 1, [0, 0, 0, 0, 0, 0, 0, 0], b'ttl'),\n",
       "        (0, 1583329745096524, 20, 0, [0, 0, 0, 0, 0, 0, 0, 0], b'TTL Input on AcqSystem1_0 board 0 port 0 value (0x0000).'),\n",
       "        (0, 1583329758596237, 20, 1, [0, 0, 0, 0, 0, 0, 0, 0], b'ttl'),\n",
       "        (0, 1583329759096268, 20, 0, [0, 0, 0, 0, 0, 0, 0, 0], b'TTL Input on AcqSystem1_0 board 0 port 0 value (0x0000).'),\n",
       "        (0, 1583329775895918, 20, 1, [0, 0, 0, 0, 0, 0, 0, 0], b'ttl'),\n",
       "        (0, 1583329776395949, 20, 0, [0, 0, 0, 0, 0, 0, 0, 0], b'TTL Input on AcqSystem1_0 board 0 port 0 value (0x0000).'),\n",
       "        (0, 1583329792028974, 20, 1, [0, 0, 0, 0, 0, 0, 0, 0], b'ttl'),\n",
       "        (0, 1583329792528974, 20, 0, [0, 0, 0, 0, 0, 0, 0, 0], b'TTL Input on AcqSystem1_0 board 0 port 0 value (0x0000).'),\n",
       "        (0, 1583329859575447, 19, 0, [0, 0, 0, 0, 0, 0, 0, 0], b'Stopping Recording'),\n",
       "        (0, 1583329881985993, 19, 0, [0, 0, 0, 0, 0, 0, 0, 0], b'Starting Recording'),\n",
       "        (0, 1583329904467859, 20, 1, [0, 0, 0, 0, 0, 0, 0, 0], b'ttl'),\n",
       "        (0, 1583329904677140, 20, 0, [0, 0, 0, 0, 0, 0, 0, 0], b'TTL Input on AcqSystem1_0 board 0 port 0 value (0x0000).'),\n",
       "        (0, 1583329904684547, 20, 1, [0, 0, 0, 0, 0, 0, 0, 0], b'ttl'),\n",
       "        (0, 1583329905184546, 20, 0, [0, 0, 0, 0, 0, 0, 0, 0], b'TTL Input on AcqSystem1_0 board 0 port 0 value (0x0000).'),\n",
       "        (0, 1583329957716869, 20, 1, [0, 0, 0, 0, 0, 0, 0, 0], b'ttl'),\n",
       "        (0, 1583329958216869, 20, 0, [0, 0, 0, 0, 0, 0, 0, 0], b'TTL Input on AcqSystem1_0 board 0 port 0 value (0x0000).'),\n",
       "        (0, 1583329973249925, 20, 1, [0, 0, 0, 0, 0, 0, 0, 0], b'ttl'),\n",
       "        (0, 1583329973749925, 20, 0, [0, 0, 0, 0, 0, 0, 0, 0], b'TTL Input on AcqSystem1_0 board 0 port 0 value (0x0000).'),\n",
       "        (0, 1583329987366326, 20, 1, [0, 0, 0, 0, 0, 0, 0, 0], b'ttl'),\n",
       "        (0, 1583329987866326, 20, 0, [0, 0, 0, 0, 0, 0, 0, 0], b'TTL Input on AcqSystem1_0 board 0 port 0 value (0x0000).'),\n",
       "        (0, 1583330006415975, 20, 1, [0, 0, 0, 0, 0, 0, 0, 0], b'ttl'),\n",
       "        (0, 1583330006915974, 20, 0, [0, 0, 0, 0, 0, 0, 0, 0], b'TTL Input on AcqSystem1_0 board 0 port 0 value (0x0000).'),\n",
       "        (0, 1583330026015592, 20, 1, [0, 0, 0, 0, 0, 0, 0, 0], b'ttl'),\n",
       "        (0, 1583330026515623, 20, 0, [0, 0, 0, 0, 0, 0, 0, 0], b'TTL Input on AcqSystem1_0 board 0 port 0 value (0x0000).'),\n",
       "        (0, 1583330058215016, 20, 1, [0, 0, 0, 0, 0, 0, 0, 0], b'ttl'),\n",
       "        (0, 1583330058715016, 20, 0, [0, 0, 0, 0, 0, 0, 0, 0], b'TTL Input on AcqSystem1_0 board 0 port 0 value (0x0000).'),\n",
       "        (0, 1583330078564633, 20, 1, [0, 0, 0, 0, 0, 0, 0, 0], b'ttl'),\n",
       "        (0, 1583330079064633, 20, 0, [0, 0, 0, 0, 0, 0, 0, 0], b'TTL Input on AcqSystem1_0 board 0 port 0 value (0x0000).'),\n",
       "        (0, 1583330093464346, 20, 1, [0, 0, 0, 0, 0, 0, 0, 0], b'ttl'),\n",
       "        (0, 1583330093964377, 20, 0, [0, 0, 0, 0, 0, 0, 0, 0], b'TTL Input on AcqSystem1_0 board 0 port 0 value (0x0000).'),\n",
       "        (0, 1583330109180746, 20, 1, [0, 0, 0, 0, 0, 0, 0, 0], b'ttl'),\n",
       "        (0, 1583330109680746, 20, 0, [0, 0, 0, 0, 0, 0, 0, 0], b'TTL Input on AcqSystem1_0 board 0 port 0 value (0x0000).'),\n",
       "        (0, 1583330125263771, 20, 1, [0, 0, 0, 0, 0, 0, 0, 0], b'ttl'),\n",
       "        (0, 1583330125763770, 20, 0, [0, 0, 0, 0, 0, 0, 0, 0], b'TTL Input on AcqSystem1_0 board 0 port 0 value (0x0000).'),\n",
       "        (0, 1583330155846540, 20, 1, [0, 0, 0, 0, 0, 0, 0, 0], b'ttl'),\n",
       "        (0, 1583330156346539, 20, 0, [0, 0, 0, 0, 0, 0, 0, 0], b'TTL Input on AcqSystem1_0 board 0 port 0 value (0x0000).'),\n",
       "        (0, 1583330179779436, 20, 1, [0, 0, 0, 0, 0, 0, 0, 0], b'ttl'),\n",
       "        (0, 1583330180279436, 20, 0, [0, 0, 0, 0, 0, 0, 0, 0], b'TTL Input on AcqSystem1_0 board 0 port 0 value (0x0000).'),\n",
       "        (0, 1583330197562460, 20, 1, [0, 0, 0, 0, 0, 0, 0, 0], b'ttl'),\n",
       "        (0, 1583330198062460, 20, 0, [0, 0, 0, 0, 0, 0, 0, 0], b'TTL Input on AcqSystem1_0 board 0 port 0 value (0x0000).'),\n",
       "        (0, 1583330217995421, 20, 1, [0, 0, 0, 0, 0, 0, 0, 0], b'ttl'),\n",
       "        (0, 1583330218495421, 20, 0, [0, 0, 0, 0, 0, 0, 0, 0], b'TTL Input on AcqSystem1_0 board 0 port 0 value (0x0000).'),\n",
       "        (0, 1583330234961758, 20, 1, [0, 0, 0, 0, 0, 0, 0, 0], b'ttl'),\n",
       "        (0, 1583330235461758, 20, 0, [0, 0, 0, 0, 0, 0, 0, 0], b'TTL Input on AcqSystem1_0 board 0 port 0 value (0x0000).'),\n",
       "        (0, 1583330286491800, 19, 0, [0, 0, 0, 0, 0, 0, 0, 0], b'Stopping Recording'),\n",
       "        (0, 1583330915149400, 19, 0, [0, 0, 0, 0, 0, 0, 0, 0], b'Starting Recording')],\n",
       "       dtype={'names':['pkt_id','TimeStamp','event_id','ttl','Extra','EventString'], 'formats':['<i2','<u8','<i2','<i2',('<i4', (8,)),'S128'], 'offsets':[2,6,14,16,24,56], 'itemsize':184})}"
      ]
     },
     "execution_count": 56,
     "metadata": {},
     "output_type": "execute_result"
    }
   ],
   "source": [
    "nlx.load_nev(os.path.join(seeg_root,'raw','Events_0007.nev'))"
   ]
  },
  {
   "cell_type": "code",
   "execution_count": 19,
   "metadata": {},
   "outputs": [
    {
     "name": "stderr",
     "output_type": "stream",
     "text": [
      "/home/elijahc/dev/emu/emu/neuralynx_io.py:79: UserWarning: Unable to parse original file path from Neuralynx header: -FileType Event\n",
      "  warnings.warn('Unable to parse original file path from Neuralynx header: ' + hdr_lines[1])\n",
      "/home/elijahc/dev/emu/emu/neuralynx_io.py:131: UserWarning: Unable to parse time string from Neuralynx header: -FileVersion 3.2\n",
      "  warnings.warn('Unable to parse time string from Neuralynx header: ' + time_string)\n",
      "/home/elijahc/dev/emu/emu/neuralynx_io.py:131: UserWarning: Unable to parse time string from Neuralynx header: -FileUUID d11594df-8b47-4683-b9fa-6f4f452b31ce\n",
      "  warnings.warn('Unable to parse time string from Neuralynx header: ' + time_string)\n",
      "/home/elijahc/dev/emu/emu/neuralynx_io.py:93: UserWarning: Unable to parse parameter line from Neuralynx header: -TimeCreated 2020/03/04 13:35:45\n",
      "  warnings.warn('Unable to parse parameter line from Neuralynx header: ' + line)\n",
      "/home/elijahc/dev/emu/emu/neuralynx_io.py:93: UserWarning: Unable to parse parameter line from Neuralynx header: -TimeClosed 2020/03/06 12:30:46\n",
      "  warnings.warn('Unable to parse parameter line from Neuralynx header: ' + line)\n",
      "/home/elijahc/dev/emu/emu/neuralynx_io.py:93: UserWarning: Unable to parse parameter line from Neuralynx header: -ApplicationName Pegasus \"2.1.2 \"\n",
      "  warnings.warn('Unable to parse parameter line from Neuralynx header: ' + line)\n",
      "/home/elijahc/dev/emu/emu/neuralynx_io.py:93: UserWarning: Unable to parse parameter line from Neuralynx header: -AcquisitionSystem AcqSystem1 ATLAS\n",
      "  warnings.warn('Unable to parse parameter line from Neuralynx header: ' + line)\n"
     ]
    }
   ],
   "source": [
    "events = load_all_nev(os.path.join(seeg_root,'raw'))\n",
    "df = df_from_raw(os.path.join(seeg_root,'raw'))\n",
    "\n",
    "# Extract only events labeled ttl\n",
    "# df = df[df.EventString=='ttl']\n",
    "\n",
    "# Add ttl labels\n",
    "# df = label_blockstart(df)"
   ]
  },
  {
   "cell_type": "code",
   "execution_count": 59,
   "metadata": {},
   "outputs": [],
   "source": [
    "ts = pd.to_datetime(df.index.values,unit='us')[0]"
   ]
  },
  {
   "cell_type": "code",
   "execution_count": 70,
   "metadata": {},
   "outputs": [
    {
     "data": {
      "text/plain": [
       "datetime.datetime(2020, 3, 4, 13, 35, 45, 20845)"
      ]
     },
     "execution_count": 70,
     "metadata": {},
     "output_type": "execute_result"
    }
   ],
   "source": [
    "df.time.iloc[0].to_pydatetime()"
   ]
  },
  {
   "cell_type": "code",
   "execution_count": 53,
   "metadata": {},
   "outputs": [],
   "source": [
    "start_time = datetime.datetime.fromtimestamp(df.index.values.min()/1000/1000)"
   ]
  },
  {
   "cell_type": "code",
   "execution_count": 28,
   "metadata": {},
   "outputs": [],
   "source": [
    "# start_time = datetime.datetime(2020,3,4,13,38,19)"
   ]
  },
  {
   "cell_type": "code",
   "execution_count": 55,
   "metadata": {},
   "outputs": [
    {
     "name": "stderr",
     "output_type": "stream",
     "text": [
      "/usr/local/lib/python3.6/dist-packages/pynwb/file.py:691: UserWarning: Date is missing timezone information. Updating to local timezone.\n",
      "  warn(\"Date is missing timezone information. Updating to local timezone.\")\n"
     ]
    },
    {
     "data": {
      "text/plain": [
       "root pynwb.file.NWBFile at 0x140346414605480\n",
       "Fields:\n",
       "  file_create_date: [datetime.datetime(2020, 3, 11, 20, 22, 31, 172355, tzinfo=tzlocal())]\n",
       "  identifier: 0007\n",
       "  session_description: Post-Op Day 2\n",
       "  session_start_time: 2020-03-04 06:35:45.020845-07:00\n",
       "  timestamps_reference_time: 2020-03-04 06:35:45.020845-07:00"
      ]
     },
     "execution_count": 55,
     "metadata": {},
     "output_type": "execute_result"
    }
   ],
   "source": [
    "NWBFile(session_description='Post-Op Day 2', identifier='0007',session_start_time=start_time)"
   ]
  },
  {
   "cell_type": "code",
   "execution_count": 11,
   "metadata": {},
   "outputs": [],
   "source": [
    "block_ttls = df[df.label=='block_start']\n"
   ]
  },
  {
   "cell_type": "code",
   "execution_count": 13,
   "metadata": {},
   "outputs": [],
   "source": [
    "annos = AnnotationSeries(name='block_start_ttl', data=block_ttls.label.values, timestamps=block_ttls.index.values/1000/1000)"
   ]
  },
  {
   "cell_type": "code",
   "execution_count": 14,
   "metadata": {},
   "outputs": [
    {
     "data": {
      "text/plain": [
       "block_start_ttl pynwb.misc.AnnotationSeries at 0x140346422209280\n",
       "Fields:\n",
       "  comments: no comments\n",
       "  conversion: 1.0\n",
       "  data: ['block_start' 'block_start' 'block_start' 'block_start' 'block_start'\n",
       " 'block_start']\n",
       "  description: no description\n",
       "  interval: 1\n",
       "  resolution: -1.0\n",
       "  timestamps: [1.58332911e+09 1.58332911e+09 1.58332944e+09 1.58332944e+09\n",
       " 1.58332990e+09 1.58332990e+09]\n",
       "  timestamps_unit: seconds\n",
       "  unit: n/a"
      ]
     },
     "execution_count": 14,
     "metadata": {},
     "output_type": "execute_result"
    }
   ],
   "source": [
    "annos"
   ]
  },
  {
   "cell_type": "code",
   "execution_count": null,
   "metadata": {},
   "outputs": [],
   "source": [
    "lfp = nlx.load_ncs(ncs_path)"
   ]
  },
  {
   "cell_type": "code",
   "execution_count": null,
   "metadata": {},
   "outputs": [],
   "source": [
    "lfp['time'].shape"
   ]
  },
  {
   "cell_type": "code",
   "execution_count": null,
   "metadata": {},
   "outputs": [],
   "source": [
    "lfp['data'].shape"
   ]
  },
  {
   "cell_type": "code",
   "execution_count": null,
   "metadata": {},
   "outputs": [],
   "source": [
    "lfp_df = pd.DataFrame.from_records({'time':lfp['time'],'data':lfp['data']},index='time')"
   ]
  },
  {
   "cell_type": "code",
   "execution_count": null,
   "metadata": {},
   "outputs": [],
   "source": [
    "lfp.keys()"
   ]
  },
  {
   "cell_type": "code",
   "execution_count": null,
   "metadata": {},
   "outputs": [],
   "source": [
    "lfp_df.iloc[:13*4000].plot()"
   ]
  },
  {
   "cell_type": "code",
   "execution_count": null,
   "metadata": {},
   "outputs": [],
   "source": [
    "lfp.keys()"
   ]
  },
  {
   "cell_type": "code",
   "execution_count": null,
   "metadata": {},
   "outputs": [],
   "source": [
    "paths = load_all_nev(os.path.join(seeg_root,'raw'))\n",
    "paths"
   ]
  },
  {
   "cell_type": "code",
   "execution_count": null,
   "metadata": {},
   "outputs": [],
   "source": [
    "np.nargmax([len(nlx.load_nev(p)['records']) for p in paths])"
   ]
  },
  {
   "cell_type": "code",
   "execution_count": null,
   "metadata": {},
   "outputs": [],
   "source": [
    "# df = pd.DataFrame.from_records(recs)\n",
    "df\n",
    "\n",
    "# events_df = pd.DataFrame.from_records(list(nev['events'][0]),columns=nev['events'].dtype.names)"
   ]
  },
  {
   "cell_type": "code",
   "execution_count": null,
   "metadata": {},
   "outputs": [],
   "source": [
    "recs"
   ]
  },
  {
   "cell_type": "code",
   "execution_count": null,
   "metadata": {},
   "outputs": [],
   "source": []
  }
 ],
 "metadata": {
  "kernelspec": {
   "display_name": "Python 3",
   "language": "python",
   "name": "python3"
  },
  "language_info": {
   "codemirror_mode": {
    "name": "ipython",
    "version": 3
   },
   "file_extension": ".py",
   "mimetype": "text/x-python",
   "name": "python",
   "nbconvert_exporter": "python",
   "pygments_lexer": "ipython3",
   "version": "3.6.8"
  }
 },
 "nbformat": 4,
 "nbformat_minor": 4
}
