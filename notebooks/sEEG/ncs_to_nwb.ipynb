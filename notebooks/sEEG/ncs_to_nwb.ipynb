{
 "cells": [
  {
   "cell_type": "code",
   "execution_count": 1,
   "metadata": {},
   "outputs": [],
   "source": [
    "from datetime import datetime\n",
    "from dateutil.tz import tzlocal\n",
    "from pynwb import NWBFile\n",
    "import numpy as np\n",
    "import scipy.signal as signal\n",
    "import os\n",
    "import emu.neuralynx_io as neuralynx_io\n",
    "from tqdm import tqdm"
   ]
  },
  {
   "cell_type": "code",
   "execution_count": 2,
   "metadata": {},
   "outputs": [
    {
     "data": {
      "text/plain": [
       "['CSC3.ncs',\n",
       " 'CSC3_0001.ncs',\n",
       " 'CSC3_0002.ncs',\n",
       " 'CSC3_0003.ncs',\n",
       " 'CSC3_0004.ncs',\n",
       " 'CSC3_0005.ncs',\n",
       " 'CSC3_0006.ncs',\n",
       " 'CSC3_0007.ncs',\n",
       " 'CSC3_0008.ncs',\n",
       " 'CSC3_0009.ncs',\n",
       " 'CSC3_0010.ncs',\n",
       " 'CSC3_0011.ncs',\n",
       " 'CSC3_0012.ncs']"
      ]
     },
     "execution_count": 2,
     "metadata": {},
     "output_type": "execute_result"
    }
   ],
   "source": [
    "raw_root = os.path.expanduser('~/.emu/pt1/sEEG/raw')\n",
    "files = [f for f in os.listdir(raw_root) if f.startswith('CSC3')]\n",
    "files = sorted(files)\n",
    "files"
   ]
  },
  {
   "cell_type": "code",
   "execution_count": 3,
   "metadata": {},
   "outputs": [],
   "source": [
    "def gen_load_timestamps(fp_list,downsample=4):\n",
    "    for fp in fp_list:\n",
    "        ncs = neuralynx_io.load_ncs(os.path.join(raw_root,fp))\n",
    "        yield signal.decimate(ncs['timestamp'],q=downsample)"
   ]
  },
  {
   "cell_type": "code",
   "execution_count": 4,
   "metadata": {},
   "outputs": [],
   "source": [
    "def gen_load_ncs(fp_list,factor):\n",
    "    for fp in fp_list:\n",
    "        ncs = neuralynx_io.load_ncs(os.path.join(raw_root,fp),load_time=False)\n",
    "        yield signal.decimate(ncs['data'],q=factor)"
   ]
  },
  {
   "cell_type": "code",
   "execution_count": 5,
   "metadata": {},
   "outputs": [],
   "source": [
    "# ncs_timestamp = []\n",
    "# t_iter = gen_load_timestamps(files,downsample=4)\n",
    "# for dec_t in tqdm(t_iter):\n",
    "#     ncs_timestamp.append(dec_t)"
   ]
  },
  {
   "cell_type": "code",
   "execution_count": 6,
   "metadata": {},
   "outputs": [
    {
     "name": "stderr",
     "output_type": "stream",
     "text": [
      "  0%|          | 0/13 [00:00<?, ?it/s]/home/elijahc/projects/emu/notebooks/src/neuralynx_io.py:78: UserWarning: Unable to parse original file path from Neuralynx header: -FileType NCS\n",
      "  warnings.warn('Unable to parse original file path from Neuralynx header: ' + hdr_lines[1])\n",
      "/home/elijahc/projects/emu/notebooks/src/neuralynx_io.py:130: UserWarning: Unable to parse time string from Neuralynx header: -FileVersion 3.4\n",
      "  warnings.warn('Unable to parse time string from Neuralynx header: ' + time_string)\n",
      "/home/elijahc/projects/emu/notebooks/src/neuralynx_io.py:130: UserWarning: Unable to parse time string from Neuralynx header: -FileUUID 10a6888b-fba5-44d8-afad-10453da6460d\n",
      "  warnings.warn('Unable to parse time string from Neuralynx header: ' + time_string)\n",
      "/home/elijahc/projects/emu/notebooks/src/neuralynx_io.py:92: UserWarning: Unable to parse parameter line from Neuralynx header: -ProbeName\n",
      "  warnings.warn('Unable to parse parameter line from Neuralynx header: ' + line)\n",
      "/home/elijahc/projects/emu/notebooks/src/neuralynx_io.py:92: UserWarning: Unable to parse parameter line from Neuralynx header: -TimeCreated 2019/07/30 11:05:26\n",
      "  warnings.warn('Unable to parse parameter line from Neuralynx header: ' + line)\n",
      "/home/elijahc/projects/emu/notebooks/src/neuralynx_io.py:92: UserWarning: Unable to parse parameter line from Neuralynx header: -TimeClosed 2019/07/30 15:27:05\n",
      "  warnings.warn('Unable to parse parameter line from Neuralynx header: ' + line)\n",
      "/home/elijahc/projects/emu/notebooks/src/neuralynx_io.py:92: UserWarning: Unable to parse parameter line from Neuralynx header: -ApplicationName Pegasus \"2.1.2 \"\n",
      "  warnings.warn('Unable to parse parameter line from Neuralynx header: ' + line)\n",
      "/home/elijahc/projects/emu/notebooks/src/neuralynx_io.py:92: UserWarning: Unable to parse parameter line from Neuralynx header: -AcquisitionSystem AcqSystem1 ATLAS\n",
      "  warnings.warn('Unable to parse parameter line from Neuralynx header: ' + line)\n",
      "/home/elijahc/projects/emu/notebooks/src/neuralynx_io.py:92: UserWarning: Unable to parse parameter line from Neuralynx header: -ReferenceChannel \"Source 01 Reference 1\"\n",
      "  warnings.warn('Unable to parse parameter line from Neuralynx header: ' + line)\n",
      "/home/elijahc/projects/emu/notebooks/src/neuralynx_io.py:149: UserWarning: Invalid samples in one or more records\n",
      "  warnings.warn('Invalid samples in one or more records')\n",
      "  8%|▊         | 1/13 [00:04<00:49,  4.08s/it]/home/elijahc/projects/emu/notebooks/src/neuralynx_io.py:130: UserWarning: Unable to parse time string from Neuralynx header: -FileUUID 319e30a7-dd3e-4fd9-8392-f65f08d79019\n",
      "  warnings.warn('Unable to parse time string from Neuralynx header: ' + time_string)\n",
      "/home/elijahc/projects/emu/notebooks/src/neuralynx_io.py:92: UserWarning: Unable to parse parameter line from Neuralynx header: -TimeCreated 2019/07/30 15:25:01\n",
      "  warnings.warn('Unable to parse parameter line from Neuralynx header: ' + line)\n",
      "/home/elijahc/projects/emu/notebooks/src/neuralynx_io.py:92: UserWarning: Unable to parse parameter line from Neuralynx header: -TimeClosed 2019/07/30 19:27:13\n",
      "  warnings.warn('Unable to parse parameter line from Neuralynx header: ' + line)\n",
      " 15%|█▌        | 2/13 [00:08<00:44,  4.04s/it]/home/elijahc/projects/emu/notebooks/src/neuralynx_io.py:130: UserWarning: Unable to parse time string from Neuralynx header: -FileUUID 8f1b848b-2fec-4cb8-96a1-2232d877ddd9\n",
      "  warnings.warn('Unable to parse time string from Neuralynx header: ' + time_string)\n",
      "/home/elijahc/projects/emu/notebooks/src/neuralynx_io.py:92: UserWarning: Unable to parse parameter line from Neuralynx header: -TimeCreated 2019/07/30 19:25:01\n",
      "  warnings.warn('Unable to parse parameter line from Neuralynx header: ' + line)\n",
      "/home/elijahc/projects/emu/notebooks/src/neuralynx_io.py:92: UserWarning: Unable to parse parameter line from Neuralynx header: -TimeClosed 2019/07/30 23:27:23\n",
      "  warnings.warn('Unable to parse parameter line from Neuralynx header: ' + line)\n",
      " 23%|██▎       | 3/13 [00:11<00:40,  4.01s/it]/home/elijahc/projects/emu/notebooks/src/neuralynx_io.py:130: UserWarning: Unable to parse time string from Neuralynx header: -FileUUID ba1a37d8-7c61-4128-9fd4-c3ffd7ae4077\n",
      "  warnings.warn('Unable to parse time string from Neuralynx header: ' + time_string)\n",
      "/home/elijahc/projects/emu/notebooks/src/neuralynx_io.py:92: UserWarning: Unable to parse parameter line from Neuralynx header: -TimeCreated 2019/07/30 23:25:01\n",
      "  warnings.warn('Unable to parse parameter line from Neuralynx header: ' + line)\n",
      "/home/elijahc/projects/emu/notebooks/src/neuralynx_io.py:92: UserWarning: Unable to parse parameter line from Neuralynx header: -TimeClosed 2019/07/31 03:27:04\n",
      "  warnings.warn('Unable to parse parameter line from Neuralynx header: ' + line)\n",
      " 31%|███       | 4/13 [00:15<00:35,  3.99s/it]/home/elijahc/projects/emu/notebooks/src/neuralynx_io.py:130: UserWarning: Unable to parse time string from Neuralynx header: -FileUUID b65aa11b-e256-4cbe-9eae-48f68d0b6c16\n",
      "  warnings.warn('Unable to parse time string from Neuralynx header: ' + time_string)\n",
      "/home/elijahc/projects/emu/notebooks/src/neuralynx_io.py:92: UserWarning: Unable to parse parameter line from Neuralynx header: -TimeCreated 2019/07/31 03:25:01\n",
      "  warnings.warn('Unable to parse parameter line from Neuralynx header: ' + line)\n",
      "/home/elijahc/projects/emu/notebooks/src/neuralynx_io.py:92: UserWarning: Unable to parse parameter line from Neuralynx header: -TimeClosed 2019/07/31 07:27:06\n",
      "  warnings.warn('Unable to parse parameter line from Neuralynx header: ' + line)\n",
      " 38%|███▊      | 5/13 [00:19<00:31,  3.97s/it]/home/elijahc/projects/emu/notebooks/src/neuralynx_io.py:130: UserWarning: Unable to parse time string from Neuralynx header: -FileUUID ea9e042e-095f-48c5-8833-7bc6f5778858\n",
      "  warnings.warn('Unable to parse time string from Neuralynx header: ' + time_string)\n",
      "/home/elijahc/projects/emu/notebooks/src/neuralynx_io.py:92: UserWarning: Unable to parse parameter line from Neuralynx header: -TimeCreated 2019/07/31 07:25:01\n",
      "  warnings.warn('Unable to parse parameter line from Neuralynx header: ' + line)\n",
      "/home/elijahc/projects/emu/notebooks/src/neuralynx_io.py:92: UserWarning: Unable to parse parameter line from Neuralynx header: -TimeClosed 2019/07/31 11:27:20\n",
      "  warnings.warn('Unable to parse parameter line from Neuralynx header: ' + line)\n",
      " 46%|████▌     | 6/13 [00:23<00:28,  4.02s/it]/home/elijahc/projects/emu/notebooks/src/neuralynx_io.py:130: UserWarning: Unable to parse time string from Neuralynx header: -FileUUID c1c9a3d4-a112-4e8b-ae69-945acd49e85b\n",
      "  warnings.warn('Unable to parse time string from Neuralynx header: ' + time_string)\n",
      "/home/elijahc/projects/emu/notebooks/src/neuralynx_io.py:92: UserWarning: Unable to parse parameter line from Neuralynx header: -TimeCreated 2019/07/31 11:25:01\n",
      "  warnings.warn('Unable to parse parameter line from Neuralynx header: ' + line)\n",
      "/home/elijahc/projects/emu/notebooks/src/neuralynx_io.py:92: UserWarning: Unable to parse parameter line from Neuralynx header: -TimeClosed 2019/07/31 15:28:13\n",
      "  warnings.warn('Unable to parse parameter line from Neuralynx header: ' + line)\n",
      " 54%|█████▍    | 7/13 [00:27<00:23,  4.00s/it]/home/elijahc/projects/emu/notebooks/src/neuralynx_io.py:130: UserWarning: Unable to parse time string from Neuralynx header: -FileUUID 2d883f1c-a834-4374-b4b8-cf81e11b6c19\n",
      "  warnings.warn('Unable to parse time string from Neuralynx header: ' + time_string)\n",
      "/home/elijahc/projects/emu/notebooks/src/neuralynx_io.py:92: UserWarning: Unable to parse parameter line from Neuralynx header: -TimeCreated 2019/07/31 15:25:01\n",
      "  warnings.warn('Unable to parse parameter line from Neuralynx header: ' + line)\n",
      "/home/elijahc/projects/emu/notebooks/src/neuralynx_io.py:92: UserWarning: Unable to parse parameter line from Neuralynx header: -TimeClosed 2019/07/31 19:27:24\n",
      "  warnings.warn('Unable to parse parameter line from Neuralynx header: ' + line)\n",
      " 62%|██████▏   | 8/13 [00:31<00:19,  3.97s/it]/home/elijahc/projects/emu/notebooks/src/neuralynx_io.py:130: UserWarning: Unable to parse time string from Neuralynx header: -FileUUID c759164e-ac7b-4f35-8557-472da0039784\n",
      "  warnings.warn('Unable to parse time string from Neuralynx header: ' + time_string)\n",
      "/home/elijahc/projects/emu/notebooks/src/neuralynx_io.py:92: UserWarning: Unable to parse parameter line from Neuralynx header: -TimeCreated 2019/07/31 19:25:01\n",
      "  warnings.warn('Unable to parse parameter line from Neuralynx header: ' + line)\n",
      "/home/elijahc/projects/emu/notebooks/src/neuralynx_io.py:92: UserWarning: Unable to parse parameter line from Neuralynx header: -TimeClosed 2019/07/31 23:27:19\n",
      "  warnings.warn('Unable to parse parameter line from Neuralynx header: ' + line)\n",
      " 69%|██████▉   | 9/13 [00:35<00:15,  4.00s/it]/home/elijahc/projects/emu/notebooks/src/neuralynx_io.py:130: UserWarning: Unable to parse time string from Neuralynx header: -FileUUID d0bd0513-313f-4e07-bc1d-78e1b1e775d5\n",
      "  warnings.warn('Unable to parse time string from Neuralynx header: ' + time_string)\n",
      "/home/elijahc/projects/emu/notebooks/src/neuralynx_io.py:92: UserWarning: Unable to parse parameter line from Neuralynx header: -TimeCreated 2019/07/31 23:25:00\n",
      "  warnings.warn('Unable to parse parameter line from Neuralynx header: ' + line)\n",
      "/home/elijahc/projects/emu/notebooks/src/neuralynx_io.py:92: UserWarning: Unable to parse parameter line from Neuralynx header: -TimeClosed 2019/08/01 03:27:27\n",
      "  warnings.warn('Unable to parse parameter line from Neuralynx header: ' + line)\n",
      " 77%|███████▋  | 10/13 [00:39<00:11,  3.97s/it]/home/elijahc/projects/emu/notebooks/src/neuralynx_io.py:130: UserWarning: Unable to parse time string from Neuralynx header: -FileUUID 2984e79e-e137-47ee-805e-da97d82e047e\n",
      "  warnings.warn('Unable to parse time string from Neuralynx header: ' + time_string)\n",
      "/home/elijahc/projects/emu/notebooks/src/neuralynx_io.py:92: UserWarning: Unable to parse parameter line from Neuralynx header: -TimeCreated 2019/08/01 03:25:00\n",
      "  warnings.warn('Unable to parse parameter line from Neuralynx header: ' + line)\n",
      "/home/elijahc/projects/emu/notebooks/src/neuralynx_io.py:92: UserWarning: Unable to parse parameter line from Neuralynx header: -TimeClosed 2019/08/01 07:27:04\n",
      "  warnings.warn('Unable to parse parameter line from Neuralynx header: ' + line)\n",
      " 85%|████████▍ | 11/13 [00:43<00:07,  3.94s/it]/home/elijahc/projects/emu/notebooks/src/neuralynx_io.py:130: UserWarning: Unable to parse time string from Neuralynx header: -FileUUID bc730077-609c-4071-b824-aff292b310a1\n",
      "  warnings.warn('Unable to parse time string from Neuralynx header: ' + time_string)\n",
      "/home/elijahc/projects/emu/notebooks/src/neuralynx_io.py:92: UserWarning: Unable to parse parameter line from Neuralynx header: -TimeCreated 2019/08/01 07:25:00\n",
      "  warnings.warn('Unable to parse parameter line from Neuralynx header: ' + line)\n",
      "/home/elijahc/projects/emu/notebooks/src/neuralynx_io.py:92: UserWarning: Unable to parse parameter line from Neuralynx header: -TimeClosed 2019/08/01 11:27:34\n",
      "  warnings.warn('Unable to parse parameter line from Neuralynx header: ' + line)\n",
      " 92%|█████████▏| 12/13 [00:47<00:03,  3.94s/it]/home/elijahc/projects/emu/notebooks/src/neuralynx_io.py:130: UserWarning: Unable to parse time string from Neuralynx header: -FileUUID b7c62382-b7e5-47e9-adae-4972ab063f7e\n",
      "  warnings.warn('Unable to parse time string from Neuralynx header: ' + time_string)\n",
      "/home/elijahc/projects/emu/notebooks/src/neuralynx_io.py:92: UserWarning: Unable to parse parameter line from Neuralynx header: -TimeCreated 2019/08/01 11:25:00\n",
      "  warnings.warn('Unable to parse parameter line from Neuralynx header: ' + line)\n",
      "/home/elijahc/projects/emu/notebooks/src/neuralynx_io.py:92: UserWarning: Unable to parse parameter line from Neuralynx header: -TimeClosed 2019/08/01 14:56:06\n",
      "  warnings.warn('Unable to parse parameter line from Neuralynx header: ' + line)\n",
      "100%|██████████| 13/13 [00:50<00:00,  3.67s/it]\n"
     ]
    }
   ],
   "source": [
    "ncs_data = []\n",
    "dat_iter = gen_load_ncs(files,4)\n",
    "for d in tqdm(dat_iter,total=len(files)):\n",
    "    ncs_data.append(d.astype(np.float16))"
   ]
  },
  {
   "cell_type": "code",
   "execution_count": 7,
   "metadata": {},
   "outputs": [],
   "source": [
    "dat = np.concatenate(ncs_data)"
   ]
  },
  {
   "cell_type": "code",
   "execution_count": 8,
   "metadata": {},
   "outputs": [
    {
     "data": {
      "text/plain": [
       "array([ 15.35,  19.33,  20.23, ..., -27.1 , -28.94, -45.4 ], dtype=float16)"
      ]
     },
     "execution_count": 8,
     "metadata": {},
     "output_type": "execute_result"
    }
   ],
   "source": [
    "dat.astype(np.float16)"
   ]
  },
  {
   "cell_type": "code",
   "execution_count": 11,
   "metadata": {},
   "outputs": [],
   "source": [
    "np.save('/home/elijahc/.emu/pt1/sEEG/data_1/CSC3',dat)"
   ]
  },
  {
   "cell_type": "code",
   "execution_count": 10,
   "metadata": {},
   "outputs": [
    {
     "ename": "NameError",
     "evalue": "name 'asdf' is not defined",
     "output_type": "error",
     "traceback": [
      "\u001b[0;31m---------------------------------------------------------------------------\u001b[0m",
      "\u001b[0;31mNameError\u001b[0m                                 Traceback (most recent call last)",
      "\u001b[0;32m<ipython-input-10-7d97e98f8af7>\u001b[0m in \u001b[0;36m<module>\u001b[0;34m\u001b[0m\n\u001b[0;32m----> 1\u001b[0;31m \u001b[0masdf\u001b[0m\u001b[0;34m\u001b[0m\u001b[0m\n\u001b[0m",
      "\u001b[0;31mNameError\u001b[0m: name 'asdf' is not defined"
     ]
    }
   ],
   "source": [
    "asdf"
   ]
  },
  {
   "cell_type": "code",
   "execution_count": null,
   "metadata": {},
   "outputs": [],
   "source": [
    "timestamp = np.concatenate(ncs_timestamp).astype(int)"
   ]
  },
  {
   "cell_type": "code",
   "execution_count": null,
   "metadata": {},
   "outputs": [],
   "source": [
    "np.save(os.path.join('/home/elijahc/.emu/pt1/sEEG/data_1/timestamps_3'),timestamp)"
   ]
  },
  {
   "cell_type": "code",
   "execution_count": null,
   "metadata": {},
   "outputs": [],
   "source": [
    "ts6 = np.load('/home/elijahc/.emu/pt1/sEEG/data_1/timestamps_6.npy')"
   ]
  },
  {
   "cell_type": "code",
   "execution_count": null,
   "metadata": {},
   "outputs": [],
   "source": [
    "ts3 = timestamp"
   ]
  },
  {
   "cell_type": "code",
   "execution_count": null,
   "metadata": {},
   "outputs": [],
   "source": [
    "len(ts3)"
   ]
  },
  {
   "cell_type": "code",
   "execution_count": null,
   "metadata": {},
   "outputs": [],
   "source": [
    "np.count_nonzero((ts3 == ts6).astype(int))"
   ]
  },
  {
   "cell_type": "code",
   "execution_count": null,
   "metadata": {},
   "outputs": [],
   "source": [
    "#a"
   ]
  },
  {
   "cell_type": "code",
   "execution_count": null,
   "metadata": {},
   "outputs": [],
   "source": [
    "dat = np.concatenate(ncs_data)"
   ]
  },
  {
   "cell_type": "code",
   "execution_count": null,
   "metadata": {},
   "outputs": [],
   "source": [
    "len(dat)/2000/60/60/4"
   ]
  },
  {
   "cell_type": "code",
   "execution_count": null,
   "metadata": {},
   "outputs": [],
   "source": [
    "ncs = neuralynx_io.load_ncs(os.path.expanduser('~/.emu/pt1/sEEG/raw/CSC6.ncs'))"
   ]
  },
  {
   "cell_type": "code",
   "execution_count": null,
   "metadata": {},
   "outputs": [],
   "source": [
    "decimated_data = signal.decimate(ncs['data'],4)"
   ]
  },
  {
   "cell_type": "code",
   "execution_count": null,
   "metadata": {},
   "outputs": [],
   "source": [
    "len(decimated_data)"
   ]
  },
  {
   "cell_type": "code",
   "execution_count": null,
   "metadata": {},
   "outputs": [],
   "source": [
    "start_time = datetime.fromtimestamp(ncs['time'][0]/1000/1000)"
   ]
  },
  {
   "cell_type": "code",
   "execution_count": null,
   "metadata": {},
   "outputs": [],
   "source": [
    "nwbfile = NWBFile(session_description='demonstrate NWBFile basics',  # required\n",
    "                  identifier='CSC6',  # required\n",
    "                  session_start_time=start_time)"
   ]
  },
  {
   "cell_type": "code",
   "execution_count": null,
   "metadata": {},
   "outputs": [],
   "source": [
    "ncs['data_units']"
   ]
  },
  {
   "cell_type": "code",
   "execution_count": null,
   "metadata": {},
   "outputs": [],
   "source": [
    "from pynwb import TimeSeries\n",
    "data = ncs['data']\n"
   ]
  },
  {
   "cell_type": "code",
   "execution_count": null,
   "metadata": {},
   "outputs": [],
   "source": [
    "rate_ts = TimeSeries(name='channel6', data=data, unit=ncs['data_units'],rate=8000.0, starting_time=0.0)"
   ]
  },
  {
   "cell_type": "code",
   "execution_count": null,
   "metadata": {},
   "outputs": [],
   "source": [
    "ncs['time_units']"
   ]
  },
  {
   "cell_type": "code",
   "execution_count": null,
   "metadata": {},
   "outputs": [],
   "source": [
    "test_ts = TimeSeries(name='channel6', data=data, unit=ncs['data_units'], timestamps=ncs['timestamp']/1000/1000)"
   ]
  },
  {
   "cell_type": "code",
   "execution_count": null,
   "metadata": {},
   "outputs": [],
   "source": []
  },
  {
   "cell_type": "code",
   "execution_count": null,
   "metadata": {},
   "outputs": [],
   "source": [
    "nwbfile.add_acquisition(rate_ts)"
   ]
  },
  {
   "cell_type": "code",
   "execution_count": null,
   "metadata": {},
   "outputs": [],
   "source": [
    "nwbfile.acquisition['channel6']"
   ]
  },
  {
   "cell_type": "code",
   "execution_count": null,
   "metadata": {},
   "outputs": [],
   "source": [
    "rate_ts.rate"
   ]
  },
  {
   "cell_type": "code",
   "execution_count": null,
   "metadata": {},
   "outputs": [],
   "source": [
    "from pynwb import NWBHDF5IO\n",
    "io = NWBHDF5IO(os.path.expanduser('~/.emu/pt1/sEEG/data_1/CSC6.nwb'), mode='w')"
   ]
  },
  {
   "cell_type": "code",
   "execution_count": null,
   "metadata": {},
   "outputs": [],
   "source": [
    "io.write(nwbfile)\n",
    "io.close()"
   ]
  },
  {
   "cell_type": "code",
   "execution_count": null,
   "metadata": {},
   "outputs": [],
   "source": []
  }
 ],
 "metadata": {
  "kernelspec": {
   "display_name": "Python 3",
   "language": "python",
   "name": "python3"
  },
  "language_info": {
   "codemirror_mode": {
    "name": "ipython",
    "version": 3
   },
   "file_extension": ".py",
   "mimetype": "text/x-python",
   "name": "python",
   "nbconvert_exporter": "python",
   "pygments_lexer": "ipython3",
   "version": "3.6.8"
  }
 },
 "nbformat": 4,
 "nbformat_minor": 4
}
