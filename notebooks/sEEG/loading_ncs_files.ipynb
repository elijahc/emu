{
 "cells": [
  {
   "cell_type": "code",
   "execution_count": 2,
   "metadata": {},
   "outputs": [],
   "source": [
    "import os\n",
    "import numpy as np\n",
    "import emu.neuralynx_io as nlx\n",
    "import pandas as pd\n",
    "import datetime\n"
   ]
  },
  {
   "cell_type": "code",
   "execution_count": 2,
   "metadata": {},
   "outputs": [
    {
     "name": "stderr",
     "output_type": "stream",
     "text": [
      "/home/elijahc/projects/emu/notebooks/src/neuralynx_io.py:78: UserWarning: Unable to parse original file path from Neuralynx header: -FileType NCS\n",
      "  warnings.warn('Unable to parse original file path from Neuralynx header: ' + hdr_lines[1])\n",
      "/home/elijahc/projects/emu/notebooks/src/neuralynx_io.py:130: UserWarning: Unable to parse time string from Neuralynx header: -FileVersion 3.4\n",
      "  warnings.warn('Unable to parse time string from Neuralynx header: ' + time_string)\n",
      "/home/elijahc/projects/emu/notebooks/src/neuralynx_io.py:130: UserWarning: Unable to parse time string from Neuralynx header: -FileUUID d0c2964e-e524-40e5-a986-ca069f38c58c\n",
      "  warnings.warn('Unable to parse time string from Neuralynx header: ' + time_string)\n",
      "/home/elijahc/projects/emu/notebooks/src/neuralynx_io.py:92: UserWarning: Unable to parse parameter line from Neuralynx header: -ProbeName\n",
      "  warnings.warn('Unable to parse parameter line from Neuralynx header: ' + line)\n",
      "/home/elijahc/projects/emu/notebooks/src/neuralynx_io.py:92: UserWarning: Unable to parse parameter line from Neuralynx header: -TimeCreated 2019/07/30 11:05:26\n",
      "  warnings.warn('Unable to parse parameter line from Neuralynx header: ' + line)\n",
      "/home/elijahc/projects/emu/notebooks/src/neuralynx_io.py:92: UserWarning: Unable to parse parameter line from Neuralynx header: -TimeClosed 2019/07/30 15:27:42\n",
      "  warnings.warn('Unable to parse parameter line from Neuralynx header: ' + line)\n",
      "/home/elijahc/projects/emu/notebooks/src/neuralynx_io.py:92: UserWarning: Unable to parse parameter line from Neuralynx header: -ApplicationName Pegasus \"2.1.2 \"\n",
      "  warnings.warn('Unable to parse parameter line from Neuralynx header: ' + line)\n",
      "/home/elijahc/projects/emu/notebooks/src/neuralynx_io.py:92: UserWarning: Unable to parse parameter line from Neuralynx header: -AcquisitionSystem AcqSystem1 ATLAS\n",
      "  warnings.warn('Unable to parse parameter line from Neuralynx header: ' + line)\n",
      "/home/elijahc/projects/emu/notebooks/src/neuralynx_io.py:92: UserWarning: Unable to parse parameter line from Neuralynx header: -ReferenceChannel \"Source 01 Reference 1\"\n",
      "  warnings.warn('Unable to parse parameter line from Neuralynx header: ' + line)\n",
      "/home/elijahc/projects/emu/notebooks/src/neuralynx_io.py:149: UserWarning: Invalid samples in one or more records\n",
      "  warnings.warn('Invalid samples in one or more records')\n"
     ]
    }
   ],
   "source": [
    "ncs = neuralynx_io.load_ncs(os.path.expanduser('~/.emu/pt1/sEEG/raw/CSC6.ncs'))"
   ]
  },
  {
   "cell_type": "code",
   "execution_count": 9,
   "metadata": {},
   "outputs": [
    {
     "name": "stdout",
     "output_type": "stream",
     "text": [
      "{   'ADBitVolts': '0.000000030517578125000001',\n",
      "    'ADChannel': '5',\n",
      "    'ADMaxValue': '32767',\n",
      "    'AcqEntName': 'CSC6',\n",
      "    'DSPHighCutFilterEnabled': 'True',\n",
      "    'DSPLowCutFilterEnabled': 'True',\n",
      "    'DspDelayCompensation': 'Enabled',\n",
      "    'DspFilterDelay_µs': '3984',\n",
      "    'DspHighCutFilterType': 'FIR',\n",
      "    'DspHighCutFrequency': '2000',\n",
      "    'DspHighCutNumTaps': '256',\n",
      "    'DspLowCutFilterType': 'DCO',\n",
      "    'DspLowCutFrequency': '0.1',\n",
      "    'DspLowCutNumTaps': '0',\n",
      "    'InputInverted': 'True',\n",
      "    'InputRange': '1000',\n",
      "    'NumADChannels': '1',\n",
      "    'OriginalFileName': '\"D:\\\\PegasusData\\\\2019-07-30_11-04-51\\\\CSC6.ncs\"',\n",
      "    'RecordSize': '1044',\n",
      "    'SamplingFrequency': '8000',\n",
      "    'SessionUUID': '0fbe95c6-940b-47a6-b5b7-85ebd4cbc782',\n",
      "    'TimeClosed': 'leUUID d0c2964e-e524-40e5-a986-ca069f38c58c',\n",
      "    'TimeClosed_dt': None,\n",
      "    'TimeOpened': 'leVersion 3.4',\n",
      "    'TimeOpened_dt': None}\n"
     ]
    }
   ],
   "source": [
    "header = ncs['header']\n",
    "pp.pprint(header)"
   ]
  },
  {
   "cell_type": "code",
   "execution_count": 10,
   "metadata": {},
   "outputs": [
    {
     "data": {
      "text/plain": [
       "115204608"
      ]
     },
     "execution_count": 10,
     "metadata": {},
     "output_type": "execute_result"
    }
   ],
   "source": [
    "dat = ncs['data']\n",
    "len(dat)"
   ]
  },
  {
   "cell_type": "code",
   "execution_count": 12,
   "metadata": {},
   "outputs": [
    {
     "data": {
      "text/plain": [
       "array([ 3.11279297,  2.34985352,  2.99072266, ..., 48.06518555,\n",
       "       45.71533203, 46.35620117])"
      ]
     },
     "execution_count": 12,
     "metadata": {},
     "output_type": "execute_result"
    }
   ],
   "source": [
    "dat"
   ]
  },
  {
   "cell_type": "code",
   "execution_count": 11,
   "metadata": {},
   "outputs": [
    {
     "data": {
      "text/plain": [
       "4.000159999999999"
      ]
     },
     "execution_count": 11,
     "metadata": {},
     "output_type": "execute_result"
    }
   ],
   "source": [
    "len(dat)/8000/60/60"
   ]
  },
  {
   "cell_type": "code",
   "execution_count": null,
   "metadata": {},
   "outputs": [],
   "source": []
  }
 ],
 "metadata": {
  "kernelspec": {
   "display_name": "Python 3",
   "language": "python",
   "name": "python3"
  },
  "language_info": {
   "codemirror_mode": {
    "name": "ipython",
    "version": 3
   },
   "file_extension": ".py",
   "mimetype": "text/x-python",
   "name": "python",
   "nbconvert_exporter": "python",
   "pygments_lexer": "ipython3",
   "version": "3.6.8"
  }
 },
 "nbformat": 4,
 "nbformat_minor": 4
}
