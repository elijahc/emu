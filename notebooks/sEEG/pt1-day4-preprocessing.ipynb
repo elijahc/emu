{
 "cells": [
  {
   "cell_type": "code",
   "execution_count": 1,
   "metadata": {},
   "outputs": [],
   "source": [
    "import os\n",
    "import warnings\n",
    "import numpy as np\n",
    "import luigi\n",
    "import emu.neuralynx_io as nlx\n",
    "from tqdm import tqdm as tqdm\n",
    "from emu.pdil.raw import Electrophysiology,Participant,get_data_manifest,points_to_choice\n",
    "from emu.neuralynx_io import nev_as_records\n",
    "from emu.nwb import nlx_to_nwb\n",
    "from pynwb import TimeSeries, NWBFile,NWBHDF5IO\n",
    "from pynwb.ecephys import ElectricalSeries\n",
    "from pynwb.misc import AnnotationSeries\n",
    "import pandas as pd\n",
    "import datetime\n",
    "import glob"
   ]
  },
  {
   "cell_type": "code",
   "execution_count": 2,
   "metadata": {},
   "outputs": [],
   "source": [
    "all_files = get_data_manifest()"
   ]
  },
  {
   "cell_type": "code",
   "execution_count": 3,
   "metadata": {
    "scrolled": true
   },
   "outputs": [
    {
     "name": "stdout",
     "output_type": "stream",
     "text": [
      "nev path:  /home/elijahc/.emu/pdil/pt_01/SEEG/raw/PO_Day_04.Events.nev\n",
      "ncs_paths:\n",
      "/home/elijahc/.emu/pdil/pt_01/SEEG/raw/PO_Day_04.CSC1.ncs\n",
      "/home/elijahc/.emu/pdil/pt_01/SEEG/raw/PO_Day_04.CSC10.ncs\n",
      "/home/elijahc/.emu/pdil/pt_01/SEEG/raw/PO_Day_04.CSC11.ncs\n",
      "/home/elijahc/.emu/pdil/pt_01/SEEG/raw/PO_Day_04.CSC12.ncs\n",
      "/home/elijahc/.emu/pdil/pt_01/SEEG/raw/PO_Day_04.CSC13.ncs\n",
      "/home/elijahc/.emu/pdil/pt_01/SEEG/raw/PO_Day_04.CSC14.ncs\n",
      "/home/elijahc/.emu/pdil/pt_01/SEEG/raw/PO_Day_04.CSC15.ncs\n",
      "/home/elijahc/.emu/pdil/pt_01/SEEG/raw/PO_Day_04.CSC16.ncs\n",
      "/home/elijahc/.emu/pdil/pt_01/SEEG/raw/PO_Day_04.CSC17.ncs\n",
      "/home/elijahc/.emu/pdil/pt_01/SEEG/raw/PO_Day_04.CSC18.ncs\n",
      "/home/elijahc/.emu/pdil/pt_01/SEEG/raw/PO_Day_04.CSC19.ncs\n",
      "/home/elijahc/.emu/pdil/pt_01/SEEG/raw/PO_Day_04.CSC2.ncs\n",
      "/home/elijahc/.emu/pdil/pt_01/SEEG/raw/PO_Day_04.CSC20.ncs\n",
      "/home/elijahc/.emu/pdil/pt_01/SEEG/raw/PO_Day_04.CSC21.ncs\n",
      "/home/elijahc/.emu/pdil/pt_01/SEEG/raw/PO_Day_04.CSC22.ncs\n",
      "/home/elijahc/.emu/pdil/pt_01/SEEG/raw/PO_Day_04.CSC23.ncs\n",
      "/home/elijahc/.emu/pdil/pt_01/SEEG/raw/PO_Day_04.CSC24.ncs\n",
      "/home/elijahc/.emu/pdil/pt_01/SEEG/raw/PO_Day_04.CSC25.ncs\n",
      "/home/elijahc/.emu/pdil/pt_01/SEEG/raw/PO_Day_04.CSC26.ncs\n",
      "/home/elijahc/.emu/pdil/pt_01/SEEG/raw/PO_Day_04.CSC27.ncs\n",
      "/home/elijahc/.emu/pdil/pt_01/SEEG/raw/PO_Day_04.CSC28.ncs\n",
      "/home/elijahc/.emu/pdil/pt_01/SEEG/raw/PO_Day_04.CSC29.ncs\n",
      "/home/elijahc/.emu/pdil/pt_01/SEEG/raw/PO_Day_04.CSC3.ncs\n",
      "/home/elijahc/.emu/pdil/pt_01/SEEG/raw/PO_Day_04.CSC30.ncs\n",
      "/home/elijahc/.emu/pdil/pt_01/SEEG/raw/PO_Day_04.CSC31.ncs\n",
      "/home/elijahc/.emu/pdil/pt_01/SEEG/raw/PO_Day_04.CSC32.ncs\n",
      "/home/elijahc/.emu/pdil/pt_01/SEEG/raw/PO_Day_04.CSC33.ncs\n",
      "/home/elijahc/.emu/pdil/pt_01/SEEG/raw/PO_Day_04.CSC34.ncs\n",
      "/home/elijahc/.emu/pdil/pt_01/SEEG/raw/PO_Day_04.CSC35.ncs\n",
      "/home/elijahc/.emu/pdil/pt_01/SEEG/raw/PO_Day_04.CSC36.ncs\n",
      "/home/elijahc/.emu/pdil/pt_01/SEEG/raw/PO_Day_04.CSC37.ncs\n",
      "/home/elijahc/.emu/pdil/pt_01/SEEG/raw/PO_Day_04.CSC38.ncs\n",
      "/home/elijahc/.emu/pdil/pt_01/SEEG/raw/PO_Day_04.CSC39.ncs\n",
      "/home/elijahc/.emu/pdil/pt_01/SEEG/raw/PO_Day_04.CSC4.ncs\n",
      "/home/elijahc/.emu/pdil/pt_01/SEEG/raw/PO_Day_04.CSC40.ncs\n",
      "/home/elijahc/.emu/pdil/pt_01/SEEG/raw/PO_Day_04.CSC41.ncs\n",
      "/home/elijahc/.emu/pdil/pt_01/SEEG/raw/PO_Day_04.CSC42.ncs\n",
      "/home/elijahc/.emu/pdil/pt_01/SEEG/raw/PO_Day_04.CSC43.ncs\n",
      "/home/elijahc/.emu/pdil/pt_01/SEEG/raw/PO_Day_04.CSC44.ncs\n",
      "/home/elijahc/.emu/pdil/pt_01/SEEG/raw/PO_Day_04.CSC45.ncs\n",
      "/home/elijahc/.emu/pdil/pt_01/SEEG/raw/PO_Day_04.CSC46.ncs\n",
      "/home/elijahc/.emu/pdil/pt_01/SEEG/raw/PO_Day_04.CSC47.ncs\n",
      "/home/elijahc/.emu/pdil/pt_01/SEEG/raw/PO_Day_04.CSC48.ncs\n",
      "/home/elijahc/.emu/pdil/pt_01/SEEG/raw/PO_Day_04.CSC49.ncs\n",
      "/home/elijahc/.emu/pdil/pt_01/SEEG/raw/PO_Day_04.CSC5.ncs\n",
      "/home/elijahc/.emu/pdil/pt_01/SEEG/raw/PO_Day_04.CSC50.ncs\n",
      "/home/elijahc/.emu/pdil/pt_01/SEEG/raw/PO_Day_04.CSC6.ncs\n",
      "/home/elijahc/.emu/pdil/pt_01/SEEG/raw/PO_Day_04.CSC7.ncs\n",
      "/home/elijahc/.emu/pdil/pt_01/SEEG/raw/PO_Day_04.CSC8.ncs\n",
      "/home/elijahc/.emu/pdil/pt_01/SEEG/raw/PO_Day_04.CSC9.ncs\n"
     ]
    }
   ],
   "source": [
    "seeg_root = os.path.expanduser('~/.emu/pdil/pt_01/SEEG/raw/')\n",
    "\n",
    "nev_path = os.path.expanduser('~/.emu/pdil/pt_01/SEEG/raw/PO_Day_04.Events.nev')\n",
    "ncs_paths = sorted(glob.glob(os.path.join(seeg_root,'PO_Day_04.*.ncs')))\n",
    "\n",
    "# ncs = nlx.load_ncs()\n",
    "print('nev path: ',nev_path)\n",
    "print('ncs_paths:')\n",
    "for p in ncs_paths:\n",
    "    print(p)"
   ]
  },
  {
   "cell_type": "code",
   "execution_count": 4,
   "metadata": {},
   "outputs": [],
   "source": [
    "p = Participant(patient_id=1,raw_files=all_files,seeg_raw_path=seeg_root)"
   ]
  },
  {
   "cell_type": "code",
   "execution_count": 5,
   "metadata": {},
   "outputs": [],
   "source": [
    "# Create a list of download tasks for the POD4 ncs files\n",
    "all_ncs_tasks = list(p.cache_ncs())\n",
    "d4_tasks = [t for t in all_ncs_tasks if 'PO_Day_04' in t.output().path]\n",
    "\n",
    "# Create a list of download tasks for the POD4 nev files\n",
    "d4_nev_task = [t for t in list(p.cache_nev()) if 'PO_Day_04.Events.nev' in t.output().path][0]"
   ]
  },
  {
   "cell_type": "code",
   "execution_count": 6,
   "metadata": {},
   "outputs": [
    {
     "name": "stderr",
     "output_type": "stream",
     "text": [
      "DEBUG: Checking if NLXRaw(data_root=/home/elijahc/.emu/, file_id=632004419788, file_name=PO_Day_04.CSC1.ncs, save_to=/home/elijahc/.emu/pdil/pt_01/SEEG/raw/, overwrite=False, study=pdil, patient_id=1) is complete\n",
      "INFO: Informed scheduler that task   NLXRaw__home_elijahc__e_632004419788_PO_Day_04_CSC1_n_5df6429b44   has status   DONE\n",
      "DEBUG: Checking if NLXRaw(data_root=/home/elijahc/.emu/, file_id=632004417388, file_name=PO_Day_04.CSC10.ncs, save_to=/home/elijahc/.emu/pdil/pt_01/SEEG/raw/, overwrite=False, study=pdil, patient_id=1) is complete\n",
      "INFO: Informed scheduler that task   NLXRaw__home_elijahc__e_632004417388_PO_Day_04_CSC10__70601f89a3   has status   DONE\n",
      "DEBUG: Checking if NLXRaw(data_root=/home/elijahc/.emu/, file_id=632004414988, file_name=PO_Day_04.CSC11.ncs, save_to=/home/elijahc/.emu/pdil/pt_01/SEEG/raw/, overwrite=False, study=pdil, patient_id=1) is complete\n",
      "INFO: Informed scheduler that task   NLXRaw__home_elijahc__e_632004414988_PO_Day_04_CSC11__48f27f8992   has status   DONE\n",
      "DEBUG: Checking if NLXRaw(data_root=/home/elijahc/.emu/, file_id=632004411388, file_name=PO_Day_04.CSC12.ncs, save_to=/home/elijahc/.emu/pdil/pt_01/SEEG/raw/, overwrite=False, study=pdil, patient_id=1) is complete\n",
      "INFO: Informed scheduler that task   NLXRaw__home_elijahc__e_632004411388_PO_Day_04_CSC12__cfe3ba26e7   has status   DONE\n",
      "DEBUG: Checking if NLXRaw(data_root=/home/elijahc/.emu/, file_id=632004410188, file_name=PO_Day_04.CSC13.ncs, save_to=/home/elijahc/.emu/pdil/pt_01/SEEG/raw/, overwrite=False, study=pdil, patient_id=1) is complete\n",
      "INFO: Informed scheduler that task   NLXRaw__home_elijahc__e_632004410188_PO_Day_04_CSC13__e3706640cd   has status   DONE\n",
      "DEBUG: Checking if NLXRaw(data_root=/home/elijahc/.emu/, file_id=632004407788, file_name=PO_Day_04.CSC14.ncs, save_to=/home/elijahc/.emu/pdil/pt_01/SEEG/raw/, overwrite=False, study=pdil, patient_id=1) is complete\n",
      "INFO: Informed scheduler that task   NLXRaw__home_elijahc__e_632004407788_PO_Day_04_CSC14__5d87d2bf2d   has status   DONE\n",
      "DEBUG: Checking if NLXRaw(data_root=/home/elijahc/.emu/, file_id=632004404188, file_name=PO_Day_04.CSC15.ncs, save_to=/home/elijahc/.emu/pdil/pt_01/SEEG/raw/, overwrite=False, study=pdil, patient_id=1) is complete\n",
      "INFO: Informed scheduler that task   NLXRaw__home_elijahc__e_632004404188_PO_Day_04_CSC15__0a3bf4e387   has status   DONE\n",
      "DEBUG: Checking if NLXRaw(data_root=/home/elijahc/.emu/, file_id=632004416219, file_name=PO_Day_04.CSC16.ncs, save_to=/home/elijahc/.emu/pdil/pt_01/SEEG/raw/, overwrite=False, study=pdil, patient_id=1) is complete\n",
      "INFO: Informed scheduler that task   NLXRaw__home_elijahc__e_632004416219_PO_Day_04_CSC16__3f40610521   has status   DONE\n",
      "DEBUG: Checking if NLXRaw(data_root=/home/elijahc/.emu/, file_id=632004386219, file_name=PO_Day_04.CSC17.ncs, save_to=/home/elijahc/.emu/pdil/pt_01/SEEG/raw/, overwrite=False, study=pdil, patient_id=1) is complete\n",
      "INFO: Informed scheduler that task   NLXRaw__home_elijahc__e_632004386219_PO_Day_04_CSC17__e8f5f5b5c0   has status   DONE\n",
      "DEBUG: Checking if NLXRaw(data_root=/home/elijahc/.emu/, file_id=632004417419, file_name=PO_Day_04.CSC18.ncs, save_to=/home/elijahc/.emu/pdil/pt_01/SEEG/raw/, overwrite=False, study=pdil, patient_id=1) is complete\n",
      "INFO: Informed scheduler that task   NLXRaw__home_elijahc__e_632004417419_PO_Day_04_CSC18__6c1362e73f   has status   DONE\n",
      "DEBUG: Checking if NLXRaw(data_root=/home/elijahc/.emu/, file_id=632004377819, file_name=PO_Day_04.CSC19.ncs, save_to=/home/elijahc/.emu/pdil/pt_01/SEEG/raw/, overwrite=False, study=pdil, patient_id=1) is complete\n",
      "INFO: Informed scheduler that task   NLXRaw__home_elijahc__e_632004377819_PO_Day_04_CSC19__f9f415194c   has status   DONE\n",
      "DEBUG: Checking if NLXRaw(data_root=/home/elijahc/.emu/, file_id=632004365819, file_name=PO_Day_04.CSC2.ncs, save_to=/home/elijahc/.emu/pdil/pt_01/SEEG/raw/, overwrite=False, study=pdil, patient_id=1) is complete\n",
      "INFO: Informed scheduler that task   NLXRaw__home_elijahc__e_632004365819_PO_Day_04_CSC2_n_301cec93e2   has status   DONE\n",
      "DEBUG: Checking if NLXRaw(data_root=/home/elijahc/.emu/, file_id=632004371819, file_name=PO_Day_04.CSC20.ncs, save_to=/home/elijahc/.emu/pdil/pt_01/SEEG/raw/, overwrite=False, study=pdil, patient_id=1) is complete\n",
      "INFO: Informed scheduler that task   NLXRaw__home_elijahc__e_632004371819_PO_Day_04_CSC20__3047fee7d2   has status   DONE\n",
      "DEBUG: Checking if NLXRaw(data_root=/home/elijahc/.emu/, file_id=632004413819, file_name=PO_Day_04.CSC21.ncs, save_to=/home/elijahc/.emu/pdil/pt_01/SEEG/raw/, overwrite=False, study=pdil, patient_id=1) is complete\n",
      "INFO: Informed scheduler that task   NLXRaw__home_elijahc__e_632004413819_PO_Day_04_CSC21__a8aafde9fb   has status   DONE\n",
      "DEBUG: Checking if NLXRaw(data_root=/home/elijahc/.emu/, file_id=632004388619, file_name=PO_Day_04.CSC22.ncs, save_to=/home/elijahc/.emu/pdil/pt_01/SEEG/raw/, overwrite=False, study=pdil, patient_id=1) is complete\n",
      "INFO: Informed scheduler that task   NLXRaw__home_elijahc__e_632004388619_PO_Day_04_CSC22__930f88cca3   has status   DONE\n",
      "DEBUG: Checking if NLXRaw(data_root=/home/elijahc/.emu/, file_id=632004383819, file_name=PO_Day_04.CSC23.ncs, save_to=/home/elijahc/.emu/pdil/pt_01/SEEG/raw/, overwrite=False, study=pdil, patient_id=1) is complete\n",
      "INFO: Informed scheduler that task   NLXRaw__home_elijahc__e_632004383819_PO_Day_04_CSC23__b9aa927541   has status   DONE\n",
      "DEBUG: Checking if NLXRaw(data_root=/home/elijahc/.emu/, file_id=632004376619, file_name=PO_Day_04.CSC24.ncs, save_to=/home/elijahc/.emu/pdil/pt_01/SEEG/raw/, overwrite=False, study=pdil, patient_id=1) is complete\n",
      "INFO: Informed scheduler that task   NLXRaw__home_elijahc__e_632004376619_PO_Day_04_CSC24__4b23a10d86   has status   DONE\n",
      "DEBUG: Checking if NLXRaw(data_root=/home/elijahc/.emu/, file_id=632004409019, file_name=PO_Day_04.CSC25.ncs, save_to=/home/elijahc/.emu/pdil/pt_01/SEEG/raw/, overwrite=False, study=pdil, patient_id=1) is complete\n",
      "INFO: Informed scheduler that task   NLXRaw__home_elijahc__e_632004409019_PO_Day_04_CSC25__00c1066471   has status   DONE\n",
      "DEBUG: Checking if NLXRaw(data_root=/home/elijahc/.emu/, file_id=632004404219, file_name=PO_Day_04.CSC26.ncs, save_to=/home/elijahc/.emu/pdil/pt_01/SEEG/raw/, overwrite=False, study=pdil, patient_id=1) is complete\n",
      "INFO: Informed scheduler that task   NLXRaw__home_elijahc__e_632004404219_PO_Day_04_CSC26__58de80a9de   has status   DONE\n",
      "DEBUG: Checking if NLXRaw(data_root=/home/elijahc/.emu/, file_id=632004411419, file_name=PO_Day_04.CSC27.ncs, save_to=/home/elijahc/.emu/pdil/pt_01/SEEG/raw/, overwrite=False, study=pdil, patient_id=1) is complete\n",
      "INFO: Informed scheduler that task   NLXRaw__home_elijahc__e_632004411419_PO_Day_04_CSC27__39f74e6e2b   has status   DONE\n",
      "DEBUG: Checking if NLXRaw(data_root=/home/elijahc/.emu/, file_id=632004398219, file_name=PO_Day_04.CSC28.ncs, save_to=/home/elijahc/.emu/pdil/pt_01/SEEG/raw/, overwrite=False, study=pdil, patient_id=1) is complete\n",
      "INFO: Informed scheduler that task   NLXRaw__home_elijahc__e_632004398219_PO_Day_04_CSC28__c7adb6f52f   has status   DONE\n",
      "DEBUG: Checking if NLXRaw(data_root=/home/elijahc/.emu/, file_id=632004382619, file_name=PO_Day_04.CSC29.ncs, save_to=/home/elijahc/.emu/pdil/pt_01/SEEG/raw/, overwrite=False, study=pdil, patient_id=1) is complete\n",
      "INFO: Informed scheduler that task   NLXRaw__home_elijahc__e_632004382619_PO_Day_04_CSC29__f3cc44b309   has status   DONE\n",
      "DEBUG: Checking if NLXRaw(data_root=/home/elijahc/.emu/, file_id=632004406619, file_name=PO_Day_04.CSC3.ncs, save_to=/home/elijahc/.emu/pdil/pt_01/SEEG/raw/, overwrite=False, study=pdil, patient_id=1) is complete\n",
      "INFO: Informed scheduler that task   NLXRaw__home_elijahc__e_632004406619_PO_Day_04_CSC3_n_fb67bc282f   has status   DONE\n",
      "DEBUG: Checking if NLXRaw(data_root=/home/elijahc/.emu/, file_id=632004401819, file_name=PO_Day_04.CSC30.ncs, save_to=/home/elijahc/.emu/pdil/pt_01/SEEG/raw/, overwrite=False, study=pdil, patient_id=1) is complete\n",
      "INFO: Informed scheduler that task   NLXRaw__home_elijahc__e_632004401819_PO_Day_04_CSC30__fde362c9d3   has status   DONE\n",
      "DEBUG: Checking if NLXRaw(data_root=/home/elijahc/.emu/, file_id=632004369419, file_name=PO_Day_04.CSC31.ncs, save_to=/home/elijahc/.emu/pdil/pt_01/SEEG/raw/, overwrite=False, study=pdil, patient_id=1) is complete\n"
     ]
    },
    {
     "name": "stderr",
     "output_type": "stream",
     "text": [
      "INFO: Informed scheduler that task   NLXRaw__home_elijahc__e_632004369419_PO_Day_04_CSC31__459754a80b   has status   DONE\n",
      "DEBUG: Checking if NLXRaw(data_root=/home/elijahc/.emu/, file_id=632004393419, file_name=PO_Day_04.CSC32.ncs, save_to=/home/elijahc/.emu/pdil/pt_01/SEEG/raw/, overwrite=False, study=pdil, patient_id=1) is complete\n",
      "INFO: Informed scheduler that task   NLXRaw__home_elijahc__e_632004393419_PO_Day_04_CSC32__2e9875888f   has status   DONE\n",
      "DEBUG: Checking if NLXRaw(data_root=/home/elijahc/.emu/, file_id=632004380219, file_name=PO_Day_04.CSC33.ncs, save_to=/home/elijahc/.emu/pdil/pt_01/SEEG/raw/, overwrite=False, study=pdil, patient_id=1) is complete\n",
      "INFO: Informed scheduler that task   NLXRaw__home_elijahc__e_632004380219_PO_Day_04_CSC33__106750ae6c   has status   DONE\n",
      "DEBUG: Checking if NLXRaw(data_root=/home/elijahc/.emu/, file_id=631983668328, file_name=PO_Day_04.CSC34.ncs, save_to=/home/elijahc/.emu/pdil/pt_01/SEEG/raw/, overwrite=False, study=pdil, patient_id=1) is complete\n",
      "INFO: Informed scheduler that task   NLXRaw__home_elijahc__e_631983668328_PO_Day_04_CSC34__fe66217423   has status   DONE\n",
      "DEBUG: Checking if NLXRaw(data_root=/home/elijahc/.emu/, file_id=631983707928, file_name=PO_Day_04.CSC35.ncs, save_to=/home/elijahc/.emu/pdil/pt_01/SEEG/raw/, overwrite=False, study=pdil, patient_id=1) is complete\n",
      "INFO: Informed scheduler that task   NLXRaw__home_elijahc__e_631983707928_PO_Day_04_CSC35__9de25ae99c   has status   DONE\n",
      "DEBUG: Checking if NLXRaw(data_root=/home/elijahc/.emu/, file_id=631983682728, file_name=PO_Day_04.CSC36.ncs, save_to=/home/elijahc/.emu/pdil/pt_01/SEEG/raw/, overwrite=False, study=pdil, patient_id=1) is complete\n",
      "INFO: Informed scheduler that task   NLXRaw__home_elijahc__e_631983682728_PO_Day_04_CSC36__7fc63ea707   has status   DONE\n",
      "DEBUG: Checking if NLXRaw(data_root=/home/elijahc/.emu/, file_id=631983688728, file_name=PO_Day_04.CSC37.ncs, save_to=/home/elijahc/.emu/pdil/pt_01/SEEG/raw/, overwrite=False, study=pdil, patient_id=1) is complete\n",
      "INFO: Informed scheduler that task   NLXRaw__home_elijahc__e_631983688728_PO_Day_04_CSC37__4ac7b3dd36   has status   DONE\n",
      "DEBUG: Checking if NLXRaw(data_root=/home/elijahc/.emu/, file_id=631983670728, file_name=PO_Day_04.CSC38.ncs, save_to=/home/elijahc/.emu/pdil/pt_01/SEEG/raw/, overwrite=False, study=pdil, patient_id=1) is complete\n",
      "INFO: Informed scheduler that task   NLXRaw__home_elijahc__e_631983670728_PO_Day_04_CSC38__cb3c9591db   has status   DONE\n",
      "DEBUG: Checking if NLXRaw(data_root=/home/elijahc/.emu/, file_id=631983698328, file_name=PO_Day_04.CSC39.ncs, save_to=/home/elijahc/.emu/pdil/pt_01/SEEG/raw/, overwrite=False, study=pdil, patient_id=1) is complete\n",
      "INFO: Informed scheduler that task   NLXRaw__home_elijahc__e_631983698328_PO_Day_04_CSC39__d90f2ffeee   has status   DONE\n",
      "DEBUG: Checking if NLXRaw(data_root=/home/elijahc/.emu/, file_id=631983703128, file_name=PO_Day_04.CSC4.ncs, save_to=/home/elijahc/.emu/pdil/pt_01/SEEG/raw/, overwrite=False, study=pdil, patient_id=1) is complete\n",
      "INFO: Informed scheduler that task   NLXRaw__home_elijahc__e_631983703128_PO_Day_04_CSC4_n_59f275714f   has status   DONE\n",
      "DEBUG: Checking if NLXRaw(data_root=/home/elijahc/.emu/, file_id=631983685128, file_name=PO_Day_04.CSC40.ncs, save_to=/home/elijahc/.emu/pdil/pt_01/SEEG/raw/, overwrite=False, study=pdil, patient_id=1) is complete\n",
      "INFO: Informed scheduler that task   NLXRaw__home_elijahc__e_631983685128_PO_Day_04_CSC40__a19f6414b0   has status   DONE\n",
      "DEBUG: Checking if NLXRaw(data_root=/home/elijahc/.emu/, file_id=631983693528, file_name=PO_Day_04.CSC41.ncs, save_to=/home/elijahc/.emu/pdil/pt_01/SEEG/raw/, overwrite=False, study=pdil, patient_id=1) is complete\n",
      "INFO: Informed scheduler that task   NLXRaw__home_elijahc__e_631983693528_PO_Day_04_CSC41__f80afa2e46   has status   DONE\n",
      "DEBUG: Checking if NLXRaw(data_root=/home/elijahc/.emu/, file_id=631983711528, file_name=PO_Day_04.CSC42.ncs, save_to=/home/elijahc/.emu/pdil/pt_01/SEEG/raw/, overwrite=False, study=pdil, patient_id=1) is complete\n",
      "INFO: Informed scheduler that task   NLXRaw__home_elijahc__e_631983711528_PO_Day_04_CSC42__9e22d4f0a7   has status   DONE\n",
      "DEBUG: Checking if NLXRaw(data_root=/home/elijahc/.emu/, file_id=631983694728, file_name=PO_Day_04.CSC43.ncs, save_to=/home/elijahc/.emu/pdil/pt_01/SEEG/raw/, overwrite=False, study=pdil, patient_id=1) is complete\n",
      "INFO: Informed scheduler that task   NLXRaw__home_elijahc__e_631983694728_PO_Day_04_CSC43__2e24d53044   has status   DONE\n",
      "DEBUG: Checking if NLXRaw(data_root=/home/elijahc/.emu/, file_id=631983667128, file_name=PO_Day_04.CSC44.ncs, save_to=/home/elijahc/.emu/pdil/pt_01/SEEG/raw/, overwrite=False, study=pdil, patient_id=1) is complete\n",
      "INFO: Informed scheduler that task   NLXRaw__home_elijahc__e_631983667128_PO_Day_04_CSC44__f20b8e6014   has status   DONE\n",
      "DEBUG: Checking if NLXRaw(data_root=/home/elijahc/.emu/, file_id=631983675528, file_name=PO_Day_04.CSC45.ncs, save_to=/home/elijahc/.emu/pdil/pt_01/SEEG/raw/, overwrite=False, study=pdil, patient_id=1) is complete\n",
      "INFO: Informed scheduler that task   NLXRaw__home_elijahc__e_631983675528_PO_Day_04_CSC45__8ddf8a93d5   has status   DONE\n",
      "DEBUG: Checking if NLXRaw(data_root=/home/elijahc/.emu/, file_id=631983700728, file_name=PO_Day_04.CSC46.ncs, save_to=/home/elijahc/.emu/pdil/pt_01/SEEG/raw/, overwrite=False, study=pdil, patient_id=1) is complete\n",
      "INFO: Informed scheduler that task   NLXRaw__home_elijahc__e_631983700728_PO_Day_04_CSC46__e962359e80   has status   DONE\n",
      "DEBUG: Checking if NLXRaw(data_root=/home/elijahc/.emu/, file_id=631983705528, file_name=PO_Day_04.CSC47.ncs, save_to=/home/elijahc/.emu/pdil/pt_01/SEEG/raw/, overwrite=False, study=pdil, patient_id=1) is complete\n",
      "INFO: Informed scheduler that task   NLXRaw__home_elijahc__e_631983705528_PO_Day_04_CSC47__835e8481b8   has status   DONE\n",
      "DEBUG: Checking if NLXRaw(data_root=/home/elijahc/.emu/, file_id=631983677928, file_name=PO_Day_04.CSC48.ncs, save_to=/home/elijahc/.emu/pdil/pt_01/SEEG/raw/, overwrite=False, study=pdil, patient_id=1) is complete\n",
      "INFO: Informed scheduler that task   NLXRaw__home_elijahc__e_631983677928_PO_Day_04_CSC48__81ae2664d8   has status   DONE\n",
      "DEBUG: Checking if NLXRaw(data_root=/home/elijahc/.emu/, file_id=631983683928, file_name=PO_Day_04.CSC49.ncs, save_to=/home/elijahc/.emu/pdil/pt_01/SEEG/raw/, overwrite=False, study=pdil, patient_id=1) is complete\n",
      "INFO: Informed scheduler that task   NLXRaw__home_elijahc__e_631983683928_PO_Day_04_CSC49__ebe945410b   has status   DONE\n",
      "DEBUG: Checking if NLXRaw(data_root=/home/elijahc/.emu/, file_id=631983680328, file_name=PO_Day_04.CSC5.ncs, save_to=/home/elijahc/.emu/pdil/pt_01/SEEG/raw/, overwrite=False, study=pdil, patient_id=1) is complete\n",
      "INFO: Informed scheduler that task   NLXRaw__home_elijahc__e_631983680328_PO_Day_04_CSC5_n_9b9c625e28   has status   DONE\n",
      "DEBUG: Checking if NLXRaw(data_root=/home/elijahc/.emu/, file_id=631983697128, file_name=PO_Day_04.CSC50.ncs, save_to=/home/elijahc/.emu/pdil/pt_01/SEEG/raw/, overwrite=False, study=pdil, patient_id=1) is complete\n",
      "INFO: Informed scheduler that task   NLXRaw__home_elijahc__e_631983697128_PO_Day_04_CSC50__31a380bc0a   has status   DONE\n",
      "DEBUG: Checking if NLXRaw(data_root=/home/elijahc/.emu/, file_id=631983673128, file_name=PO_Day_04.CSC6.ncs, save_to=/home/elijahc/.emu/pdil/pt_01/SEEG/raw/, overwrite=False, study=pdil, patient_id=1) is complete\n",
      "INFO: Informed scheduler that task   NLXRaw__home_elijahc__e_631983673128_PO_Day_04_CSC6_n_996357d39e   has status   DONE\n",
      "DEBUG: Checking if NLXRaw(data_root=/home/elijahc/.emu/, file_id=632004588221, file_name=PO_Day_04.CSC7.ncs, save_to=/home/elijahc/.emu/pdil/pt_01/SEEG/raw/, overwrite=False, study=pdil, patient_id=1) is complete\n",
      "INFO: Informed scheduler that task   NLXRaw__home_elijahc__e_632004588221_PO_Day_04_CSC7_n_7ee7730a8b   has status   DONE\n",
      "DEBUG: Checking if NLXRaw(data_root=/home/elijahc/.emu/, file_id=632004585821, file_name=PO_Day_04.CSC8.ncs, save_to=/home/elijahc/.emu/pdil/pt_01/SEEG/raw/, overwrite=False, study=pdil, patient_id=1) is complete\n",
      "INFO: Informed scheduler that task   NLXRaw__home_elijahc__e_632004585821_PO_Day_04_CSC8_n_18d06b43a2   has status   DONE\n",
      "DEBUG: Checking if NLXRaw(data_root=/home/elijahc/.emu/, file_id=632004576221, file_name=PO_Day_04.CSC9.ncs, save_to=/home/elijahc/.emu/pdil/pt_01/SEEG/raw/, overwrite=False, study=pdil, patient_id=1) is complete\n"
     ]
    },
    {
     "name": "stderr",
     "output_type": "stream",
     "text": [
      "INFO: Informed scheduler that task   NLXRaw__home_elijahc__e_632004576221_PO_Day_04_CSC9_n_5a0c196a53   has status   DONE\n",
      "DEBUG: Checking if NLXRaw(data_root=/home/elijahc/.emu/, file_id=632004571421, file_name=PO_Day_04.Events.nev, save_to=/home/elijahc/.emu/pdil/pt_01/SEEG/raw/, overwrite=False, study=pdil, patient_id=1) is complete\n",
      "INFO: Informed scheduler that task   NLXRaw__home_elijahc__e_632004571421_PO_Day_04_Events_9bfcf0a1e6   has status   DONE\n",
      "INFO: Done scheduling tasks\n",
      "INFO: Running Worker with 4 processes\n",
      "DEBUG: Asking scheduler for work...\n",
      "DEBUG: Done\n",
      "DEBUG: There are no more tasks to run at this time\n",
      "INFO: Worker Worker(salt=004785645, workers=4, host=jatlab-remote, username=elijahc, pid=53291) was stopped. Shutting down Keep-Alive thread\n",
      "INFO: \n",
      "===== Luigi Execution Summary =====\n",
      "\n",
      "Scheduled 51 tasks of which:\n",
      "* 51 complete ones were encountered:\n",
      "    - 51 NLXRaw(data_root=/home/elijahc/.emu/, file_id=631983667128, file_name=PO_Day_04.CSC44.ncs, save_to=/home/elijahc/.emu/pdil/pt_01/SEEG/raw/, overwrite=False, study=pdil, patient_id=1) ...\n",
      "\n",
      "Did not run any tasks\n",
      "This progress looks :) because there were no failed tasks or missing dependencies\n",
      "\n",
      "===== Luigi Execution Summary =====\n",
      "\n"
     ]
    },
    {
     "data": {
      "text/plain": [
       "True"
      ]
     },
     "execution_count": 6,
     "metadata": {},
     "output_type": "execute_result"
    }
   ],
   "source": [
    "# Make sure the files are cached locally\n",
    "luigi.build(d4_tasks+[d4_nev_task],workers=4)"
   ]
  },
  {
   "cell_type": "code",
   "execution_count": 7,
   "metadata": {},
   "outputs": [
    {
     "name": "stderr",
     "output_type": "stream",
     "text": [
      "adding to nwb: 0it [00:00, ?it/s]\n",
      "compressing channels:   0%|          | 0/49 [00:00<?, ?it/s]\u001b[A"
     ]
    },
    {
     "name": "stdout",
     "output_type": "stream",
     "text": [
      "\n",
      "4  blocks\n",
      "\n"
     ]
    },
    {
     "name": "stderr",
     "output_type": "stream",
     "text": [
      "\n",
      "compressing channels:   2%|▏         | 1/49 [00:01<00:49,  1.04s/it]\u001b[A\n",
      "compressing channels:   4%|▍         | 2/49 [00:02<00:49,  1.05s/it]\u001b[A\n",
      "compressing channels:   6%|▌         | 3/49 [00:03<00:48,  1.05s/it]\u001b[A\n",
      "compressing channels:   8%|▊         | 4/49 [00:04<00:47,  1.05s/it]\u001b[A\n",
      "compressing channels:  10%|█         | 5/49 [00:05<00:46,  1.05s/it]\u001b[A\n",
      "compressing channels:  12%|█▏        | 6/49 [00:06<00:45,  1.05s/it]\u001b[A\n",
      "compressing channels:  14%|█▍        | 7/49 [00:07<00:44,  1.06s/it]\u001b[A"
     ]
    },
    {
     "name": "stdout",
     "output_type": "stream",
     "text": [
      "Error loading PO_Day_04.CSC17.ncs\n",
      "skipping...\n"
     ]
    },
    {
     "name": "stderr",
     "output_type": "stream",
     "text": [
      "\n",
      "compressing channels:  18%|█▊        | 9/49 [00:08<00:36,  1.11it/s]\u001b[A\n",
      "compressing channels:  20%|██        | 10/49 [00:09<00:37,  1.05it/s]\u001b[A\n",
      "compressing channels:  22%|██▏       | 11/49 [00:10<00:37,  1.02it/s]\u001b[A\n",
      "compressing channels:  24%|██▍       | 12/49 [00:11<00:37,  1.01s/it]\u001b[A\n",
      "compressing channels:  27%|██▋       | 13/49 [00:12<00:36,  1.02s/it]\u001b[A\n",
      "compressing channels:  29%|██▊       | 14/49 [00:13<00:36,  1.04s/it]\u001b[A\n",
      "compressing channels:  31%|███       | 15/49 [00:14<00:35,  1.04s/it]\u001b[A\n",
      "compressing channels:  33%|███▎      | 16/49 [00:15<00:34,  1.05s/it]\u001b[A\n",
      "compressing channels:  35%|███▍      | 17/49 [00:16<00:33,  1.05s/it]\u001b[A\n",
      "compressing channels:  37%|███▋      | 18/49 [00:18<00:32,  1.05s/it]\u001b[A\n",
      "compressing channels:  39%|███▉      | 19/49 [00:19<00:31,  1.05s/it]\u001b[A\n",
      "compressing channels:  41%|████      | 20/49 [00:20<00:30,  1.06s/it]\u001b[A\n",
      "compressing channels:  43%|████▎     | 21/49 [00:21<00:29,  1.06s/it]\u001b[A\n",
      "compressing channels:  45%|████▍     | 22/49 [00:22<00:28,  1.06s/it]\u001b[A\n",
      "compressing channels:  47%|████▋     | 23/49 [00:23<00:27,  1.06s/it]\u001b[A\n",
      "compressing channels:  49%|████▉     | 24/49 [00:24<00:26,  1.06s/it]\u001b[A\n",
      "compressing channels:  51%|█████     | 25/49 [00:25<00:25,  1.06s/it]\u001b[A\n",
      "compressing channels:  53%|█████▎    | 26/49 [00:26<00:24,  1.06s/it]\u001b[A\n",
      "compressing channels:  55%|█████▌    | 27/49 [00:27<00:23,  1.06s/it]\u001b[A\n",
      "compressing channels:  57%|█████▋    | 28/49 [00:28<00:22,  1.05s/it]\u001b[A\n",
      "compressing channels:  59%|█████▉    | 29/49 [00:29<00:21,  1.05s/it]\u001b[A\n",
      "compressing channels:  61%|██████    | 30/49 [00:30<00:20,  1.05s/it]\u001b[A\n",
      "compressing channels:  63%|██████▎   | 31/49 [00:31<00:18,  1.05s/it]\u001b[A\n",
      "compressing channels:  65%|██████▌   | 32/49 [00:32<00:17,  1.05s/it]\u001b[A\n",
      "compressing channels:  67%|██████▋   | 33/49 [00:33<00:16,  1.05s/it]\u001b[A\n",
      "compressing channels:  69%|██████▉   | 34/49 [00:34<00:15,  1.05s/it]\u001b[A\n",
      "compressing channels:  71%|███████▏  | 35/49 [00:35<00:14,  1.05s/it]\u001b[A\n",
      "compressing channels:  73%|███████▎  | 36/49 [00:36<00:13,  1.05s/it]\u001b[A\n",
      "compressing channels:  76%|███████▌  | 37/49 [00:38<00:12,  1.05s/it]\u001b[A\n",
      "compressing channels:  78%|███████▊  | 38/49 [00:39<00:11,  1.05s/it]\u001b[A\n",
      "compressing channels:  80%|███████▉  | 39/49 [00:40<00:10,  1.05s/it]\u001b[A\n",
      "compressing channels:  82%|████████▏ | 40/49 [00:41<00:09,  1.05s/it]\u001b[A\n",
      "compressing channels:  84%|████████▎ | 41/49 [00:42<00:08,  1.05s/it]\u001b[A\n",
      "compressing channels:  86%|████████▌ | 42/49 [00:43<00:07,  1.05s/it]\u001b[A\n",
      "compressing channels:  88%|████████▊ | 43/49 [00:44<00:06,  1.05s/it]\u001b[A\n",
      "compressing channels:  90%|████████▉ | 44/49 [00:45<00:05,  1.06s/it]\u001b[A\n",
      "compressing channels:  92%|█████████▏| 45/49 [00:46<00:04,  1.05s/it]\u001b[A\n",
      "compressing channels:  94%|█████████▍| 46/49 [00:47<00:03,  1.05s/it]\u001b[A\n",
      "compressing channels:  96%|█████████▌| 47/49 [00:48<00:02,  1.05s/it]\u001b[A\n",
      "compressing channels:  98%|█████████▊| 48/49 [00:49<00:01,  1.05s/it]\u001b[A\n",
      "compressing channels: 100%|██████████| 49/49 [00:50<00:00,  1.03s/it]\u001b[A\n",
      "adding to nwb: 49it [00:50,  1.04s/it]\n",
      "DEBUG: Checking if BehaviorRaw(data_root=/home/elijahc/.emu/, file_id=629615908637, file_name=blockNum_3_computerTT_defect_taskoutput.mat, save_to=/home/elijahc/.emu/pdil/pt_01/Behavior/raw, overwrite=False, study=pdil, patient_id=1) is complete\n",
      "INFO: Informed scheduler that task   BehaviorRaw__home_elijahc__e_629615908637_blockNum_3_compu_3484a4f2e7   has status   DONE\n",
      "DEBUG: Checking if BehaviorRaw(data_root=/home/elijahc/.emu/, file_id=629620274728, file_name=blockNum_4_humanTT_defect_taskoutput.mat, save_to=/home/elijahc/.emu/pdil/pt_01/Behavior/raw, overwrite=False, study=pdil, patient_id=1) is complete\n",
      "INFO: Informed scheduler that task   BehaviorRaw__home_elijahc__e_629620274728_blockNum_4_human_73d59337a6   has status   DONE\n",
      "DEBUG: Checking if BehaviorRaw(data_root=/home/elijahc/.emu/, file_id=629611713944, file_name=blockNum_5_humanTT_coop_taskoutput.mat, save_to=/home/elijahc/.emu/pdil/pt_01/Behavior/raw, overwrite=False, study=pdil, patient_id=1) is complete\n",
      "INFO: Informed scheduler that task   BehaviorRaw__home_elijahc__e_629611713944_blockNum_5_human_f8bc22e326   has status   DONE\n",
      "DEBUG: Checking if BehaviorRaw(data_root=/home/elijahc/.emu/, file_id=629611688205, file_name=blockNum_6_computerTT_coop_taskoutput.mat, save_to=/home/elijahc/.emu/pdil/pt_01/Behavior/raw, overwrite=False, study=pdil, patient_id=1) is complete\n",
      "INFO: Informed scheduler that task   BehaviorRaw__home_elijahc__e_629611688205_blockNum_6_compu_6d349f3ed7   has status   DONE\n",
      "DEBUG: Checking if BehaviorRaw(data_root=/home/elijahc/.emu/, file_id=628721484958, file_name=blockNum_1_computerTT_coop_taskoutput.mat, save_to=/home/elijahc/.emu/pdil/pt_01/Behavior/raw, overwrite=False, study=pdil, patient_id=1) is complete\n",
      "INFO: Informed scheduler that task   BehaviorRaw__home_elijahc__e_628721484958_blockNum_1_compu_150bb434cd   has status   DONE\n",
      "DEBUG: Checking if BehaviorRaw(data_root=/home/elijahc/.emu/, file_id=628728186668, file_name=blockNum_2_humanTT_coop_taskoutput.mat, save_to=/home/elijahc/.emu/pdil/pt_01/Behavior/raw, overwrite=False, study=pdil, patient_id=1) is complete\n",
      "INFO: Informed scheduler that task   BehaviorRaw__home_elijahc__e_628728186668_blockNum_2_human_389eb2df64   has status   DONE\n",
      "DEBUG: Checking if BehaviorRaw(data_root=/home/elijahc/.emu/, file_id=628698648907, file_name=PRACTICE_blockNum_0 _taskoutput.mat, save_to=/home/elijahc/.emu/pdil/pt_01/Behavior/raw, overwrite=False, study=pdil, patient_id=1) is complete\n",
      "INFO: Informed scheduler that task   BehaviorRaw__home_elijahc__e_628698648907_PRACTICE_blockNu_7e1df55bbe   has status   DONE\n",
      "INFO: Done scheduling tasks\n",
      "INFO: Running Worker with 1 processes\n",
      "DEBUG: Asking scheduler for work...\n",
      "DEBUG: Done\n",
      "DEBUG: There are no more tasks to run at this time\n",
      "INFO: Worker Worker(salt=821012769, workers=1, host=jatlab-remote, username=elijahc, pid=53291) was stopped. Shutting down Keep-Alive thread\n",
      "INFO: \n",
      "===== Luigi Execution Summary =====\n",
      "\n",
      "Scheduled 7 tasks of which:\n",
      "* 7 complete ones were encountered:\n",
      "    - 7 BehaviorRaw(...)\n",
      "\n",
      "Did not run any tasks\n",
      "This progress looks :) because there were no failed tasks or missing dependencies\n",
      "\n",
      "===== Luigi Execution Summary =====\n",
      "\n"
     ]
    },
    {
     "name": "stdout",
     "output_type": "stream",
     "text": [
      "Failed to load:  channel_15\n"
     ]
    }
   ],
   "source": [
    "nwb = p.create_nwb(nev_path,ncs_paths,'Patient 1 | Post-op Day 4')"
   ]
  },
  {
   "cell_type": "code",
   "execution_count": 8,
   "metadata": {},
   "outputs": [
    {
     "data": {
      "text/plain": [
       "root pynwb.file.NWBFile at 0x140101569419528\n",
       "Fields:\n",
       "  acquisition: {\n",
       "    channel_0 <class 'pynwb.base.TimeSeries'>,\n",
       "    channel_1 <class 'pynwb.base.TimeSeries'>,\n",
       "    channel_10 <class 'pynwb.base.TimeSeries'>,\n",
       "    channel_11 <class 'pynwb.base.TimeSeries'>,\n",
       "    channel_12 <class 'pynwb.base.TimeSeries'>,\n",
       "    channel_13 <class 'pynwb.base.TimeSeries'>,\n",
       "    channel_14 <class 'pynwb.base.TimeSeries'>,\n",
       "    channel_15 <class 'pynwb.base.TimeSeries'>,\n",
       "    channel_17 <class 'pynwb.base.TimeSeries'>,\n",
       "    channel_18 <class 'pynwb.base.TimeSeries'>,\n",
       "    channel_19 <class 'pynwb.base.TimeSeries'>,\n",
       "    channel_2 <class 'pynwb.base.TimeSeries'>,\n",
       "    channel_20 <class 'pynwb.base.TimeSeries'>,\n",
       "    channel_21 <class 'pynwb.base.TimeSeries'>,\n",
       "    channel_22 <class 'pynwb.base.TimeSeries'>,\n",
       "    channel_23 <class 'pynwb.base.TimeSeries'>,\n",
       "    channel_24 <class 'pynwb.base.TimeSeries'>,\n",
       "    channel_25 <class 'pynwb.base.TimeSeries'>,\n",
       "    channel_26 <class 'pynwb.base.TimeSeries'>,\n",
       "    channel_27 <class 'pynwb.base.TimeSeries'>,\n",
       "    channel_28 <class 'pynwb.base.TimeSeries'>,\n",
       "    channel_29 <class 'pynwb.base.TimeSeries'>,\n",
       "    channel_3 <class 'pynwb.base.TimeSeries'>,\n",
       "    channel_30 <class 'pynwb.base.TimeSeries'>,\n",
       "    channel_31 <class 'pynwb.base.TimeSeries'>,\n",
       "    channel_32 <class 'pynwb.base.TimeSeries'>,\n",
       "    channel_33 <class 'pynwb.base.TimeSeries'>,\n",
       "    channel_34 <class 'pynwb.base.TimeSeries'>,\n",
       "    channel_35 <class 'pynwb.base.TimeSeries'>,\n",
       "    channel_36 <class 'pynwb.base.TimeSeries'>,\n",
       "    channel_37 <class 'pynwb.base.TimeSeries'>,\n",
       "    channel_38 <class 'pynwb.base.TimeSeries'>,\n",
       "    channel_39 <class 'pynwb.base.TimeSeries'>,\n",
       "    channel_4 <class 'pynwb.base.TimeSeries'>,\n",
       "    channel_40 <class 'pynwb.base.TimeSeries'>,\n",
       "    channel_41 <class 'pynwb.base.TimeSeries'>,\n",
       "    channel_42 <class 'pynwb.base.TimeSeries'>,\n",
       "    channel_43 <class 'pynwb.base.TimeSeries'>,\n",
       "    channel_44 <class 'pynwb.base.TimeSeries'>,\n",
       "    channel_45 <class 'pynwb.base.TimeSeries'>,\n",
       "    channel_46 <class 'pynwb.base.TimeSeries'>,\n",
       "    channel_47 <class 'pynwb.base.TimeSeries'>,\n",
       "    channel_48 <class 'pynwb.base.TimeSeries'>,\n",
       "    channel_49 <class 'pynwb.base.TimeSeries'>,\n",
       "    channel_5 <class 'pynwb.base.TimeSeries'>,\n",
       "    channel_6 <class 'pynwb.base.TimeSeries'>,\n",
       "    channel_7 <class 'pynwb.base.TimeSeries'>,\n",
       "    channel_8 <class 'pynwb.base.TimeSeries'>,\n",
       "    channel_9 <class 'pynwb.base.TimeSeries'>,\n",
       "    ttl <class 'pynwb.misc.AnnotationSeries'>\n",
       "  }\n",
       "  file_create_date: [datetime.datetime(2020, 3, 12, 13, 1, 11, 286801, tzinfo=tzlocal())]\n",
       "  identifier: 8cb63e88-69f5-480a-b894-ef5fbc9040ab\n",
       "  session_description: Patient 1 | Post-op Day 4\n",
       "  session_start_time: 2020-03-06 12:37:10.586191+00:00\n",
       "  timestamps_reference_time: 2020-03-06 12:37:10.586191+00:00\n",
       "  trials: trials <class 'pynwb.epoch.TimeIntervals'>"
      ]
     },
     "execution_count": 8,
     "metadata": {},
     "output_type": "execute_result"
    }
   ],
   "source": [
    "nwb"
   ]
  },
  {
   "cell_type": "code",
   "execution_count": 9,
   "metadata": {},
   "outputs": [
    {
     "data": {
      "text/plain": [
       "ttl pynwb.misc.AnnotationSeries at 0x140098031971464\n",
       "Fields:\n",
       "  comments: no comments\n",
       "  conversion: 1.0\n",
       "  data: ['block_start' 'block_start' 'trial_start' 'trial_start' 'trial_start'\n",
       " 'trial_start' 'trial_start' 'trial_start' 'trial_start' 'trial_start'\n",
       " 'trial_start' 'trial_start' 'trial_start' 'trial_start' 'trial_start'\n",
       " 'trial_start' 'trial_start' 'block_start' 'block_start' 'trial_start'\n",
       " 'trial_start' 'trial_start' 'trial_start' 'trial_start' 'trial_start'\n",
       " 'trial_start' 'trial_start' 'trial_start' 'trial_start' 'trial_start'\n",
       " 'trial_start' 'trial_start' 'trial_start' 'trial_start' 'block_start'\n",
       " 'block_start' 'trial_start' 'trial_start' 'trial_start' 'trial_start'\n",
       " 'trial_start' 'trial_start' 'trial_start' 'trial_start' 'trial_start'\n",
       " 'trial_start' 'trial_start' 'trial_start' 'trial_start' 'trial_start'\n",
       " 'trial_start' 'block_start' 'block_start' 'trial_start' 'trial_start'\n",
       " 'trial_start' 'trial_start' 'trial_start' 'trial_start' 'trial_start'\n",
       " 'trial_start' 'trial_start' 'trial_start' 'trial_start' 'trial_start'\n",
       " 'trial_start' 'trial_start' 'trial_start']\n",
       "  description: no description\n",
       "  interval: 1\n",
       "  resolution: -1.0\n",
       "  timestamps: [ 189.20450211  189.42118907  208.70411897  225.63711214  240.27013803\n",
       "  254.53653812  268.65293908  303.03561211  323.10191703  337.35162997\n",
       "  352.28468609  366.96774316  399.867136    416.366817    430.5832181\n",
       "  445.26627398  460.26601815  541.94782901  542.16448498  638.51263404\n",
       "  654.26234603  669.07871604  684.29511595  698.69482899  723.02769399\n",
       "  737.94409394  751.49383903  764.07695913  779.29332805  820.29259205\n",
       "  838.05892897  855.44195294  870.77501011  887.5247221  1022.13891816\n",
       " 1022.35557413 1039.13859797 1054.52162313 1069.27136707 1084.07107997\n",
       " 1101.88741708 1129.23693705 1147.30327415 1164.36964202 1182.35263395\n",
       " 1197.15237808 1229.03514695 1246.95148396 1261.48457098 1275.16766\n",
       " 1289.95071602 1357.68284512 1357.89950109 1380.91574216 1395.56548595\n",
       " 1409.24854302 1424.06494403 1439.28134418 1463.69755316 1479.03060913\n",
       " 1495.48032117 1513.89665794 1532.26299405 1575.46219516 1591.67856407\n",
       " 1605.31165195 1619.09474015 1632.16117311]\n",
       "  timestamps_unit: seconds\n",
       "  unit: n/a"
      ]
     },
     "execution_count": 9,
     "metadata": {},
     "output_type": "execute_result"
    }
   ],
   "source": [
    "nwb.acquisition['ttl']"
   ]
  },
  {
   "cell_type": "code",
   "execution_count": 10,
   "metadata": {},
   "outputs": [
    {
     "data": {
      "text/html": [
       "<div>\n",
       "<style scoped>\n",
       "    .dataframe tbody tr th:only-of-type {\n",
       "        vertical-align: middle;\n",
       "    }\n",
       "\n",
       "    .dataframe tbody tr th {\n",
       "        vertical-align: top;\n",
       "    }\n",
       "\n",
       "    .dataframe thead th {\n",
       "        text-align: right;\n",
       "    }\n",
       "</style>\n",
       "<table border=\"1\" class=\"dataframe\">\n",
       "  <thead>\n",
       "    <tr style=\"text-align: right;\">\n",
       "      <th></th>\n",
       "      <th>start_time</th>\n",
       "      <th>stop_time</th>\n",
       "      <th>outcome</th>\n",
       "    </tr>\n",
       "    <tr>\n",
       "      <th>id</th>\n",
       "      <th></th>\n",
       "      <th></th>\n",
       "      <th></th>\n",
       "    </tr>\n",
       "  </thead>\n",
       "  <tbody>\n",
       "    <tr>\n",
       "      <th>0</th>\n",
       "      <td>208.704119</td>\n",
       "      <td>225.619469</td>\n",
       "      <td>C-C</td>\n",
       "    </tr>\n",
       "    <tr>\n",
       "      <th>1</th>\n",
       "      <td>225.637112</td>\n",
       "      <td>240.257794</td>\n",
       "      <td>C-C</td>\n",
       "    </tr>\n",
       "    <tr>\n",
       "      <th>2</th>\n",
       "      <td>240.270138</td>\n",
       "      <td>254.523553</td>\n",
       "      <td>D-C</td>\n",
       "    </tr>\n",
       "    <tr>\n",
       "      <th>3</th>\n",
       "      <td>254.536538</td>\n",
       "      <td>268.636368</td>\n",
       "      <td>C-D</td>\n",
       "    </tr>\n",
       "    <tr>\n",
       "      <th>4</th>\n",
       "      <td>268.652939</td>\n",
       "      <td>303.003493</td>\n",
       "      <td>D-C</td>\n",
       "    </tr>\n",
       "  </tbody>\n",
       "</table>\n",
       "</div>"
      ],
      "text/plain": [
       "    start_time   stop_time outcome\n",
       "id                                \n",
       "0   208.704119  225.619469     C-C\n",
       "1   225.637112  240.257794     C-C\n",
       "2   240.270138  254.523553     D-C\n",
       "3   254.536538  268.636368     C-D\n",
       "4   268.652939  303.003493     D-C"
      ]
     },
     "execution_count": 10,
     "metadata": {},
     "output_type": "execute_result"
    }
   ],
   "source": [
    "nwb.trials.to_dataframe().head()"
   ]
  },
  {
   "cell_type": "code",
   "execution_count": 11,
   "metadata": {},
   "outputs": [],
   "source": [
    "with NWBHDF5IO(os.path.join(seeg_root,'..','processed','PO_Day_04.nwb'),'w') as io:\n",
    "    io.write(nwb)"
   ]
  },
  {
   "cell_type": "code",
   "execution_count": null,
   "metadata": {},
   "outputs": [],
   "source": []
  }
 ],
 "metadata": {
  "kernelspec": {
   "display_name": "Python 3",
   "language": "python",
   "name": "python3"
  },
  "language_info": {
   "codemirror_mode": {
    "name": "ipython",
    "version": 3
   },
   "file_extension": ".py",
   "mimetype": "text/x-python",
   "name": "python",
   "nbconvert_exporter": "python",
   "pygments_lexer": "ipython3",
   "version": "3.6.8"
  }
 },
 "nbformat": 4,
 "nbformat_minor": 4
}
