{
 "cells": [
  {
   "cell_type": "code",
   "execution_count": 1,
   "metadata": {},
   "outputs": [],
   "source": [
    "import os\n",
    "import luigi\n",
    "import io\n",
    "import pandas as pd\n",
    "import numpy as np\n",
    "from emu.pipeline.download import FileManifest,PatientsLocal,CacheTaskOutput\n",
    "from emu.pipeline.remote import RemotePatientManifest,RemoteCSV,Patients\n",
    "# from emu.pipeline.utils import file_ids_by_channel\n",
    "from emu.luigi.box import BoxTarget, path_to_fid\n",
    "from emu.pipeline.process import PDilTask\n",
    "from emu.utils import get_file_manifest,load_patients,Experiment\n",
    "from emu.auth import jwt\n",
    "from emu.pdil.raw import download_experiment, PDilRaw"
   ]
  },
  {
   "cell_type": "code",
   "execution_count": 2,
   "metadata": {},
   "outputs": [],
   "source": [
    "root_dir = os.path.expanduser('~/.emu/')"
   ]
  },
  {
   "cell_type": "code",
   "execution_count": 3,
   "metadata": {},
   "outputs": [
    {
     "name": "stderr",
     "output_type": "stream",
     "text": [
      "pt_01: 100%|██████████| 5/5 [00:00<00:00, 12.39it/s]\n",
      "PT01_postOpDay4_PDil: 100%|██████████| 8/8 [00:00<00:00, 18.48it/s]\n",
      "PT01_postOpDay2_PDil: 100%|██████████| 5/5 [00:00<00:00, 15.10it/s]"
     ]
    },
    {
     "name": "stdout",
     "output_type": "stream",
     "text": [
      "filtering for taskoutput files\n",
      "downloading...\n"
     ]
    },
    {
     "name": "stderr",
     "output_type": "stream",
     "text": [
      "\n",
      "/usr/local/lib/python3.6/dist-packages/luigi/parameter.py:283: UserWarning: Parameter \"save_to\" with value \"None\" is not of type string.\n",
      "  warnings.warn('Parameter \"{}\" with value \"{}\" is not of type string.'.format(param_name, param_value))\n"
     ]
    },
    {
     "data": {
      "text/plain": [
       "[PDilRaw(file_id=629615908637, file_name=blockNum_3_computerTT_defect_taskoutput.mat, overwrite=False, data_root=/home/elijahc/.emu/, study=pdil, patient_id=1, save_to=None),\n",
       " PDilRaw(file_id=629620274728, file_name=blockNum_4_humanTT_defect_taskoutput.mat, overwrite=False, data_root=/home/elijahc/.emu/, study=pdil, patient_id=1, save_to=None),\n",
       " PDilRaw(file_id=629611713944, file_name=blockNum_5_humanTT_coop_taskoutput.mat, overwrite=False, data_root=/home/elijahc/.emu/, study=pdil, patient_id=1, save_to=None),\n",
       " PDilRaw(file_id=629611688205, file_name=blockNum_6_computerTT_coop_taskoutput.mat, overwrite=False, data_root=/home/elijahc/.emu/, study=pdil, patient_id=1, save_to=None),\n",
       " PDilRaw(file_id=628721484958, file_name=blockNum_1_computerTT_coop_taskoutput.mat, overwrite=False, data_root=/home/elijahc/.emu/, study=pdil, patient_id=1, save_to=None),\n",
       " PDilRaw(file_id=628728186668, file_name=blockNum_2_humanTT_coop_taskoutput.mat, overwrite=False, data_root=/home/elijahc/.emu/, study=pdil, patient_id=1, save_to=None),\n",
       " PDilRaw(file_id=628698648907, file_name=PRACTICE_blockNum_0 _taskoutput.mat, overwrite=False, data_root=/home/elijahc/.emu/, study=pdil, patient_id=1, save_to=None)]"
      ]
     },
     "execution_count": 3,
     "metadata": {},
     "output_type": "execute_result"
    }
   ],
   "source": [
    "downloaded_files = download_experiment(patient_id=1)\n",
    "downloaded_files\n",
    "# ef = exp.files()\n",
    "# ef.head()"
   ]
  },
  {
   "cell_type": "code",
   "execution_count": null,
   "metadata": {},
   "outputs": [],
   "source": [
    "fm = BoxTarget(path='/EMU/_patient_manifest.csv')\n",
    "# with fm_output.open('r') as infile:\n",
    "#     files = pd.read_csv(infile,dtype={'filename':str,'type':str, 'id':np.int,'path':str})"
   ]
  },
  {
   "cell_type": "code",
   "execution_count": null,
   "metadata": {},
   "outputs": [],
   "source": [
    "exp._patient_manifest"
   ]
  },
  {
   "cell_type": "code",
   "execution_count": null,
   "metadata": {},
   "outputs": [],
   "source": [
    "exp_files = exp.files()"
   ]
  },
  {
   "cell_type": "code",
   "execution_count": null,
   "metadata": {},
   "outputs": [],
   "source": [
    "exp_files.head()"
   ]
  },
  {
   "cell_type": "code",
   "execution_count": null,
   "metadata": {},
   "outputs": [],
   "source": [
    "f.name"
   ]
  },
  {
   "cell_type": "code",
   "execution_count": null,
   "metadata": {},
   "outputs": [],
   "source": [
    "# with fm.open('r') as infile:\n",
    "#     df = pd.read_csv(infile,dtype={'filename':str,'type':str, 'id':np.int,'path':str})\n",
    "# df"
   ]
  },
  {
   "cell_type": "code",
   "execution_count": null,
   "metadata": {},
   "outputs": [],
   "source": [
    "exp._patient_manifest.patient_id.isin([1])"
   ]
  },
  {
   "cell_type": "code",
   "execution_count": null,
   "metadata": {},
   "outputs": [],
   "source": []
  }
 ],
 "metadata": {
  "kernelspec": {
   "display_name": "Python 3",
   "language": "python",
   "name": "python3"
  },
  "language_info": {
   "codemirror_mode": {
    "name": "ipython",
    "version": 3
   },
   "file_extension": ".py",
   "mimetype": "text/x-python",
   "name": "python",
   "nbconvert_exporter": "python",
   "pygments_lexer": "ipython3",
   "version": "3.6.8"
  }
 },
 "nbformat": 4,
 "nbformat_minor": 4
}
