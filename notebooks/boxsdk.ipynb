{
 "cells": [
  {
   "cell_type": "code",
   "execution_count": 1,
   "metadata": {},
   "outputs": [],
   "source": [
    "import os\n",
    "import warnings\n",
    "import numpy as np\n",
    "import luigi\n",
    "import emu.neuralynx_io as nlx\n",
    "from emu.pdil.raw import Electrophysiology,Participant,get_data_manifest,points_to_choice\n",
    "from emu.neuralynx_io import nev_as_records\n",
    "from emu.nwb import nlx_to_nwb\n",
    "from emu.pipeline.remote import RemoteCSV\n",
    "from pynwb import TimeSeries, NWBFile,NWBHDF5IO\n",
    "from pynwb.ecephys import ElectricalSeries\n",
    "from pynwb.misc import AnnotationSeries\n",
    "import pandas as pd\n",
    "import datetime\n",
    "import glob\n",
    "from emu.luigi.box import ReadableBoxFile,BoxTarget,BoxClient,file_id_to_path,path_to_root,obj_to_path,path_to_obj"
   ]
  },
  {
   "cell_type": "code",
   "execution_count": 2,
   "metadata": {},
   "outputs": [],
   "source": [
    "box = BoxClient()"
   ]
  },
  {
   "cell_type": "code",
   "execution_count": 3,
   "metadata": {},
   "outputs": [
    {
     "data": {
      "text/plain": [
       "'/EMU/STUDY_PDil/PT_01/electrode_locations.csv'"
      ]
     },
     "execution_count": 3,
     "metadata": {},
     "output_type": "execute_result"
    }
   ],
   "source": [
    "file_id_to_path(633265117086)"
   ]
  },
  {
   "cell_type": "code",
   "execution_count": 4,
   "metadata": {},
   "outputs": [],
   "source": [
    "from pathlib import Path\n",
    "import pathlib"
   ]
  },
  {
   "cell_type": "code",
   "execution_count": 5,
   "metadata": {},
   "outputs": [
    {
     "data": {
      "text/plain": [
       "False"
      ]
     },
     "execution_count": 5,
     "metadata": {},
     "output_type": "execute_result"
    }
   ],
   "source": [
    "isinstance('/EMU/STUDY_PDil/PT_01/SEEG/processed/PO_Day_02.nwb', Path)"
   ]
  },
  {
   "cell_type": "code",
   "execution_count": 6,
   "metadata": {},
   "outputs": [],
   "source": [
    "obj = path_to_obj(box.conn,'/EMU/STUDY_PDil/PT_01/SEEG/processed/PO_Day_02.nwb')\n",
    "# box.exists('/EMU/STUDY_PDil/PT_01/SEEG/processed/PO_Day_02.nwb')"
   ]
  },
  {
   "cell_type": "code",
   "execution_count": 25,
   "metadata": {},
   "outputs": [],
   "source": []
  },
  {
   "cell_type": "code",
   "execution_count": null,
   "metadata": {},
   "outputs": [],
   "source": [
    "box.conn.ge"
   ]
  },
  {
   "cell_type": "code",
   "execution_count": 8,
   "metadata": {},
   "outputs": [
    {
     "data": {
      "text/plain": [
       "True"
      ]
     },
     "execution_count": 8,
     "metadata": {},
     "output_type": "execute_result"
    }
   ],
   "source": [
    "box.isdir('/EMU/STUDY_PDil/PT_01/SEEG/processed')"
   ]
  },
  {
   "cell_type": "code",
   "execution_count": 20,
   "metadata": {},
   "outputs": [],
   "source": [
    "folder = path_to_obj(box.conn,'/EMU/STUDY_PDil/PT_01/SEEG/processed')"
   ]
  },
  {
   "cell_type": "code",
   "execution_count": 27,
   "metadata": {},
   "outputs": [],
   "source": [
    "src_path = '/home/elijahc/.emu/pdil/pt_01/SEEG/processed/PO_Day_02.mat'\n",
    "file_size = os.path.getsize(src_path)\n",
    "file_name = os.path.split(src_path)[-1]+'.test'\n",
    "upload_session = folder.create_upload_session(file_size, file_name)"
   ]
  },
  {
   "cell_type": "code",
   "execution_count": 36,
   "metadata": {},
   "outputs": [
    {
     "name": "stdout",
     "output_type": "stream",
     "text": [
      "<class '_io.BufferedReader'>\n",
      "part_size:  33554432\n",
      "read_part:  33554465\n"
     ]
    }
   ],
   "source": [
    "with open(src_path, 'rb') as file:\n",
    "    print(type(file))\n",
    "    print('part_size: ',upload_session.part_size)\n",
    "    \n",
    "    part= file.read(upload_session.part_size)\n",
    "    \n",
    "    print('read_part: ', sys.getsizeof(part))"
   ]
  },
  {
   "cell_type": "code",
   "execution_count": 34,
   "metadata": {},
   "outputs": [],
   "source": [
    "import sys\n",
    "\n"
   ]
  },
  {
   "cell_type": "code",
   "execution_count": 35,
   "metadata": {},
   "outputs": [
    {
     "data": {
      "text/plain": [
       "33554465"
      ]
     },
     "execution_count": 35,
     "metadata": {},
     "output_type": "execute_result"
    }
   ],
   "source": [
    "sys.getsizeof(part)"
   ]
  },
  {
   "cell_type": "code",
   "execution_count": 41,
   "metadata": {},
   "outputs": [
    {
     "data": {
      "text/plain": [
       "25"
      ]
     },
     "execution_count": 41,
     "metadata": {},
     "output_type": "execute_result"
    }
   ],
   "source": [
    "upload_session.total_parts"
   ]
  },
  {
   "cell_type": "code",
   "execution_count": 54,
   "metadata": {},
   "outputs": [],
   "source": [
    "def iter_bytes(part_size,total_parts,src_path):\n",
    "    with open(src_path, 'rb') as file:\n",
    "        for i in np.arange(total_parts):\n",
    "            yield (i, file.read(part_size))"
   ]
  },
  {
   "cell_type": "code",
   "execution_count": 55,
   "metadata": {},
   "outputs": [],
   "source": [
    "from tqdm import tqdm"
   ]
  },
  {
   "cell_type": "code",
   "execution_count": 56,
   "metadata": {},
   "outputs": [
    {
     "name": "stderr",
     "output_type": "stream",
     "text": [
      "0it [00:00, ?it/s]\u001b[31m\"PUT https://upload.box.com/api/2.0/files/upload_sessions/63725C813F7B02E4E61BF937AE7FE3A5\" 400 176\n",
      "{'Date': 'Fri, 13 Mar 2020 20:06:44 GMT', 'Content-Type': 'application/json; charset=UTF-8', 'Content-Length': '176', 'Connection': 'keep-alive', 'Strict-Transport-Security': 'max-age=31536000'}\n",
      "{'code': '---ange',\n",
      " 'message': \"Complete length 838860800 in Content-Range header doesn't match \"\n",
      "            'session file size 805815134',\n",
      " 'request_id': 'b221e2353e689337cc87c64593a61ab8'}\n",
      "\u001b[0m\n",
      "0it [00:07, ?it/s]\n"
     ]
    },
    {
     "ename": "BoxAPIException",
     "evalue": "Message: Complete length 838860800 in Content-Range header doesn't match session file size 805815134\nStatus: 400\nCode: invalid_range\nRequest ID: b221e2353e689337cc87c64593a61ab8\nHeaders: {'Date': 'Fri, 13 Mar 2020 20:06:44 GMT', 'Content-Type': 'application/json; charset=UTF-8', 'Content-Length': '176', 'Connection': 'keep-alive', 'Strict-Transport-Security': 'max-age=31536000'}\nURL: https://upload.box.com/api/2.0/files/upload_sessions/63725C813F7B02E4E61BF937AE7FE3A5\nMethod: PUT\nContext Info: None",
     "output_type": "error",
     "traceback": [
      "\u001b[0;31m---------------------------------------------------------------------------\u001b[0m",
      "\u001b[0;31mBoxAPIException\u001b[0m                           Traceback (most recent call last)",
      "\u001b[0;32m<ipython-input-56-ec8bb62a72cc>\u001b[0m in \u001b[0;36m<module>\u001b[0;34m\u001b[0m\n\u001b[1;32m      4\u001b[0m     \u001b[0mtotal_size\u001b[0m\u001b[0;34m=\u001b[0m\u001b[0mupload_session\u001b[0m\u001b[0;34m.\u001b[0m\u001b[0mpart_size\u001b[0m\u001b[0;34m*\u001b[0m\u001b[0mupload_session\u001b[0m\u001b[0;34m.\u001b[0m\u001b[0mtotal_parts\u001b[0m\u001b[0;34m\u001b[0m\u001b[0;34m\u001b[0m\u001b[0m\n\u001b[1;32m      5\u001b[0m \u001b[0;34m\u001b[0m\u001b[0m\n\u001b[0;32m----> 6\u001b[0;31m     \u001b[0mpart\u001b[0m \u001b[0;34m=\u001b[0m \u001b[0mupload_session\u001b[0m\u001b[0;34m.\u001b[0m\u001b[0mupload_part_bytes\u001b[0m\u001b[0;34m(\u001b[0m\u001b[0mpart_bytes\u001b[0m\u001b[0;34m,\u001b[0m \u001b[0moffset\u001b[0m\u001b[0;34m,\u001b[0m \u001b[0mtotal_size\u001b[0m\u001b[0;34m)\u001b[0m\u001b[0;34m\u001b[0m\u001b[0;34m\u001b[0m\u001b[0m\n\u001b[0m",
      "\u001b[0;32m/usr/local/lib/python3.6/dist-packages/boxsdk/object/upload_session.py\u001b[0m in \u001b[0;36mupload_part_bytes\u001b[0;34m(self, part_bytes, offset, total_size, part_content_sha1)\u001b[0m\n\u001b[1;32m     96\u001b[0m             \u001b[0mself\u001b[0m\u001b[0;34m.\u001b[0m\u001b[0mget_url\u001b[0m\u001b[0;34m(\u001b[0m\u001b[0;34m)\u001b[0m\u001b[0;34m,\u001b[0m\u001b[0;34m\u001b[0m\u001b[0;34m\u001b[0m\u001b[0m\n\u001b[1;32m     97\u001b[0m             \u001b[0mheaders\u001b[0m\u001b[0;34m=\u001b[0m\u001b[0mheaders\u001b[0m\u001b[0;34m,\u001b[0m\u001b[0;34m\u001b[0m\u001b[0;34m\u001b[0m\u001b[0m\n\u001b[0;32m---> 98\u001b[0;31m             \u001b[0mdata\u001b[0m\u001b[0;34m=\u001b[0m\u001b[0mpart_bytes\u001b[0m\u001b[0;34m,\u001b[0m\u001b[0;34m\u001b[0m\u001b[0;34m\u001b[0m\u001b[0m\n\u001b[0m\u001b[1;32m     99\u001b[0m         )\n\u001b[1;32m    100\u001b[0m         \u001b[0;32mreturn\u001b[0m \u001b[0mresponse\u001b[0m\u001b[0;34m.\u001b[0m\u001b[0mjson\u001b[0m\u001b[0;34m(\u001b[0m\u001b[0;34m)\u001b[0m\u001b[0;34m[\u001b[0m\u001b[0;34m'part'\u001b[0m\u001b[0;34m]\u001b[0m\u001b[0;34m\u001b[0m\u001b[0;34m\u001b[0m\u001b[0m\n",
      "\u001b[0;32m/usr/local/lib/python3.6/dist-packages/boxsdk/session/session.py\u001b[0m in \u001b[0;36mput\u001b[0;34m(self, url, **kwargs)\u001b[0m\n\u001b[1;32m    119\u001b[0m             \u001b[0;31m`\u001b[0m\u001b[0municode\u001b[0m\u001b[0;31m`\u001b[0m\u001b[0;34m\u001b[0m\u001b[0;34m\u001b[0m\u001b[0m\n\u001b[1;32m    120\u001b[0m         \"\"\"\n\u001b[0;32m--> 121\u001b[0;31m         \u001b[0;32mreturn\u001b[0m \u001b[0mself\u001b[0m\u001b[0;34m.\u001b[0m\u001b[0mrequest\u001b[0m\u001b[0;34m(\u001b[0m\u001b[0;34m'PUT'\u001b[0m\u001b[0;34m,\u001b[0m \u001b[0murl\u001b[0m\u001b[0;34m,\u001b[0m \u001b[0;34m**\u001b[0m\u001b[0mkwargs\u001b[0m\u001b[0;34m)\u001b[0m\u001b[0;34m\u001b[0m\u001b[0;34m\u001b[0m\u001b[0m\n\u001b[0m\u001b[1;32m    122\u001b[0m \u001b[0;34m\u001b[0m\u001b[0m\n\u001b[1;32m    123\u001b[0m     \u001b[0;32mdef\u001b[0m \u001b[0mdelete\u001b[0m\u001b[0;34m(\u001b[0m\u001b[0mself\u001b[0m\u001b[0;34m,\u001b[0m \u001b[0murl\u001b[0m\u001b[0;34m,\u001b[0m \u001b[0;34m**\u001b[0m\u001b[0mkwargs\u001b[0m\u001b[0;34m)\u001b[0m\u001b[0;34m:\u001b[0m\u001b[0;34m\u001b[0m\u001b[0;34m\u001b[0m\u001b[0m\n",
      "\u001b[0;32m/usr/local/lib/python3.6/dist-packages/boxsdk/session/session.py\u001b[0m in \u001b[0;36mrequest\u001b[0;34m(self, method, url, **kwargs)\u001b[0m\n\u001b[1;32m    155\u001b[0m             \u001b[0;31m`\u001b[0m\u001b[0municode\u001b[0m\u001b[0;31m`\u001b[0m\u001b[0;34m\u001b[0m\u001b[0;34m\u001b[0m\u001b[0m\n\u001b[1;32m    156\u001b[0m         \"\"\"\n\u001b[0;32m--> 157\u001b[0;31m         \u001b[0mresponse\u001b[0m \u001b[0;34m=\u001b[0m \u001b[0mself\u001b[0m\u001b[0;34m.\u001b[0m\u001b[0m_prepare_and_send_request\u001b[0m\u001b[0;34m(\u001b[0m\u001b[0mmethod\u001b[0m\u001b[0;34m,\u001b[0m \u001b[0murl\u001b[0m\u001b[0;34m,\u001b[0m \u001b[0;34m**\u001b[0m\u001b[0mkwargs\u001b[0m\u001b[0;34m)\u001b[0m\u001b[0;34m\u001b[0m\u001b[0;34m\u001b[0m\u001b[0m\n\u001b[0m\u001b[1;32m    158\u001b[0m         \u001b[0;32mreturn\u001b[0m \u001b[0mself\u001b[0m\u001b[0;34m.\u001b[0m\u001b[0mbox_response_constructor\u001b[0m\u001b[0;34m(\u001b[0m\u001b[0mresponse\u001b[0m\u001b[0;34m)\u001b[0m\u001b[0;34m\u001b[0m\u001b[0;34m\u001b[0m\u001b[0m\n\u001b[1;32m    159\u001b[0m \u001b[0;34m\u001b[0m\u001b[0m\n",
      "\u001b[0;32m/usr/local/lib/python3.6/dist-packages/boxsdk/session/session.py\u001b[0m in \u001b[0;36m_prepare_and_send_request\u001b[0;34m(self, method, url, headers, auto_session_renewal, expect_json_response, **kwargs)\u001b[0m\n\u001b[1;32m    398\u001b[0m             \u001b[0mnetwork_response\u001b[0m \u001b[0;34m=\u001b[0m \u001b[0mretry\u001b[0m\u001b[0;34m(\u001b[0m\u001b[0mrequest\u001b[0m\u001b[0;34m,\u001b[0m \u001b[0;34m**\u001b[0m\u001b[0mkwargs\u001b[0m\u001b[0;34m)\u001b[0m\u001b[0;34m\u001b[0m\u001b[0;34m\u001b[0m\u001b[0m\n\u001b[1;32m    399\u001b[0m \u001b[0;34m\u001b[0m\u001b[0m\n\u001b[0;32m--> 400\u001b[0;31m         \u001b[0mself\u001b[0m\u001b[0;34m.\u001b[0m\u001b[0m_raise_on_unsuccessful_request\u001b[0m\u001b[0;34m(\u001b[0m\u001b[0mnetwork_response\u001b[0m\u001b[0;34m,\u001b[0m \u001b[0mrequest\u001b[0m\u001b[0;34m)\u001b[0m\u001b[0;34m\u001b[0m\u001b[0;34m\u001b[0m\u001b[0m\n\u001b[0m\u001b[1;32m    401\u001b[0m \u001b[0;34m\u001b[0m\u001b[0m\n\u001b[1;32m    402\u001b[0m         \u001b[0;32mreturn\u001b[0m \u001b[0mnetwork_response\u001b[0m\u001b[0;34m\u001b[0m\u001b[0;34m\u001b[0m\u001b[0m\n",
      "\u001b[0;32m/usr/local/lib/python3.6/dist-packages/boxsdk/session/session.py\u001b[0m in \u001b[0;36m_raise_on_unsuccessful_request\u001b[0;34m(network_response, request)\u001b[0m\n\u001b[1;32m    321\u001b[0m                 \u001b[0mmethod\u001b[0m\u001b[0;34m=\u001b[0m\u001b[0mrequest\u001b[0m\u001b[0;34m.\u001b[0m\u001b[0mmethod\u001b[0m\u001b[0;34m,\u001b[0m\u001b[0;34m\u001b[0m\u001b[0;34m\u001b[0m\u001b[0m\n\u001b[1;32m    322\u001b[0m                 \u001b[0mcontext_info\u001b[0m\u001b[0;34m=\u001b[0m\u001b[0mresponse_json\u001b[0m\u001b[0;34m.\u001b[0m\u001b[0mget\u001b[0m\u001b[0;34m(\u001b[0m\u001b[0;34m'context_info'\u001b[0m\u001b[0;34m,\u001b[0m \u001b[0;32mNone\u001b[0m\u001b[0;34m)\u001b[0m\u001b[0;34m,\u001b[0m\u001b[0;34m\u001b[0m\u001b[0;34m\u001b[0m\u001b[0m\n\u001b[0;32m--> 323\u001b[0;31m                 \u001b[0mnetwork_response\u001b[0m\u001b[0;34m=\u001b[0m\u001b[0mnetwork_response\u001b[0m\u001b[0;34m\u001b[0m\u001b[0;34m\u001b[0m\u001b[0m\n\u001b[0m\u001b[1;32m    324\u001b[0m             )\n\u001b[1;32m    325\u001b[0m         \u001b[0;32mif\u001b[0m \u001b[0mrequest\u001b[0m\u001b[0;34m.\u001b[0m\u001b[0mexpect_json_response\u001b[0m \u001b[0;32mand\u001b[0m \u001b[0;32mnot\u001b[0m \u001b[0mis_json_response\u001b[0m\u001b[0;34m(\u001b[0m\u001b[0mnetwork_response\u001b[0m\u001b[0;34m)\u001b[0m\u001b[0;34m:\u001b[0m\u001b[0;34m\u001b[0m\u001b[0;34m\u001b[0m\u001b[0m\n",
      "\u001b[0;31mBoxAPIException\u001b[0m: Message: Complete length 838860800 in Content-Range header doesn't match session file size 805815134\nStatus: 400\nCode: invalid_range\nRequest ID: b221e2353e689337cc87c64593a61ab8\nHeaders: {'Date': 'Fri, 13 Mar 2020 20:06:44 GMT', 'Content-Type': 'application/json; charset=UTF-8', 'Content-Length': '176', 'Connection': 'keep-alive', 'Strict-Transport-Security': 'max-age=31536000'}\nURL: https://upload.box.com/api/2.0/files/upload_sessions/63725C813F7B02E4E61BF937AE7FE3A5\nMethod: PUT\nContext Info: None"
     ]
    }
   ],
   "source": [
    "for i,part_bytes in tqdm(iter_bytes(upload_session.part_size,upload_session.total_parts,src_path)):\n",
    "    offset = upload_session.part_size*i\n",
    "    \n",
    "    total_size=upload_session.part_size*upload_session.total_parts\n",
    "    \n",
    "    part = upload_session.upload_part_bytes(part_bytes, offset, total_size)"
   ]
  },
  {
   "cell_type": "code",
   "execution_count": 47,
   "metadata": {},
   "outputs": [
    {
     "data": {
      "text/plain": [
       "[33554465,\n",
       " 33554465,\n",
       " 33554465,\n",
       " 33554465,\n",
       " 33554465,\n",
       " 33554465,\n",
       " 33554465,\n",
       " 33554465,\n",
       " 33554465,\n",
       " 33554465,\n",
       " 33554465,\n",
       " 33554465,\n",
       " 33554465,\n",
       " 33554465,\n",
       " 33554465,\n",
       " 33554465,\n",
       " 33554465,\n",
       " 33554465,\n",
       " 33554465,\n",
       " 33554465,\n",
       " 33554465,\n",
       " 33554465,\n",
       " 33554465,\n",
       " 33554465,\n",
       " 33554465]"
      ]
     },
     "execution_count": 47,
     "metadata": {},
     "output_type": "execute_result"
    }
   ],
   "source": [
    "[sys.getsizeof(part) for p in gen_byte]"
   ]
  },
  {
   "cell_type": "code",
   "execution_count": 40,
   "metadata": {},
   "outputs": [],
   "source": [
    "for p in upload_session.get_parts():\n",
    "    print(p)"
   ]
  },
  {
   "cell_type": "code",
   "execution_count": 30,
   "metadata": {},
   "outputs": [
    {
     "data": {
      "text/plain": [
       "25"
      ]
     },
     "execution_count": 30,
     "metadata": {},
     "output_type": "execute_result"
    }
   ],
   "source": [
    "upload_session.upload_part_bytes()"
   ]
  },
  {
   "cell_type": "code",
   "execution_count": null,
   "metadata": {},
   "outputs": [],
   "source": [
    "\n",
    "resp = folder.create_upload_session()"
   ]
  },
  {
   "cell_type": "code",
   "execution_count": 21,
   "metadata": {},
   "outputs": [
    {
     "data": {
      "text/plain": [
       "<boxsdk.pagination.marker_based_dict_collection.MarkerBasedDictCollection at 0x7f992d72a518>"
      ]
     },
     "execution_count": 21,
     "metadata": {},
     "output_type": "execute_result"
    }
   ],
   "source": [
    "folder.get_all_metadata()"
   ]
  },
  {
   "cell_type": "code",
   "execution_count": 10,
   "metadata": {},
   "outputs": [
    {
     "name": "stderr",
     "output_type": "stream",
     "text": [
      "File larger than 200Mb, using chunked uploader\n"
     ]
    },
    {
     "data": {
      "text/plain": [
       "<Box File - 633760195823 (PO_Day_02.mat)>"
      ]
     },
     "execution_count": 10,
     "metadata": {},
     "output_type": "execute_result"
    }
   ],
   "source": [
    "box.upload('/EMU/STUDY_PDil/PT_01/SEEG/processed', src_path)"
   ]
  },
  {
   "cell_type": "code",
   "execution_count": 11,
   "metadata": {},
   "outputs": [],
   "source": [
    "nev_id = 632777789711\n",
    "nev_fp = '/home/elijahc/.emu/pdil/pt_01/SEEG/raw/PO_Day_02.Events.nev'"
   ]
  },
  {
   "cell_type": "code",
   "execution_count": 12,
   "metadata": {},
   "outputs": [],
   "source": [
    "from emu.neuralynx_io import read_header, read_records,parse_header,load_nev"
   ]
  },
  {
   "cell_type": "code",
   "execution_count": 13,
   "metadata": {},
   "outputs": [],
   "source": [
    "box = BoxClient()\n",
    "root_folder = box.folder(106535506845)\n",
    "f = box.file(nev_id)\n"
   ]
  },
  {
   "cell_type": "code",
   "execution_count": 14,
   "metadata": {},
   "outputs": [
    {
     "data": {
      "text/plain": [
       "boxsdk.object.folder.Folder"
      ]
     },
     "execution_count": 14,
     "metadata": {},
     "output_type": "execute_result"
    }
   ],
   "source": [
    "import boxsdk\n",
    "boxsdk.object.folder.Folder"
   ]
  },
  {
   "cell_type": "code",
   "execution_count": 15,
   "metadata": {},
   "outputs": [
    {
     "data": {
      "text/plain": [
       "boxsdk.object.folder.Folder"
      ]
     },
     "execution_count": 15,
     "metadata": {},
     "output_type": "execute_result"
    }
   ],
   "source": [
    "type(path_to_obj(box.conn,'/EMU/STUDY_PDil/PT_01/SEEG').get())"
   ]
  },
  {
   "cell_type": "code",
   "execution_count": 16,
   "metadata": {},
   "outputs": [
    {
     "name": "stderr",
     "output_type": "stream",
     "text": [
      "Dropbox paths should NOT have trailing slashes. This causes additional API calls\n",
      "Consider modifying your calls to isdir, so that they don't use paths than end with '/'\n"
     ]
    },
    {
     "data": {
      "text/plain": [
       "True"
      ]
     },
     "execution_count": 16,
     "metadata": {},
     "output_type": "execute_result"
    }
   ],
   "source": [
    "box.isdir('/EMU/STUDY_PDil/PT_01/SEEG/')"
   ]
  },
  {
   "cell_type": "code",
   "execution_count": 17,
   "metadata": {},
   "outputs": [
    {
     "data": {
      "text/plain": [
       "['/EMU/STUDY_PDil/PT_01/SEEG',\n",
       " '/EMU/STUDY_deepfakeANDtrickShots/trickShots/PT_01/SEEG',\n",
       " '/EMU/RAW_ephysData_testing/test_pt/sEEG',\n",
       " '//SEEG_SampleDATA',\n",
       " '/EMU/_patient_manifest.csv']"
      ]
     },
     "execution_count": 17,
     "metadata": {},
     "output_type": "execute_result"
    }
   ],
   "source": [
    "results = box.conn.search().query('SEEG',limit=100,order='relevance')\n",
    "[obj_to_path(r) for r in results]\n",
    "# for r in results:\n",
    "#     print([f.name for f in r.path_collection['entries']])\n",
    "#     print('name:{}, id:{}'.format(r.name,r.id))"
   ]
  },
  {
   "cell_type": "code",
   "execution_count": 18,
   "metadata": {},
   "outputs": [
    {
     "name": "stderr",
     "output_type": "stream",
     "text": [
      "Dropbox paths should NOT have trailing slashes. This causes additional API calls\n",
      "Consider modifying your calls to isdir, so that they don't use paths than end with '/'\n"
     ]
    },
    {
     "data": {
      "text/plain": [
       "True"
      ]
     },
     "execution_count": 18,
     "metadata": {},
     "output_type": "execute_result"
    }
   ],
   "source": [
    "box.isdir('/EMU/STUDY_PDil/PT_01/SEEG/')"
   ]
  },
  {
   "cell_type": "code",
   "execution_count": 19,
   "metadata": {},
   "outputs": [
    {
     "ename": "NameError",
     "evalue": "name 'fold' is not defined",
     "output_type": "error",
     "traceback": [
      "\u001b[0;31m---------------------------------------------------------------------------\u001b[0m",
      "\u001b[0;31mNameError\u001b[0m                                 Traceback (most recent call last)",
      "\u001b[0;32m<ipython-input-19-8d679378168b>\u001b[0m in \u001b[0;36m<module>\u001b[0;34m\u001b[0m\n\u001b[0;32m----> 1\u001b[0;31m \u001b[0mpath_to_root\u001b[0m\u001b[0;34m(\u001b[0m\u001b[0mfold\u001b[0m\u001b[0;34m)\u001b[0m\u001b[0;34m\u001b[0m\u001b[0;34m\u001b[0m\u001b[0m\n\u001b[0m",
      "\u001b[0;31mNameError\u001b[0m: name 'fold' is not defined"
     ]
    }
   ],
   "source": [
    "path_to_root(fold)"
   ]
  },
  {
   "cell_type": "code",
   "execution_count": null,
   "metadata": {},
   "outputs": [],
   "source": []
  }
 ],
 "metadata": {
  "kernelspec": {
   "display_name": "Python 3",
   "language": "python",
   "name": "python3"
  },
  "language_info": {
   "codemirror_mode": {
    "name": "ipython",
    "version": 3
   },
   "file_extension": ".py",
   "mimetype": "text/x-python",
   "name": "python",
   "nbconvert_exporter": "python",
   "pygments_lexer": "ipython3",
   "version": "3.6.8"
  }
 },
 "nbformat": 4,
 "nbformat_minor": 4
}
